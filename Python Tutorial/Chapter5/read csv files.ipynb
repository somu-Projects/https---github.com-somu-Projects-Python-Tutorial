{
 "cells": [
  {
   "cell_type": "code",
   "execution_count": 7,
   "metadata": {},
   "outputs": [
    {
     "name": "stdout",
     "output_type": "stream",
     "text": [
      "printing the columns: \n",
      "  Sr.No, Roll No, Student Name, CUTM1017, CUTM1030, CUTM1038, CUTM1031, CUTM1603, CUTM1032, CUTM3115, CUTM1017, CUTM3049, CUTM1031, CUTM3130, CUTM3142, CUTM3037, CUTM1032, CUTM3122, CUTM3051, CUTM3074, CUTM3073, CUTM3065, CUTM3063, CUTM1016, CUTM3054, CUTM1603, CUTM1025, CUTM3056, CUTM1030, CUTM1038, CUTM3053, CUTM3073, CUTM3122, CUTM3051, CUTM3074, CUTM1030, CUTM1021, CUTM1017, CUTM3065, CUTM3063, CUTM1032, CUTM3037, CUTM1603, CUTM3142, CUTM3130, CUTM3053, CUTM1031, CUTM3056, CUTM1022, CUTM3049, CUTM3054, CUTM3115, TH %, PR %, Total %\n"
     ]
    }
   ],
   "source": [
    "# Read the csv file \n",
    "import csv    \n",
    "with open('read.csv') as csv_file:    \n",
    "    csv_reader = csv.reader(csv_file, delimiter=',')    \n",
    "    line_count = 0    \n",
    "    print(\"printing the columns: \")\n",
    "    for row in csv_reader:    \n",
    "        if line_count == 0:    \n",
    "            print(f'  {\", \".join(row)}')    \n",
    "            line_count += 1    "
   ]
  },
  {
   "cell_type": "code",
   "execution_count": 21,
   "metadata": {},
   "outputs": [
    {
     "name": "stdout",
     "output_type": "stream",
     "text": [
      "The Column names are as follows name, department, birthday month    \n"
     ]
    },
    {
     "ename": "KeyError",
     "evalue": "'birthday month'",
     "output_type": "error",
     "traceback": [
      "\u001b[1;31m---------------------------------------------------------------------------\u001b[0m",
      "\u001b[1;31mKeyError\u001b[0m                                  Traceback (most recent call last)",
      "\u001b[1;32mc:\\Users\\Administrator\\Desktop\\Python Tutorial\\Chapter5\\read csv files.ipynb Cell 2\u001b[0m in \u001b[0;36m<cell line: 2>\u001b[1;34m()\u001b[0m\n\u001b[0;32m      <a href='vscode-notebook-cell:/c%3A/Users/Administrator/Desktop/Python%20Tutorial/Chapter5/read%20csv%20files.ipynb#W1sZmlsZQ%3D%3D?line=6'>7</a>\u001b[0m         \u001b[39mprint\u001b[39m(\u001b[39mf\u001b[39m\u001b[39m'\u001b[39m\u001b[39mThe Column names are as follows \u001b[39m\u001b[39m{\u001b[39;00m\u001b[39m\"\u001b[39m\u001b[39m, \u001b[39m\u001b[39m\"\u001b[39m\u001b[39m.\u001b[39mjoin(row)\u001b[39m}\u001b[39;00m\u001b[39m'\u001b[39m)    \n\u001b[0;32m      <a href='vscode-notebook-cell:/c%3A/Users/Administrator/Desktop/Python%20Tutorial/Chapter5/read%20csv%20files.ipynb#W1sZmlsZQ%3D%3D?line=7'>8</a>\u001b[0m         line_count \u001b[39m+\u001b[39m\u001b[39m=\u001b[39m \u001b[39m1\u001b[39m    \n\u001b[1;32m----> <a href='vscode-notebook-cell:/c%3A/Users/Administrator/Desktop/Python%20Tutorial/Chapter5/read%20csv%20files.ipynb#W1sZmlsZQ%3D%3D?line=8'>9</a>\u001b[0m     \u001b[39mprint\u001b[39m(\u001b[39mf\u001b[39m\u001b[39m'\u001b[39m\u001b[39m\\t\u001b[39;00m\u001b[39m{\u001b[39;00mrow[\u001b[39m\"\u001b[39m\u001b[39mname\u001b[39m\u001b[39m\"\u001b[39m]\u001b[39m}\u001b[39;00m\u001b[39m works in the \u001b[39m\u001b[39m{\u001b[39;00mrow[\u001b[39m\"\u001b[39m\u001b[39mdepartment\u001b[39m\u001b[39m\"\u001b[39m]\u001b[39m}\u001b[39;00m\u001b[39m department, and was born in \u001b[39m\u001b[39m{\u001b[39;00mrow[\u001b[39m\"\u001b[39m\u001b[39mbirthday month\u001b[39m\u001b[39m\"\u001b[39m]\u001b[39m}\u001b[39;00m\u001b[39m.\u001b[39m\u001b[39m'\u001b[39m)    \n\u001b[0;32m     <a href='vscode-notebook-cell:/c%3A/Users/Administrator/Desktop/Python%20Tutorial/Chapter5/read%20csv%20files.ipynb#W1sZmlsZQ%3D%3D?line=9'>10</a>\u001b[0m     line_count \u001b[39m+\u001b[39m\u001b[39m=\u001b[39m \u001b[39m1\u001b[39m    \n\u001b[0;32m     <a href='vscode-notebook-cell:/c%3A/Users/Administrator/Desktop/Python%20Tutorial/Chapter5/read%20csv%20files.ipynb#W1sZmlsZQ%3D%3D?line=10'>11</a>\u001b[0m \u001b[39mprint\u001b[39m(\u001b[39mf\u001b[39m\u001b[39m'\u001b[39m\u001b[39mProcessed \u001b[39m\u001b[39m{\u001b[39;00mline_count\u001b[39m}\u001b[39;00m\u001b[39m lines.\u001b[39m\u001b[39m'\u001b[39m)\n",
      "\u001b[1;31mKeyError\u001b[0m: 'birthday month'"
     ]
    }
   ],
   "source": [
    "import csv      \n",
    "with open('Read.txt', mode='r') as csv_file:    \n",
    "    csv_reader = csv.DictReader(csv_file)    \n",
    "    line_count = 0    \n",
    "    for row in csv_reader:    \n",
    "        if line_count == 0:    \n",
    "            print(f'The Column names are as follows {\", \".join(row)}')    \n",
    "            line_count += 1    \n",
    "        print(f'\\t{row[\"name\"]} works in the {row[\"department\"]} department, and was born in {row[\"birthday month\"]}.')    \n",
    "        line_count += 1    \n",
    "    print(f'Processed {line_count} lines.') "
   ]
  },
  {
   "cell_type": "code",
   "execution_count": 23,
   "metadata": {},
   "outputs": [
    {
     "name": "stdout",
     "output_type": "stream",
     "text": [
      "                 Name Hire Date   Salary  Leaves Remaining    \n",
      "0           John Idle  08/15/14  50000.0                    10\n",
      "1       Smith Gilliam  04/07/15  65000.0                     8\n",
      "2      Parker Chapman  02/21/14  45000.0                    10\n",
      "3         Jones Palin  10/14/13  70000.0                     3\n",
      "4       Terry Gilliam  07/22/14  48000.0                     7\n",
      "5       Michael Palin  06/28/13  66000.0                     8\n"
     ]
    }
   ],
   "source": [
    "# Reading csv files with Pandas\n",
    "# ==============================\n",
    "import pandas\n",
    "df=pandas.read_csv(\"emp.csv\")\n",
    "print(df)"
   ]
  },
  {
   "cell_type": "code",
   "execution_count": 22,
   "metadata": {},
   "outputs": [
    {
     "name": "stdout",
     "output_type": "stream",
     "text": [
      "Collecting pandas\n",
      "  Downloading pandas-1.4.4-cp310-cp310-win_amd64.whl (10.0 MB)\n",
      "     --------------------------------------- 10.0/10.0 MB 21.2 MB/s eta 0:00:00\n",
      "Requirement already satisfied: numpy>=1.21.0 in c:\\users\\administrator\\appdata\\local\\programs\\python\\python310\\lib\\site-packages (from pandas) (1.23.2)\n",
      "Requirement already satisfied: python-dateutil>=2.8.1 in c:\\users\\administrator\\appdata\\roaming\\python\\python310\\site-packages (from pandas) (2.8.2)\n",
      "Collecting pytz>=2020.1\n",
      "  Downloading pytz-2022.2.1-py2.py3-none-any.whl (500 kB)\n",
      "     ------------------------------------- 500.6/500.6 KB 15.3 MB/s eta 0:00:00\n",
      "Requirement already satisfied: six>=1.5 in c:\\users\\administrator\\appdata\\roaming\\python\\python310\\site-packages (from python-dateutil>=2.8.1->pandas) (1.16.0)\n",
      "Installing collected packages: pytz, pandas\n",
      "Successfully installed pandas-1.4.4 pytz-2022.2.1\n",
      "Note: you may need to restart the kernel to use updated packages.\n"
     ]
    },
    {
     "name": "stderr",
     "output_type": "stream",
     "text": [
      "WARNING: You are using pip version 22.0.4; however, version 22.2.2 is available.\n",
      "You should consider upgrading via the 'c:\\Users\\Administrator\\AppData\\Local\\Programs\\Python\\Python310\\python.exe -m pip install --upgrade pip' command.\n"
     ]
    }
   ],
   "source": [
    "pip install pandas"
   ]
  },
  {
   "cell_type": "code",
   "execution_count": 29,
   "metadata": {},
   "outputs": [
    {
     "name": "stdout",
     "output_type": "stream",
     "text": [
      "Writing complete\n",
      " Reading csv File using pandas\n",
      "==============================\n",
      "  first_name  last_name Rank\n",
      "0     Parker      Brian    B\n",
      "1      Smith  Rodriguez    A\n",
      "2       Jane      Oscar    B\n",
      "3       Jane      Loive    B\n"
     ]
    }
   ],
   "source": [
    "'''WRITTING AND READING A CSV FILE USING PANDAS'''\n",
    "import csv    \n",
    "import pandas\n",
    "        \n",
    "with open('Python.csv', 'w') as csvfile:    \n",
    "    fieldnames = ['first_name', 'last_name', 'Rank']    \n",
    "    writer = csv.DictWriter(csvfile, fieldnames=fieldnames)    \n",
    "        \n",
    "    writer.writeheader()    \n",
    "    writer.writerow({'Rank': 'B', 'first_name': 'Parker', 'last_name': 'Brian'})    \n",
    "    writer.writerow({'Rank': 'A', 'first_name': 'Smith',    \n",
    "                        'last_name': 'Rodriguez'})    \n",
    "    writer.writerow({'Rank': 'B', 'first_name': 'Jane', 'last_name': 'Oscar'})    \n",
    "    writer.writerow({'Rank': 'B', 'first_name': 'Jane', 'last_name': 'Loive'})    \n",
    "        \n",
    "print(\"Writing complete\")    \n",
    "print(\" Reading csv File using pandas\")\n",
    "print(\"==============================\")\n",
    "df=pandas.read_csv(\"Python.csv\")\n",
    "print(df)\n"
   ]
  },
  {
   "cell_type": "code",
   "execution_count": 31,
   "metadata": {},
   "outputs": [],
   "source": [
    "# Write a CSV into a Dictionary\n",
    "# +++++++++++++++++++++++++++++\n",
    "import csv    \n",
    "with open('python.csv', mode='w') as csv_file:    \n",
    "    fieldnames = ['emp_name', 'dept', 'birth_month']    \n",
    "    writer = csv.DictWriter(csv_file, fieldnames=fieldnames)    \n",
    "    writer.writeheader()    \n",
    "    writer.writerow({'emp_name': 'Parker', 'dept': 'Accounting', 'birth_month': 'November'})    \n",
    "    writer.writerow({'emp_name': 'Smith', 'dept': 'IT', 'birth_month': 'October'})    "
   ]
  },
  {
   "cell_type": "code",
   "execution_count": 32,
   "metadata": {},
   "outputs": [],
   "source": [
    "# Writing CSV Files Using Pandas\n",
    "# ++++++++++++++++++++++++++++++\n",
    "import pandas    \n",
    "df = pandas.read_csv('hrdata.csv',     \n",
    "            index_col='Employee',     \n",
    "            parse_dates=['Hired'],    \n",
    "            header=0,     \n",
    "            names=['Employee', 'Hired', 'Salary', 'Sick Days'])    \n",
    "df.to_csv('hrdata_modified.csv')    "
   ]
  }
 ],
 "metadata": {
  "kernelspec": {
   "display_name": "Python 3.10.4 64-bit",
   "language": "python",
   "name": "python3"
  },
  "language_info": {
   "codemirror_mode": {
    "name": "ipython",
    "version": 3
   },
   "file_extension": ".py",
   "mimetype": "text/x-python",
   "name": "python",
   "nbconvert_exporter": "python",
   "pygments_lexer": "ipython3",
   "version": "3.10.4"
  },
  "orig_nbformat": 4,
  "vscode": {
   "interpreter": {
    "hash": "3196968d684371006099b3d55edeef8ed90365227a30deaef86e5d4aa8519be0"
   }
  }
 },
 "nbformat": 4,
 "nbformat_minor": 2
}
