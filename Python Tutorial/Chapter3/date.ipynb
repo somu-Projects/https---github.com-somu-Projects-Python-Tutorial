{
 "cells": [
  {
   "cell_type": "code",
   "execution_count": 2,
   "metadata": {},
   "outputs": [
    {
     "name": "stdout",
     "output_type": "stream",
     "text": [
      "1662701385.9733868\n",
      "time.struct_time(tm_year=2022, tm_mon=9, tm_mday=9, tm_hour=10, tm_min=59, tm_sec=45, tm_wday=4, tm_yday=252, tm_isdst=0)\n"
     ]
    }
   ],
   "source": [
    "# Python Date and time\n",
    "# ====================\n",
    "# Python provides the datetime module work with real dates and times. \n",
    "# In real-world applications, we need to work with the date and time. \n",
    "# Python enables us to schedule our Python script to run at a particular timing.\n",
    "# In Python, the date is not a data type, but we can work with the date objects by \n",
    "# importing the module named with datetime, time, and calendar.\n",
    "# In this section of the tutorial, we will discuss how to work with the date and time objects in Python.\n",
    "# The datetime classes are classified in the six main classes.\n",
    "# =================================================\n",
    "# date - It is a naive ideal date. It consists of the year, month, and day as attributes.\n",
    "# time - It is a perfect time, assuming every day has precisely 24*60*60 seconds. \n",
    "# It has hour, minute, second, microsecond, and tzinfo as attributes.\n",
    "# datetime - It is a grouping of date and time, along with the attributes year, month, day,\n",
    "#  hour, minute, second, microsecond, and tzinfo.\n",
    "# timedelta - It represents the difference between two dates, time or datetime instances to microsecond resolution.\n",
    "# tzinfo - It provides time zone information objects.\n",
    "# timezone - It is included in the new version of Python. It is the class that implements the tzinfo abstract base class.\n",
    "import time;  \n",
    "#prints the number of ticks spent since 12 AM, 1st January 1970  \n",
    "print(time.time()) \n",
    "# print local time\n",
    "print(time.localtime(time.time()))  "
   ]
  },
  {
   "cell_type": "code",
   "execution_count": 3,
   "metadata": {},
   "outputs": [
    {
     "name": "stdout",
     "output_type": "stream",
     "text": [
      "Fri Sep  9 11:01:14 2022\n"
     ]
    }
   ],
   "source": [
    "# Time tuple\n",
    "# ==================\n",
    "# The time is treated as the tuple of 9 numbers. Let's look at the members of the time tuple.\n",
    "# Index \tAttribute \tValues\n",
    "# 0 \tYear \t4 digit (for example 2018)\n",
    "# 1 \tMonth \t1 to 12\n",
    "# 2 \tDay \t1 to 31\n",
    "# 3 \tHour \t0 to 23\n",
    "# 4 \tMinute \t0 to 59\n",
    "# 5 \tSecond \t0 to 60\n",
    "# 6 \tDay of weak \t0 to 6\n",
    "# 7 \tDay of year \t1 to 366\n",
    "# 8 \tDaylight savings \t-1, 0, 1 , or -1\n",
    "\n",
    "# Getting formatted time\n",
    "# ======================\n",
    "# The time can be formatted by using the asctime() function of the time module. \n",
    "# It returns the formatted time for the time tuple being passed.\n",
    "import time    \n",
    "    #returns the formatted time      \n",
    "    \n",
    "print(time.asctime(time.localtime(time.time())))  "
   ]
  },
  {
   "cell_type": "code",
   "execution_count": 9,
   "metadata": {},
   "outputs": [
    {
     "name": "stdout",
     "output_type": "stream",
     "text": [
      "0\n",
      "1\n",
      "2\n",
      "3\n",
      "4\n"
     ]
    }
   ],
   "source": [
    "# Python sleep time\n",
    "\n",
    "# The sleep() method of time module is used to stop the execution of the script for a given amount of time. \n",
    "# The output will be delayed for the number of seconds provided as the float.\n",
    "import time  \n",
    "for i in range(0,5):  \n",
    "    print(i)  \n",
    "    #Each element will be printed after 1 second  \n",
    "    time.sleep(1)  "
   ]
  },
  {
   "cell_type": "code",
   "execution_count": 13,
   "metadata": {},
   "outputs": [
    {
     "name": "stdout",
     "output_type": "stream",
     "text": [
      "2020-04-04 00:00:00\n"
     ]
    }
   ],
   "source": [
    "# Creating date objects\n",
    "# =====================\n",
    "# We can create the date objects bypassing the desired date in the datetime constructor \n",
    "# for which the date objects are to be created.\n",
    "import datetime    \n",
    "#returns the datetime object for the specified date  \n",
    "# print(datetime.datetime(2020,04,04))    \n",
    "print(datetime.datetime(2020,4,4))"
   ]
  },
  {
   "cell_type": "code",
   "execution_count": 14,
   "metadata": {},
   "outputs": [
    {
     "name": "stdout",
     "output_type": "stream",
     "text": [
      "2020-04-04 01:26:40\n"
     ]
    }
   ],
   "source": [
    "import datetime  \n",
    "#returns the datetime object for the specified time      \n",
    "print(datetime.datetime(2020,4,4,1,26,40))    "
   ]
  },
  {
   "cell_type": "code",
   "execution_count": 10,
   "metadata": {},
   "outputs": [
    {
     "name": "stdout",
     "output_type": "stream",
     "text": [
      "2022-09-09 11:07:13.262642\n"
     ]
    }
   ],
   "source": [
    "# The datetime Module\n",
    "# ===================\n",
    "# The datetime module enables us to create the custom date objects, perform various operations on dates like the comparison, etc.\n",
    "# To work with dates as date objects, we have to import the datetime module into the python source code.\n",
    "import datetime  \n",
    "#returns the current datetime object     \n",
    "print(datetime.datetime.now())    "
   ]
  },
  {
   "cell_type": "code",
   "execution_count": 17,
   "metadata": {},
   "outputs": [
    {
     "name": "stdout",
     "output_type": "stream",
     "text": [
      "Working hours....\n"
     ]
    }
   ],
   "source": [
    "#Compares the time. If the time is in between 8AM and 4PM, then it prints working hours otherwise it prints fun hours.\n",
    "# ===================================================================================================================\n",
    "from datetime import datetime as dt    \n",
    "#Compares the time. If the time is in between 8AM and 4PM, then it prints working hours otherwise it prints fun hours    \n",
    "if dt(dt.now().year,dt.now().month,dt.now().day,9)<dt.now()<dt(dt.now().year,dt.now().month,dt.now().day,17):    \n",
    "    print(\"Working hours....\")    \n",
    "else:    \n",
    "    print(\"fun hours\")   "
   ]
  },
  {
   "cell_type": "code",
   "execution_count": 19,
   "metadata": {},
   "outputs": [
    {
     "name": "stdout",
     "output_type": "stream",
     "text": [
      "  September 20220\n",
      "Mo Tu We Th Fr Sa Su\n",
      "             1  2  3\n",
      " 4  5  6  7  8  9 10\n",
      "11 12 13 14 15 16 17\n",
      "18 19 20 21 22 23 24\n",
      "25 26 27 28 29 30\n",
      "\n"
     ]
    }
   ],
   "source": [
    "# The calendar module\n",
    "# ==================\n",
    "# Python provides a calendar object that contains various methods to work with the calendars.\n",
    "\n",
    "# Consider the following example to print the calendar for the last month of 2018.\n",
    "\n",
    "\n",
    "import calendar;    \n",
    "cal = calendar.month(20220,9)    \n",
    "#printing the calendar of December 2018    \n",
    "print(cal)    "
   ]
  },
  {
   "cell_type": "code",
   "execution_count": 20,
   "metadata": {},
   "outputs": [
    {
     "name": "stdout",
     "output_type": "stream",
     "text": [
      "                                  2022\n",
      "\n",
      "      January                   February                   March\n",
      "Mo Tu We Th Fr Sa Su      Mo Tu We Th Fr Sa Su      Mo Tu We Th Fr Sa Su\n",
      "                1  2          1  2  3  4  5  6          1  2  3  4  5  6\n",
      " 3  4  5  6  7  8  9       7  8  9 10 11 12 13       7  8  9 10 11 12 13\n",
      "10 11 12 13 14 15 16      14 15 16 17 18 19 20      14 15 16 17 18 19 20\n",
      "17 18 19 20 21 22 23      21 22 23 24 25 26 27      21 22 23 24 25 26 27\n",
      "24 25 26 27 28 29 30      28                        28 29 30 31\n",
      "31\n",
      "\n",
      "       April                      May                       June\n",
      "Mo Tu We Th Fr Sa Su      Mo Tu We Th Fr Sa Su      Mo Tu We Th Fr Sa Su\n",
      "             1  2  3                         1             1  2  3  4  5\n",
      " 4  5  6  7  8  9 10       2  3  4  5  6  7  8       6  7  8  9 10 11 12\n",
      "11 12 13 14 15 16 17       9 10 11 12 13 14 15      13 14 15 16 17 18 19\n",
      "18 19 20 21 22 23 24      16 17 18 19 20 21 22      20 21 22 23 24 25 26\n",
      "25 26 27 28 29 30         23 24 25 26 27 28 29      27 28 29 30\n",
      "                          30 31\n",
      "\n",
      "        July                     August                  September\n",
      "Mo Tu We Th Fr Sa Su      Mo Tu We Th Fr Sa Su      Mo Tu We Th Fr Sa Su\n",
      "             1  2  3       1  2  3  4  5  6  7                1  2  3  4\n",
      " 4  5  6  7  8  9 10       8  9 10 11 12 13 14       5  6  7  8  9 10 11\n",
      "11 12 13 14 15 16 17      15 16 17 18 19 20 21      12 13 14 15 16 17 18\n",
      "18 19 20 21 22 23 24      22 23 24 25 26 27 28      19 20 21 22 23 24 25\n",
      "25 26 27 28 29 30 31      29 30 31                  26 27 28 29 30\n",
      "\n",
      "      October                   November                  December\n",
      "Mo Tu We Th Fr Sa Su      Mo Tu We Th Fr Sa Su      Mo Tu We Th Fr Sa Su\n",
      "                1  2          1  2  3  4  5  6                1  2  3  4\n",
      " 3  4  5  6  7  8  9       7  8  9 10 11 12 13       5  6  7  8  9 10 11\n",
      "10 11 12 13 14 15 16      14 15 16 17 18 19 20      12 13 14 15 16 17 18\n",
      "17 18 19 20 21 22 23      21 22 23 24 25 26 27      19 20 21 22 23 24 25\n",
      "24 25 26 27 28 29 30      28 29 30                  26 27 28 29 30 31\n",
      "31\n"
     ]
    }
   ],
   "source": [
    "# Printing the calendar of whole year\n",
    "# ====================================\n",
    "# The prcal() method of calendar module is used to print the calendar of the entire year. \n",
    "# The year of which the calendar is to be printed must be passed into this method.\n",
    "import calendar    \n",
    "#printing the calendar of the year 2019    \n",
    "s = calendar.prcal(2022) "
   ]
  },
  {
   "cell_type": "code",
   "execution_count": null,
   "metadata": {},
   "outputs": [],
   "source": []
  }
 ],
 "metadata": {
  "kernelspec": {
   "display_name": "Python 3.10.4 64-bit",
   "language": "python",
   "name": "python3"
  },
  "language_info": {
   "codemirror_mode": {
    "name": "ipython",
    "version": 3
   },
   "file_extension": ".py",
   "mimetype": "text/x-python",
   "name": "python",
   "nbconvert_exporter": "python",
   "pygments_lexer": "ipython3",
   "version": "3.10.4"
  },
  "orig_nbformat": 4,
  "vscode": {
   "interpreter": {
    "hash": "3196968d684371006099b3d55edeef8ed90365227a30deaef86e5d4aa8519be0"
   }
  }
 },
 "nbformat": 4,
 "nbformat_minor": 2
}
