{
 "cells": [
  {
   "cell_type": "code",
   "execution_count": null,
   "metadata": {},
   "outputs": [],
   "source": [
    "#step-1 download the sample data from library,\n",
    "# import bokeh.sampledata\n",
    "# bokeh.sampledata.download()"
   ]
  },
  {
   "cell_type": "code",
   "execution_count": null,
   "metadata": {},
   "outputs": [],
   "source": [
    "from pathlib import Path\n",
    "DATA_PATH = Path('../datasets/chap5_data/')"
   ]
  },
  {
   "cell_type": "code",
   "execution_count": null,
   "metadata": {},
   "outputs": [],
   "source": [
    "#step-2 import required libraries\n",
    "import pandas as pd\n",
    "from bokeh.plotting import figure, output_notebook, show, ColumnDataSource\n",
    "from bokeh.io import push_notebook, show, output_notebook\n",
    "from ipywidgets import interact\n",
    "output_notebook()"
   ]
  },
  {
   "cell_type": "code",
   "execution_count": null,
   "metadata": {},
   "outputs": [],
   "source": [
    "# Step-3 initalize the figure\n",
    "TOOLTIPS = [\n",
    "    (\"date\", \"@date\"),\n",
    "    (\"value\", \"@close\")\n",
    "]\n",
    "p = figure(title=\"Interactive plot to change line width and color\", plot_width=900,\n",
    "           plot_height=400, x_axis_type=\"datetime\", tooltips=TOOLTIPS)\n"
   ]
  },
  {
   "cell_type": "code",
   "execution_count": null,
   "metadata": {},
   "outputs": [],
   "source": [
    "# step-4 helper function to return dataframes.\n",
    "def prepare_data():\n",
    "    microsoft_stock = pd.read_csv(DATA_PATH / \"microsoft_stock_ex6.csv\")\n",
    "    microsoft_stock[\"date\"] = pd.to_datetime(microsoft_stock[\"date\"])\n",
    "    google_stock = pd.read_csv(DATA_PATH / \"google_stock_ex6.csv\")\n",
    "    google_stock[\"date\"] = pd.to_datetime(google_stock[\"date\"])\n",
    "    \n",
    "    return microsoft_stock, google_stock\n"
   ]
  },
  {
   "cell_type": "code",
   "execution_count": null,
   "metadata": {},
   "outputs": [],
   "source": [
    "# step-5 call the helper function to get the dataframes\n",
    "microsoft_stock, google_stock = prepare_data()"
   ]
  },
  {
   "cell_type": "code",
   "execution_count": null,
   "metadata": {},
   "outputs": [],
   "source": [
    "# step-6 Add the lines for both dataframes\n",
    "microsoft_line=p.line(\"date\",\"close\", source=microsoft_stock, line_width=1.5, legend=\"microsoft_stock\")\n",
    "google_line = p.line(\"date\", \"close\", source=google_stock, line_width=1.5, legend=\"google_stock\")"
   ]
  },
  {
   "cell_type": "code",
   "execution_count": null,
   "metadata": {},
   "outputs": [],
   "source": [
    "#custom function define how to interact for user event.\n",
    "def update(color, width=1):\n",
    "    google_line.glyph.line_color = color\n",
    "    google_line.glyph.line_width = width\n",
    "    push_notebook()"
   ]
  },
  {
   "cell_type": "code",
   "execution_count": null,
   "metadata": {},
   "outputs": [],
   "source": [
    "#step-7 plot the required libraries\n",
    "interact(update, color=[\"red\", \"blue\", \"gray\"], width=(1,5))\n",
    "show(p, notebook_handle=True)"
   ]
  },
  {
   "cell_type": "code",
   "execution_count": null,
   "metadata": {},
   "outputs": [],
   "source": []
  },
  {
   "cell_type": "code",
   "execution_count": null,
   "metadata": {},
   "outputs": [],
   "source": []
  }
 ],
 "metadata": {
  "kernelspec": {
   "display_name": "Python 3",
   "language": "python",
   "name": "python3"
  },
  "language_info": {
   "codemirror_mode": {
    "name": "ipython",
    "version": 3
   },
   "file_extension": ".py",
   "mimetype": "text/x-python",
   "name": "python",
   "nbconvert_exporter": "python",
   "pygments_lexer": "ipython3",
   "version": "3.7.3"
  }
 },
 "nbformat": 4,
 "nbformat_minor": 2
}
