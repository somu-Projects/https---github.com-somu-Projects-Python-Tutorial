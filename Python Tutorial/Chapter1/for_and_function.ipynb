{
 "cells": [
  {
   "cell_type": "code",
   "execution_count": 1,
   "id": "0dc07b6c",
   "metadata": {},
   "outputs": [
    {
     "name": "stdout",
     "output_type": "stream",
     "text": [
      "The sum of squares is:  774\n"
     ]
    }
   ],
   "source": [
    "# Code to find the sum of squares of each element of the list using for loop  \n",
    "# creating the list of numbers  \n",
    "numbers = [3, 5, 23, 6, 5, 1, 2, 9, 8]  \n",
    "# initializing a variable that will store the sum  \n",
    "sum_ = 0  \n",
    "# using for loop to iterate over the list  \n",
    "for num in numbers:  \n",
    "    sum_ = sum_ + num ** 2   \n",
    "print(\"The sum of squares is: \", sum_)  "
   ]
  },
  {
   "cell_type": "code",
   "execution_count": 2,
   "id": "ddea865e",
   "metadata": {},
   "outputs": [
    {
     "name": "stdout",
     "output_type": "stream",
     "text": [
      "1\n",
      "2\n",
      "3\n",
      "4\n",
      "5\n",
      "6\n",
      "7\n",
      "8\n",
      "9\n",
      "10\n"
     ]
    }
   ],
   "source": [
    "for i in range(1, 11):\n",
    "    print(i)"
   ]
  },
  {
   "cell_type": "code",
   "execution_count": 3,
   "id": "9ace628e",
   "metadata": {},
   "outputs": [
    {
     "name": "stdout",
     "output_type": "stream",
     "text": [
      "The sum of squares is 1240\n"
     ]
    }
   ],
   "source": [
    "num = 15  \n",
    "summation = 0  \n",
    "c = 1  \n",
    "while c <= num: # specifying the condition of the loop  \n",
    "    # begining the code block  \n",
    "    summation = c**2 + summation  \n",
    "    c = c + 1    # incrementing the counter  \n",
    "      \n",
    "# print the final sum  \n",
    "print(\"The sum of squares is\", summation)  "
   ]
  },
  {
   "cell_type": "code",
   "execution_count": 6,
   "id": "4f1b5b27",
   "metadata": {},
   "outputs": [
    {
     "name": "stdout",
     "output_type": "stream",
     "text": [
      "item matched\n",
      "found at 2 location\n"
     ]
    }
   ],
   "source": [
    "list =[1,2,3,4]  \n",
    "count = 1;  \n",
    "for i in list:  \n",
    "    if i == 4:  \n",
    "        print(\"item matched\")  \n",
    "        count = count + 1;  \n",
    "        break  \n",
    "print(\"found at\",count,\"location\");  "
   ]
  },
  {
   "cell_type": "code",
   "execution_count": 7,
   "id": "a1ef6274",
   "metadata": {},
   "outputs": [
    {
     "name": "stdout",
     "output_type": "stream",
     "text": [
      "8 has occurred 5 times\n"
     ]
    }
   ],
   "source": [
    "# Python code to count the number of occurrences\n",
    "def countX(lst, x):\n",
    "\tcount = 0\n",
    "\tfor ele in lst:\n",
    "\t\tif (ele == x):\n",
    "\t\t\tcount = count + 1\n",
    "\treturn count\n",
    "\n",
    "# Driver Code\n",
    "lst = [8, 6, 8, 10, 8, 20, 10, 8, 8]\n",
    "x = 8\n",
    "print('{} has occurred {} times'.format(x, countX(lst, x)))\n"
   ]
  },
  {
   "cell_type": "code",
   "execution_count": 8,
   "id": "e69df799",
   "metadata": {},
   "outputs": [
    {
     "name": "stdout",
     "output_type": "stream",
     "text": [
      "8 has occurred 5 times\n"
     ]
    }
   ],
   "source": [
    "# Python code to count the number of occurrences\n",
    "def countX(lst, x):\n",
    "\treturn lst.count(x)\n",
    "\n",
    "# Driver Code\n",
    "lst = [8, 6, 8, 10, 8, 20, 10, 8, 8]\n",
    "x = 8\n",
    "print('{} has occurred {} times'.format(x, countX(lst, x)))\n"
   ]
  },
  {
   "cell_type": "code",
   "execution_count": 9,
   "id": "46cc11ac",
   "metadata": {},
   "outputs": [
    {
     "name": "stdout",
     "output_type": "stream",
     "text": [
      "3 has occurred 2 times\n"
     ]
    }
   ],
   "source": [
    "from collections import Counter\n",
    "\n",
    "# declaring the list\n",
    "l = [1, 1, 2, 2, 3, 3, 4, 4, 5, 5]\n",
    "\n",
    "# driver program\n",
    "x = 3\n",
    "d = Counter(l)\n",
    "print('{} has occurred {} times'.format(x, d[x]))\n"
   ]
  },
  {
   "cell_type": "code",
   "execution_count": 10,
   "id": "97fe37ec",
   "metadata": {},
   "outputs": [
    {
     "name": "stdout",
     "output_type": "stream",
     "text": [
      "2 has occurred 3 times\n"
     ]
    }
   ],
   "source": [
    "import operator as op\n",
    "\n",
    "# declaring the list\n",
    "l = [1, 1, 2, 2, 2, 3, 3, 4, 4, 5, 5]\n",
    "\n",
    "# driver program\n",
    "x = 2\n",
    "print(f\"{x} has occurred {op.countOf(l, x)} times\")\n"
   ]
  },
  {
   "cell_type": "code",
   "execution_count": 11,
   "id": "81673aec",
   "metadata": {},
   "outputs": [
    {
     "name": "stdout",
     "output_type": "stream",
     "text": [
      "1\n"
     ]
    }
   ],
   "source": [
    "lis = ['a', 'd', 'd', 'c', 'a', 'b', 'b', 'a', 'c', 'd', 'e']\n",
    "occurrence = {item: lis.count(item) for item in lis}\n",
    "print(occurrence.get('e'))\n"
   ]
  },
  {
   "cell_type": "code",
   "execution_count": 12,
   "id": "f53b3db9",
   "metadata": {},
   "outputs": [
    {
     "name": "stdout",
     "output_type": "stream",
     "text": [
      "Element Count\n",
      "2    3\n",
      "1    2\n",
      "3    2\n",
      "4    2\n",
      "5    2\n",
      "dtype: int64\n"
     ]
    }
   ],
   "source": [
    "import pandas as pd\n",
    "\n",
    "# declaring the list\n",
    "l = [1, 1, 2, 2, 2, 3, 3, 4, 4, 5, 5]\n",
    "\n",
    "count = pd.Series(l).value_counts()\n",
    "print (\"Element Count\")\n",
    "print(count)\n"
   ]
  },
  {
   "cell_type": "code",
   "execution_count": 13,
   "id": "8a0767ff",
   "metadata": {},
   "outputs": [
    {
     "name": "stdout",
     "output_type": "stream",
     "text": [
      "Length of the string Functions is:  9\n",
      "Length of the string Python is:  6\n"
     ]
    }
   ],
   "source": [
    "    # Defining a function  \n",
    "    def a_function( string ):  \n",
    "        \"This prints the value of length of string\"  \n",
    "        return len(string)  \n",
    "      \n",
    "    # Calling the function we defined  \n",
    "    print( \"Length of the string Functions is: \", a_function( \"Functions\" ) )  \n",
    "    print( \"Length of the string Python is: \", a_function( \"Python\" ) )  "
   ]
  },
  {
   "cell_type": "code",
   "execution_count": 16,
   "id": "35353445",
   "metadata": {},
   "outputs": [
    {
     "name": "stdout",
     "output_type": "stream",
     "text": [
      "Fibonacci series:\n",
      "0\n",
      "1\n",
      "1\n",
      "2\n",
      "3\n",
      "5\n",
      "8\n",
      "13\n",
      "21\n",
      "34\n"
     ]
    }
   ],
   "source": [
    "#Recursion in Python\n",
    "# Program to print the fibonacci series upto n_terms\n",
    "\n",
    "# Recursive function\n",
    "def recursive_fibonacci(n):\n",
    "    if n <= 1:\n",
    "        return n\n",
    "    else:\n",
    "        return(recursive_fibonacci(n-1) + recursive_fibonacci(n-2))\n",
    "\n",
    "n_terms = 10\n",
    "\n",
    "# check if the number of terms is valid\n",
    "if n_terms <= 0:\n",
    "    print(\"Invalid input ! Please input a positive value\")\n",
    "else:\n",
    "    print(\"Fibonacci series:\")\n",
    "for i in range(n_terms):\n",
    "    print(recursive_fibonacci(i))\n"
   ]
  },
  {
   "cell_type": "code",
   "execution_count": 22,
   "id": "80cae864",
   "metadata": {},
   "outputs": [
    {
     "name": "stdout",
     "output_type": "stream",
     "text": [
      "Factorial of number 6 = 720\n"
     ]
    }
   ],
   "source": [
    "#Recursion in Python\n",
    "# Program to print factorial of a number\n",
    "# recursively.\n",
    "\n",
    "# Recursive function\n",
    "def recursive_factorial(n):\n",
    "    if n == 1:\n",
    "        return n\n",
    "    else:\n",
    "        return n * recursive_factorial(n-1)\n",
    "\n",
    "# user input\n",
    "num = 6\n",
    "\n",
    "# check if the input is valid or not\n",
    "if num < 0:\n",
    "    print(\"Invalid input ! Please enter a positive number.\")\n",
    "elif num == 0:\n",
    "    print(\"Factorial of number 0 is 1\")\n",
    "else:\n",
    "    print(\"Factorial of number\", num, \"=\", recursive_factorial(num))\n"
   ]
  },
  {
   "cell_type": "code",
   "execution_count": 23,
   "id": "8d59810b",
   "metadata": {},
   "outputs": [
    {
     "name": "stdout",
     "output_type": "stream",
     "text": [
      "720\n"
     ]
    }
   ],
   "source": [
    "#Tail-Recursion Recursion in Python\n",
    "# Program to calculate factorial of a number\n",
    "# using a Non-Tail-Recursive function.\n",
    "\n",
    "# non-tail recursive function\n",
    "def Recur_facto(n):\n",
    "\n",
    "\tif (n == 0):\n",
    "\t\treturn 1\n",
    "\n",
    "\treturn n * Recur_facto(n-1)\n",
    "\n",
    "# print the result\n",
    "print(Recur_facto(6))\n"
   ]
  },
  {
   "cell_type": "code",
   "execution_count": 24,
   "id": "21bfdf5a",
   "metadata": {},
   "outputs": [
    {
     "name": "stdout",
     "output_type": "stream",
     "text": [
      "720\n"
     ]
    }
   ],
   "source": [
    "#Recursion in Python\n",
    "# Program to calculate factorial of a number\n",
    "# using a Tail-Recursive function.\n",
    "\n",
    "# A tail recursive function\n",
    "def Recur_facto(n, a = 1):\n",
    "\n",
    "\tif (n == 0):\n",
    "\t\treturn a\n",
    "\n",
    "\treturn Recur_facto(n - 1, n * a)\n",
    "\n",
    "# print the result\n",
    "print(Recur_facto(6))\n"
   ]
  }
 ],
 "metadata": {
  "kernelspec": {
   "display_name": "Python 3.10.4 64-bit",
   "language": "python",
   "name": "python3"
  },
  "language_info": {
   "codemirror_mode": {
    "name": "ipython",
    "version": 3
   },
   "file_extension": ".py",
   "mimetype": "text/x-python",
   "name": "python",
   "nbconvert_exporter": "python",
   "pygments_lexer": "ipython3",
   "version": "3.10.4"
  },
  "vscode": {
   "interpreter": {
    "hash": "e6763ba6110e050d0e6d4dc5757df4d9377869df6777c500c615f7546a6ecc95"
   }
  }
 },
 "nbformat": 4,
 "nbformat_minor": 5
}
