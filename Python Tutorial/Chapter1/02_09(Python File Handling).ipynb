{
 "cells": [
  {
   "cell_type": "code",
   "execution_count": 8,
   "id": "3a218162",
   "metadata": {},
   "outputs": [
    {
     "name": "stdout",
     "output_type": "stream",
     "text": [
      "<_io.TextIOWrapper name='test.txt' mode='r' encoding='cp1252'>\n",
      "File Opened\n",
      "file closed\n"
     ]
    }
   ],
   "source": [
    "#Python File Handling\n",
    "#file object = open(<file-name>, <access-mode>, <buffering>)    \n",
    "fptr=open(\"test.txt\",\"r\")\n",
    "print(fptr)\n",
    "if fptr:\n",
    "    print(\"File Opened\")\n",
    "#The close() method\n",
    "#fileobject.close()  \n",
    "fptr.close()\n",
    "print(\"file closed\")"
   ]
  },
  {
   "cell_type": "code",
   "execution_count": null,
   "id": "c56752c3",
   "metadata": {},
   "outputs": [],
   "source": [
    "#    try:  \n",
    "       fileptr = open(\"test.txt\",\"r\")  \n",
    "       # perform file operations  \n",
    "    finally:  \n",
    "       fileptr.close()  "
   ]
  },
  {
   "cell_type": "code",
   "execution_count": 12,
   "id": "d7c3a82c",
   "metadata": {},
   "outputs": [
    {
     "name": "stdout",
     "output_type": "stream",
     "text": [
      "A function is a collection of related assertions that performs a mathematical, analytical, or evaluative operation. Python functions are simple to define and essential to intermediate-level programming. The exact criteria hold to function names as they do to variable names. The goal is to group up certain often performed actions and define a function. Rather than rewriting the same code block over and over for varied input variables, we may call the function and repurpose the code included within it with different variables.\n",
      "\n",
      "The functions are broad of two types, user-defined and built-in functions. It aids in keeping the software succinct, non-repetitive, and well-organized.\n"
     ]
    }
   ],
   "source": [
    "#The with statement\n",
    "#    with open(<file name>, <access mode>) as <file-pointer>:    \n",
    "        #statement suite     \n",
    "with open(\"test.txt\",\"r\") as f:\n",
    "    content=f.read()\n",
    "    print(content)"
   ]
  },
  {
   "cell_type": "code",
   "execution_count": 13,
   "id": "73c6068e",
   "metadata": {},
   "outputs": [],
   "source": [
    "#Writing the file\n",
    "# open the file.txt in append mode. Create a new file if no such file exists.  \n",
    "fileptr = open(\"file2.txt\", \"w\")  \n",
    "     \n",
    "# appending the content to the file  \n",
    "fileptr.write('''''Python is the modern day language. It makes things so simple. \n",
    "It is the fastest-growing programing language''')  \n",
    "     \n",
    "# closing the opened the file  \n",
    "fileptr.close()  "
   ]
  },
  {
   "cell_type": "code",
   "execution_count": 1,
   "id": "39635786",
   "metadata": {},
   "outputs": [
    {
     "name": "stdout",
     "output_type": "stream",
     "text": [
      "''Python is the modern day language. It makes things so simple. \n",
      "It is the fastest-growing programing language\n"
     ]
    }
   ],
   "source": [
    "with open(\"file2.txt\",\"r\") as f:\n",
    "    content=f.read()\n",
    "    print(content)"
   ]
  },
  {
   "cell_type": "code",
   "execution_count": 7,
   "id": "e7a29058",
   "metadata": {},
   "outputs": [
    {
     "name": "stdout",
     "output_type": "stream",
     "text": [
      "''Python is the modern day language. It makes things so simple. \n",
      "It is the fastest-growing programing language Python has an easy syntax and user-friendly interaction. Python has an easy syntax and user-friendly interaction. Python has an easy syntax and user-friendly interaction. Python has an easy syntax and user-friendly interaction. Python has an easy syntax and user-friendly interaction.\n"
     ]
    }
   ],
   "source": [
    "#open the file.txt in write mode. \n",
    "fileptr = open(\"file2.txt\",\"a\")  \n",
    "        \n",
    "#overwriting the content of the file    \n",
    "fileptr.write(\" Python has an easy syntax and user-friendly interaction.\")    \n",
    "          \n",
    "#closing the opened file     \n",
    "fileptr.close()\n",
    "\n",
    "with open(\"file2.txt\",\"r\") as f:\n",
    "            con=f.read()\n",
    "            print(con)\n",
    "#fileobj.read(<count>)    \n"
   ]
  },
  {
   "cell_type": "code",
   "execution_count": 10,
   "id": "1182582f",
   "metadata": {},
   "outputs": [
    {
     "name": "stdout",
     "output_type": "stream",
     "text": [
      "<class 'str'>\n",
      "''Python is the modern day language. It makes things so simple. \n",
      "It is the fastest-growing programing language Python has an easy syntax and user-friendly interaction. Python has an easy syntax and user-friendly interaction. Python has an easy syntax and user-friendly interaction. Python has an easy syntax and user-friendly interaction. Python has an easy syntax and user-friendly interaction.\n"
     ]
    }
   ],
   "source": [
    "#open the file.txt in read mode. causes error if no such file exists.    \n",
    "fileptr = open(\"file2.txt\",\"r\")  \n",
    "#stores all the data of the file into the variable content    \n",
    "content = fileptr.read(1000)   \n",
    "# prints the type of the data stored in the file    \n",
    "print(type(content))      \n",
    "#prints the content of the file    \n",
    "print(content)       \n",
    "#closes the opened file    \n",
    "fileptr.close()    "
   ]
  },
  {
   "cell_type": "code",
   "execution_count": 13,
   "id": "cca456d7",
   "metadata": {},
   "outputs": [
    {
     "name": "stdout",
     "output_type": "stream",
     "text": [
      "''Python is the modern day language. It makes things so simple. \n",
      "It is the fastest-growing programing language Python has an easy syntax and user-friendly interaction. Python has an easy syntax and user-friendly interaction. Python has an easy syntax and user-friendly interaction. Python has an easy syntax and user-friendly interaction. Python has an easy syntax and user-friendly interaction.\n"
     ]
    }
   ],
   "source": [
    "#open the file.txt in read mode. causes error if no such file exists.    \n",
    "fileptr = open(\"file2.txt\",\"r\")  \n",
    "#stores all the data of the file into the variable content    \n",
    "content = fileptr.read()   \n",
    "# prints the type of the data stored in the file    \n",
    "#print(type(content))      \n",
    "#prints the content of the file    \n",
    "print(content)       \n",
    "#closes the opened file    \n",
    "fileptr.close()"
   ]
  },
  {
   "cell_type": "code",
   "execution_count": 16,
   "id": "f33a7ea7",
   "metadata": {},
   "outputs": [
    {
     "name": "stdout",
     "output_type": "stream",
     "text": [
      "''Python is the modern day language. It makes things so simple. \n",
      "\n",
      "It is the fastest-growing programing language Python has an easy syntax and user-friendly interaction. Python has an easy syntax and user-friendly interaction. Python has an easy syntax and user-friendly interaction. Python has an easy syntax and user-friendly interaction. Python has an easy syntax and user-friendly interaction.\n"
     ]
    }
   ],
   "source": [
    "# Using for loop\n",
    "fileptr = open(\"file2.txt\",\"r\")\n",
    "for i in fileptr:\n",
    "    print(i)"
   ]
  },
  {
   "cell_type": "code",
   "execution_count": 21,
   "id": "33e3f495",
   "metadata": {},
   "outputs": [
    {
     "name": "stdout",
     "output_type": "stream",
     "text": [
      "''Python is the modern day language. It makes things so simple. \n",
      "\n",
      "It is the fastest-growing programing language Python has an easy syntax and user-friendly interaction. Python has an easy syntax and user-friendly interaction. Python has an easy syntax and user-friendly interaction. Python has an easy syntax and user-friendly interaction. Python has an easy syntax and user-friendly interaction.\n",
      "[]\n"
     ]
    }
   ],
   "source": [
    "fileptr = open(\"file2.txt\",\"r\")\n",
    "cont=fileptr.readline()\n",
    "print(cont)\n",
    "cont1=fileptr.readline()\n",
    "print(cont1)\n",
    "cont2= fileptr.readlines()  \n",
    "print(cont2) "
   ]
  },
  {
   "cell_type": "code",
   "execution_count": 23,
   "id": "80bc79bf",
   "metadata": {},
   "outputs": [
    {
     "name": "stdout",
     "output_type": "stream",
     "text": [
      "The filepointer is at byte : 0\n",
      "After reading, the filepointer is at: 396\n"
     ]
    }
   ],
   "source": [
    "#File Pointer positions\n",
    "# open the file file2.txt in read mode    \n",
    "fileptr = open(\"file2.txt\",\"r\")    \n",
    "#initially the filepointer is at 0     \n",
    "print(\"The filepointer is at byte :\",fileptr.tell())    \n",
    "#reading the content of the file    \n",
    "content = fileptr.read();    \n",
    "#after the read operation file pointer modifies. tell() returns the location of the fileptr.     \n",
    "print(\"After reading, the filepointer is at:\",fileptr.tell())"
   ]
  },
  {
   "cell_type": "code",
   "execution_count": 34,
   "id": "6688333a",
   "metadata": {},
   "outputs": [
    {
     "name": "stdout",
     "output_type": "stream",
     "text": [
      "Before reading, the filepointer is at: 0\n",
      "After reading, the filepointer is at: 10\n"
     ]
    }
   ],
   "source": [
    "# Modifying file pointer position\n",
    "#================================\n",
    "# In real-world applications, sometimes we need to change the file pointer location externally \n",
    "# since we may need to read or write the content at various locations.\n",
    "# For this purpose, the Python provides us the seek() method which enables us to modify the file pointer position externally.\n",
    "# The syntax to use the seek() method is given below.\n",
    "# Syntax:\n",
    "#     <file-ptr>.seek(offset[, from)    \n",
    "# The seek() method accepts two parameters:\n",
    "# offset: It refers to the new position of the file pointer within the file.\n",
    "# from: It indicates the reference position from where the bytes are to be moved. If it is set to 0, \n",
    "# the beginning of the file is used as the reference position. If it is set to 1, the current position of the file pointer is \n",
    "# used as the reference position. If it is set to 2, the end of the file pointer is used as the reference position. \n",
    "# Consider the following example.\n",
    "fptr=open(\"file2.txt\",\"r\")\n",
    "print(\"Before reading, the filepointer is at:\",fptr.tell())\n",
    "fptr.seek(10)\n",
    "print(\"After reading, the filepointer is at:\",fptr.tell())\n",
    "fptr.close()"
   ]
  },
  {
   "cell_type": "code",
   "execution_count": 39,
   "id": "fcdb1295",
   "metadata": {},
   "outputs": [
    {
     "name": "stdout",
     "output_type": "stream",
     "text": [
      "The filepointer is at byte : 0\n",
      "After reading, the filepointer is at: 10\n"
     ]
    }
   ],
   "source": [
    "# open the file file2.txt in read mode    \n",
    "fileptr = open(\"file2.txt\",\"r\")    \n",
    "#initially the filepointer is at 0     \n",
    "print(\"The filepointer is at byte :\",fileptr.tell())    \n",
    "#changing the file pointer location to 10.    \n",
    "fileptr.seek(10);    \n",
    "#tell() returns the location of the fileptr.     \n",
    "print(\"After reading, the filepointer is at:\",fileptr.tell())    \n",
    "fptr.close()"
   ]
  },
  {
   "cell_type": "code",
   "execution_count": 48,
   "id": "7d95157e",
   "metadata": {},
   "outputs": [
    {
     "ename": "FileNotFoundError",
     "evalue": "[WinError 2] The system cannot find the file specified: 'file3.txt' -> 'file1.txt'",
     "output_type": "error",
     "traceback": [
      "\u001b[1;31m---------------------------------------------------------------------------\u001b[0m",
      "\u001b[1;31mFileNotFoundError\u001b[0m                         Traceback (most recent call last)",
      "\u001b[1;32mc:\\Users\\CUTM\\Desktop\\Python\\02_09(Python File Handling).ipynb Cell 14\u001b[0m in \u001b[0;36m<cell line: 15>\u001b[1;34m()\u001b[0m\n\u001b[0;32m     <a href='vscode-notebook-cell:/c%3A/Users/CUTM/Desktop/Python/02_09%28Python%20File%20Handling%29.ipynb#X16sZmlsZQ%3D%3D?line=11'>12</a>\u001b[0m \u001b[39mimport\u001b[39;00m \u001b[39mos\u001b[39;00m    \n\u001b[0;32m     <a href='vscode-notebook-cell:/c%3A/Users/CUTM/Desktop/Python/02_09%28Python%20File%20Handling%29.ipynb#X16sZmlsZQ%3D%3D?line=13'>14</a>\u001b[0m \u001b[39m#rename file2.txt to file3.txt    \u001b[39;00m\n\u001b[1;32m---> <a href='vscode-notebook-cell:/c%3A/Users/CUTM/Desktop/Python/02_09%28Python%20File%20Handling%29.ipynb#X16sZmlsZQ%3D%3D?line=14'>15</a>\u001b[0m os\u001b[39m.\u001b[39;49mrename(\u001b[39m\"\u001b[39;49m\u001b[39mfile3.txt\u001b[39;49m\u001b[39m\"\u001b[39;49m,\u001b[39m\"\u001b[39;49m\u001b[39mfile1.txt\u001b[39;49m\u001b[39m\"\u001b[39;49m)  \n\u001b[0;32m     <a href='vscode-notebook-cell:/c%3A/Users/CUTM/Desktop/Python/02_09%28Python%20File%20Handling%29.ipynb#X16sZmlsZQ%3D%3D?line=15'>16</a>\u001b[0m os\n",
      "\u001b[1;31mFileNotFoundError\u001b[0m: [WinError 2] The system cannot find the file specified: 'file3.txt' -> 'file1.txt'"
     ]
    }
   ],
   "source": [
    "# Python OS module\n",
    "# Renaming the file\n",
    "# The Python os module enables interaction with the operating system. The os module provides the functions that are involved in\n",
    "#  file processing operations like renaming, deleting, etc. It provides us the rename() method to rename the specified file to a new name. \n",
    "# The syntax to use the rename() method is given below.\n",
    "# Syntax:\n",
    "#     rename(current-name, new-name)    \n",
    "# The first argument is the current file name and the second argument is the modified name. We can change the file name bypassing these two arguments.\n",
    "\n",
    "# Example 1:\n",
    "\n",
    "import os    \n",
    "    \n",
    "#rename file2.txt to file3.txt    \n",
    "os.rename(\"file3.txt\",\"file1.txt\")  \n",
    "os"
   ]
  },
  {
   "cell_type": "code",
   "execution_count": 1,
   "id": "64eaf317",
   "metadata": {},
   "outputs": [
    {
     "name": "stdout",
     "output_type": "stream",
     "text": [
      "50.0\n",
      "-4.0\n",
      "That temperature doesn't make sense!\n",
      "212.0\n"
     ]
    }
   ],
   "source": [
    "# writeing uouput to a file\n",
    "temperatures=[10,-20,-289,100]    \n",
    "def c_to_f(c):    \n",
    "    if c< -273.15:    \n",
    "        return \"That temperature doesn't make sense!\"    \n",
    "    else:    \n",
    "        f=c*9/5+32    \n",
    "        return f    \n",
    "for t in temperatures:    \n",
    "    print(c_to_f(t))    \n",
    "    import subprocess    \n",
    "    \n",
    "with open(\"output.txt\", \"wb\") as f:    \n",
    "    subprocess.check_call([\"python\", \"file.py\"], stdout=f)   "
   ]
  },
  {
   "cell_type": "code",
   "execution_count": 6,
   "id": "c2914a27",
   "metadata": {},
   "outputs": [
    {
     "name": "stdout",
     "output_type": "stream",
     "text": [
      "By using the module square of number is:  16\n"
     ]
    }
   ],
   "source": [
    "'''\n",
    "xample_module.py\n",
    "=================\n",
    "# Python program to show how to create a module.  \n",
    "# defining a function in the module to reuse it  \n",
    "def square( number ):  \n",
    "    \"\"\"This function will square the number passed to it\"\"\"  \n",
    "    \n",
    "    result = number ** 2  \n",
    "    return result  \n",
    "\n",
    "\n",
    "'''\n",
    "import example_module as e \n",
    "result = e.square(  4  )  \n",
    "print( \"By using the module square of number is: \", result )  "
   ]
  },
  {
   "cell_type": "code",
   "execution_count": 7,
   "id": "b416ba57",
   "metadata": {},
   "outputs": [
    {
     "name": "stdout",
     "output_type": "stream",
     "text": [
      "The value of euler's number is 2.718281828459045\n"
     ]
    }
   ],
   "source": [
    "# Python import Statement\n",
    "\n",
    "# Using the import Python keyword and the dot operator, we may import a standard module and\n",
    "#  can access the defined functions within it. Here's an illustration.\n",
    "\n",
    "# Code: -\n",
    "\n",
    "    # Python program to show how to import a standard module  \n",
    "    # We will import the math module which is a standard module  \n",
    "      \n",
    "import math  \n",
    "print( \"The value of euler's number is\", math.e )  "
   ]
  },
  {
   "cell_type": "code",
   "execution_count": 13,
   "id": "b0d48fd8",
   "metadata": {},
   "outputs": [
    {
     "name": "stdout",
     "output_type": "stream",
     "text": [
      "The value of euler's number is 2.718281828459045\n"
     ]
    }
   ],
   "source": [
    "# Python program to show how to import specific objects from a module  \n",
    "# We will import euler's number from the math module using the from keyword  \n",
    "    \n",
    "from math import e  \n",
    "print( \"The value of euler's number is\", e )  "
   ]
  },
  {
   "cell_type": "code",
   "execution_count": 18,
   "id": "c14f2888",
   "metadata": {},
   "outputs": [
    {
     "name": "stdout",
     "output_type": "stream",
     "text": [
      "Calculating square root:  5.0\n",
      "Calculating tangent of an angle:  0.5773502691896257\n"
     ]
    }
   ],
   "source": [
    "from math import *\n",
    "print( \"Calculating square root: \", sqrt(25) )  \n",
    "print( \"Calculating tangent of an angle: \", tan(pi/6))   "
   ]
  },
  {
   "cell_type": "code",
   "execution_count": 21,
   "id": "95fd4523",
   "metadata": {},
   "outputs": [
    {
     "name": "stdout",
     "output_type": "stream",
     "text": [
      "['c:\\\\Users\\\\CUTM\\\\Desktop\\\\Python', 'c:\\\\ProgramData\\\\Anaconda3\\\\python39.zip', 'c:\\\\ProgramData\\\\Anaconda3\\\\DLLs', 'c:\\\\ProgramData\\\\Anaconda3\\\\lib', 'c:\\\\ProgramData\\\\Anaconda3', '', 'c:\\\\ProgramData\\\\Anaconda3\\\\lib\\\\site-packages', 'c:\\\\ProgramData\\\\Anaconda3\\\\lib\\\\site-packages\\\\vboxapi-1.0-py3.9.egg', 'c:\\\\ProgramData\\\\Anaconda3\\\\lib\\\\site-packages\\\\win32', 'c:\\\\ProgramData\\\\Anaconda3\\\\lib\\\\site-packages\\\\win32\\\\lib', 'c:\\\\ProgramData\\\\Anaconda3\\\\lib\\\\site-packages\\\\Pythonwin']\n"
     ]
    }
   ],
   "source": [
    "# We will import the sys module  \n",
    "import math  \n",
    "    \n",
    "# we will import sys.path  \n",
    "print(sys.path)  "
   ]
  },
  {
   "cell_type": "code",
   "execution_count": 23,
   "id": "707f3297",
   "metadata": {},
   "outputs": [
    {
     "name": "stdout",
     "output_type": "stream",
     "text": [
      "List of functions:\n",
      "  ['__add__', '__class__', '__contains__', '__delattr__', '__dir__', '__doc__', '__eq__', '__format__', '__ge__', '__getattribute__', '__getitem__', '__getnewargs__', '__gt__', '__hash__', '__init__', '__init_subclass__', '__iter__', '__le__', '__len__', '__lt__', '__mod__', '__mul__', '__ne__', '__new__', '__reduce__', '__reduce_ex__', '__repr__', '__rmod__', '__rmul__', '__setattr__', '__sizeof__', '__str__', '__subclasshook__', 'capitalize', 'casefold', 'center', 'count', 'encode', 'endswith', 'expandtabs', 'find', 'format', 'format_map', 'index', 'isalnum', 'isalpha', 'isascii', 'isdecimal', 'isdigit', 'isidentifier', 'islower', 'isnumeric', 'isprintable', 'isspace', 'istitle', 'isupper', 'join', 'ljust', 'lower', 'lstrip', 'maketrans', 'partition', 'removeprefix', 'removesuffix', 'replace', 'rfind', 'rindex', 'rjust', 'rpartition', 'rsplit', 'rstrip', 'split', 'splitlines', 'startswith', 'strip', 'swapcase', 'title', 'translate', 'upper', 'zfill'], "
     ]
    }
   ],
   "source": [
    "# Directory builtin function\n",
    "print( \"List of functions:\\n \", dir( str ), end=\", \" )  \n"
   ]
  },
  {
   "cell_type": "code",
   "execution_count": 26,
   "id": "1576d9f5",
   "metadata": {},
   "outputs": [
    {
     "name": "stdout",
     "output_type": "stream",
     "text": [
      "204\n",
      "404\n"
     ]
    }
   ],
   "source": [
    "#Namespaces and Scoping\n",
    "Number = 204  \n",
    "def AddNumber():  \n",
    "    # accessing the global namespace  \n",
    "    global Number  \n",
    "    Number = Number + 200  \n",
    "    \n",
    "print( Number )  \n",
    "AddNumber()  \n",
    "print( Number ) "
   ]
  }
 ],
 "metadata": {
  "kernelspec": {
   "display_name": "Python 3.9.12 ('base')",
   "language": "python",
   "name": "python3"
  },
  "language_info": {
   "codemirror_mode": {
    "name": "ipython",
    "version": 3
   },
   "file_extension": ".py",
   "mimetype": "text/x-python",
   "name": "python",
   "nbconvert_exporter": "python",
   "pygments_lexer": "ipython3",
   "version": "3.9.12"
  },
  "vscode": {
   "interpreter": {
    "hash": "ad2bdc8ecc057115af97d19610ffacc2b4e99fae6737bb82f5d7fb13d2f2c186"
   }
  }
 },
 "nbformat": 4,
 "nbformat_minor": 5
}
