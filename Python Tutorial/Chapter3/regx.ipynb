{
 "cells": [
  {
   "cell_type": "code",
   "execution_count": 1,
   "metadata": {},
   "outputs": [
    {
     "name": "stdout",
     "output_type": "stream",
     "text": [
      "There isn't any match!!\n"
     ]
    }
   ],
   "source": [
    "# Python Regex\n",
    "# ==============\n",
    "# A regular expression is a set of characters with highly specialized syntax that we can use to find or \n",
    "# match other characters or groups of characters. In short, regular expressions, or Regex, are widely used in the UNIX world.\n",
    "\n",
    "# The re-module in Python gives full support for regular expressions of Pearl style. The re module raises the re.error \n",
    "# exception whenever an error occurs while implementing or using a regular expression.\n",
    "\n",
    "# We'll go over two crucial functions utilized to deal with regular expressions. But first, \n",
    "# a minor point: many letters have a particular meaning when utilized in a regular expression re.match()\n",
    "\n",
    "# Python's re.match() function finds and delivers the very first appearance of a regular expression pattern. \n",
    "# In Python, the RegEx Match function solely searches for a matching string at the beginning of the provided \n",
    "# text to be searched. The matching object is produced if one match is found in the first line. \n",
    "# If a match is found in a subsequent line, the Python RegEx Match function gives output as null.\n",
    "\n",
    "# x\n",
    "\n",
    "# Examine the implementation for the re.match() method in Python. The expressions \".w*\" and \".w*?\" \n",
    "# will match words that have the letter \"w,\" and anything that does not has the letter \"w\" will be ignored. \n",
    "# The for loop is used in this Python re.match() illustration to inspect for matches for every element in the list of words.\n",
    "# Matching Characters.The majority of symbols and characters will easily match. \n",
    "# (A case-insensitive feature can be enabled, allowing this RE to match Python or PYTHON.) \n",
    "# The regular expression check, for instance, will match exactly the string check.There are some exceptions to this \n",
    "# general rule; certain symbols are special metacharacters that don't match. Rather,\n",
    "# they indicate that they must compare something unusual, or they have an effect on other parts of the \n",
    "# RE by recurring or modifying their meaning. Here's the list of the metacharacters;\n",
    "#     . ^ $ * + ? { } [ ] \\ | ( )  \n",
    "\n",
    "# Repeating Things\n",
    "# The ability to match different sets of symbols will be the first feature regular expressions \n",
    "# can achieve that's not previously achievable with string techniques. On the other hand, Regexes isn't much o\n",
    "# f an improvement if that had been their only extra capacity. We can also define that some sections of the RE must \n",
    "# be reiterated a specified number of times.The first metacharacter we'll examine for recurring occurrences is *.\n",
    "#  Instead of matching the actual character '*,' * signals that the preceding letter can be matched 0 or even more times,\n",
    "#  rather than exactly one.\n",
    "\n",
    "# Ba*t, for example, matches 'bt' (zero 'a' characters), 'bat' (one 'a' character), 'baaat' (three 'a' characters), etc.\n",
    "\n",
    "# Greedy repetitions, such as *, cause the matching algorithm to attempt to replicate the RE as many times as feasible. If later elements of the sequence fail to match, the matching algorithm will retry with lesser repetitions.\n",
    "\n",
    "# This is the syntax of re.match() function -\n",
    "\n",
    "#     re.match(pattern, string, flags=0)  \n",
    "\n",
    "# Parameters\n",
    "# ==============\n",
    "# pattern:- this is the expression that is to be matched. It must be a regular expression\n",
    "\n",
    "# string:- This is the string that will be compared to the pattern at the start of the string.\n",
    "\n",
    "# flags:- Bitwise OR (|) can be used to express multiple flags. These are modifications, and the table below lists them.\n",
    "\n",
    "# Code\n",
    "\n",
    "import re  \n",
    "line = \"Learn Python through tutorials on javatpoint\"  \n",
    "match_object = re.match( r'.w* (.w?) (.w*?)', line, re.M|re.I)  \n",
    "  \n",
    "if match_object:  \n",
    "    print (\"match object group : \", match_object.group())  \n",
    "    print (\"match object 1 group : \", match_object.group(1))  \n",
    "    print (\"match object 2 group : \", match_object.group(2))  \n",
    "else:  \n",
    "    print ( \"There isn't any match!!\" ) "
   ]
  },
  {
   "cell_type": "code",
   "execution_count": 2,
   "metadata": {},
   "outputs": [
    {
     "name": "stdout",
     "output_type": "stream",
     "text": [
      "search object group :   Python through tutorials on javatpoint\n",
      "search object group 1 :  on\n",
      "search object group 2 :  javatpoint\n"
     ]
    }
   ],
   "source": [
    "# re.search()\n",
    "# ==========\n",
    "# The re.search() function will look for the first occurrence of a regular expression sequence and deliver it. \n",
    "# It will verify all rows of the supplied string, unlike Python's re.match(). If the pattern is matched, the re.search() \n",
    "# function produces a match object; otherwise, it returns \"null.\"\n",
    "# To execute the search() function, we must first import the Python re-module and afterward run the program. The \"sequence\" \n",
    "# and \"content\" to check from our primary string are passed to the Python re.search() call.\n",
    "\n",
    "# This is the syntax of re.search() function -\n",
    "#     re.search(pattern, string, flags=0)  \n",
    "# Here is the description of the parameters -\n",
    "# pattern:- this is the expression that is to be matched. It must be a regular expression\n",
    "# string:- The string provided is the one that will be searched for the pattern wherever within it.\n",
    "# flags:- Bitwise OR (|) can be used to express multiple flags. These are modifications, and the table below lists them.\n",
    "# Code:\n",
    "\n",
    "import re  \n",
    "    \n",
    "line = \"Learn Python through tutorials on javatpoint\";  \n",
    "    \n",
    "search_object = re.search( r' .*t? (.*t?) (.*t?)', line)  \n",
    "if search_object:  \n",
    "    print(\"search object group : \", search_object.group())  \n",
    "    print(\"search object group 1 : \", search_object.group(1))  \n",
    "    print(\"search object group 2 : \", search_object.group(2))  \n",
    "else:\n",
    "            print(\"Nothing found!!\")"
   ]
  },
  {
   "cell_type": "code",
   "execution_count": 5,
   "metadata": {},
   "outputs": [
    {
     "name": "stdout",
     "output_type": "stream",
     "text": [
      "There isn't any match!!\n",
      "search object group :   Python through tutorials on \n"
     ]
    }
   ],
   "source": [
    "# Matching Versus Searching\n",
    "# ========================-=\n",
    "# Python has two primary regular expression functions: match and search. Match looks for a match only where the string \n",
    "# commencements, whereas search looks for a match everywhere in the string (this is the default function of Perl).\n",
    "\n",
    "import re  \n",
    "    \n",
    "line = \"Learn Python through tutorials on javatpoint\"  \n",
    "    \n",
    "match_object = re.match( r'through', line, re.M|re.I)  \n",
    "if match_object:  \n",
    "    print(\"match object group : \", match_object.group())  \n",
    "else:  \n",
    "    print( \"There isn't any match!!\")  \n",
    "    \n",
    "search_object = re.search( r' .*t? ', line, re.M|re.I)  \n",
    "if search_object:\n",
    "    print(\"search object group : \", search_object.group())\n",
    "else:\n",
    "    print(\"Nothing Found\")"
   ]
  },
  {
   "cell_type": "code",
   "execution_count": 6,
   "metadata": {},
   "outputs": [
    {
     "name": "stdout",
     "output_type": "stream",
     "text": [
      "['123456789', '987654321']\n"
     ]
    }
   ],
   "source": [
    "# re.findall()\n",
    "\n",
    "# The findall() function is often used to look for \"all\" appearances of a pattern. The search() module, on the other hand,\n",
    "#  will only provide the earliest occurrence that matches the description. In a single operation, findall() will loop over \n",
    "# all the rows of the document and provide all non-overlapping regular matches.\n",
    "\n",
    "# We have a line of text, and we want to get all of the occurrences from the content, so we use Python's \n",
    "# re.findall() function. It will search the entire content provided to it.\n",
    "# Using the re-package isn't always a good idea. If we're only searching a fixed string or a specific character class, \n",
    "# and we're not leveraging any re features like the IGNORECASE flag, regular expressions' full capability would not be needed. \n",
    "# Strings offer various ways for doing tasks with fixed strings, and they're generally considerably faster than the larger, \n",
    "# more generalized regular expression solver because the execution is a simple short C loop that has been optimized for the job.\n",
    "# A Python program to demonstrate working of\n",
    "# findall()\n",
    "import re\n",
    "\t\n",
    "# A sample text string where regular expression\n",
    "# is searched.\n",
    "string = \"\"\"Hello my Number is 123456789 and\n",
    "\t\t\tmy friend's number is 987654321\"\"\"\n",
    "\t\n",
    "# A sample regular expression to find digits.\n",
    "regex = '\\d+'\t\t\t\n",
    "\t\n",
    "match = re.findall(regex, string)\n",
    "print(match)\n"
   ]
  },
  {
   "cell_type": "code",
   "execution_count": 7,
   "metadata": {},
   "outputs": [
    {
     "name": "stdout",
     "output_type": "stream",
     "text": [
      "Match at index 14, 21\n",
      "Full match: June 24\n",
      "Month: June\n",
      "Day: 24\n"
     ]
    }
   ],
   "source": [
    "# A Python program to demonstrate working of re.match().\n",
    "import re\n",
    "\t\n",
    "# Lets use a regular expression to match a date string\n",
    "# in the form of Month name followed by day number\n",
    "regex = r\"([a-zA-Z]+) (\\d+)\"\n",
    "\t\n",
    "match = re.search(regex, \"I was born on June 24\")\n",
    "\t\n",
    "if match != None:\n",
    "\t\n",
    "\t# We reach here when the expression \"([a-zA-Z]+) (\\d+)\"\n",
    "\t# matches the date string.\n",
    "\t\n",
    "\t# This will print [14, 21), since it matches at index 14\n",
    "\t# and ends at 21.\n",
    "\tprint(\"Match at index % s, % s\" % (match.start(), match.end()))\n",
    "\t\n",
    "\t# We us group() method to get all the matches and\n",
    "\t# captured groups. The groups contain the matched values.\n",
    "\t# In particular:\n",
    "\t# match.group(0) always returns the fully matched string\n",
    "\t# match.group(1) match.group(2), ... return the capture\n",
    "\t# groups in order from left to right in the input string\n",
    "\t# match.group() is equivalent to match.group(0)\n",
    "\t\n",
    "\t# So this will print \"June 24\"\n",
    "\tprint(\"Full match: % s\" % (match.group(0)))\n",
    "\t\n",
    "\t# So this will print \"June\"\n",
    "\tprint(\"Month: % s\" % (match.group(1)))\n",
    "\t\n",
    "\t# So this will print \"24\"\n",
    "\tprint(\"Day: % s\" % (match.group(2)))\n",
    "\t\n",
    "else:\n",
    "\tprint(\"The regex pattern does not match.\")\n"
   ]
  }
 ],
 "metadata": {
  "kernelspec": {
   "display_name": "Python 3.10.4 64-bit",
   "language": "python",
   "name": "python3"
  },
  "language_info": {
   "codemirror_mode": {
    "name": "ipython",
    "version": 3
   },
   "file_extension": ".py",
   "mimetype": "text/x-python",
   "name": "python",
   "nbconvert_exporter": "python",
   "pygments_lexer": "ipython3",
   "version": "3.10.4"
  },
  "orig_nbformat": 4,
  "vscode": {
   "interpreter": {
    "hash": "3196968d684371006099b3d55edeef8ed90365227a30deaef86e5d4aa8519be0"
   }
  }
 },
 "nbformat": 4,
 "nbformat_minor": 2
}
