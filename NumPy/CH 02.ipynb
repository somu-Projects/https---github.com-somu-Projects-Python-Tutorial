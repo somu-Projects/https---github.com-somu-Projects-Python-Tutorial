{
 "cells": [
  {
   "cell_type": "markdown",
   "metadata": {},
   "source": [
    "### Numpy Array Manipulation form the existing data\n",
    "| Name  | Description | Syntax |\n",
    "| ------------- | ------------- | ------------- |\n",
    "| array()  | Create an array.  | array(object[, dtype, copy, order, subok, ndmin]) |\n",
    "| asarray()  | Convert the input to an array.  | asarray(a[, dtype, order]) |\n",
    "| asanyarray()  | Convert the input to an ndarray, but pass ndarray subclasses through.  | asanyarray(a[, dtype, order]) |\n",
    "| ascontiguousarray()  | CReturn a contiguous array in memory (C order).  | ascontiguousarray(a[, dtype]) |\n",
    "| asmatrix()  | Interpret the input as a matrix.  | asmatrix(data[, dtype]) |\n",
    "| copy()  | Return an array copy of the given object.  | copy(a[, order] |\n",
    "| frombuffer()  | Interpret a buffer as a 1-dimensional array. \t  | frombuffer(buffer[, dtype, count, offset]) |\n",
    "| fromfile()  | Construct an array from data in a text or binary file.  | fromfile(file[, dtype, count, sep]) |\n",
    "| fromfunction()  | Construct an array from data in a text or binary file.  | fromfile(file[, dtype, count, sep]) |\n",
    "| fromiter()  |  Create a new 1-dimensional array from an iterable object.  | fromiter(iterable, dtype[, count]) |\n",
    "| fromstring()   | A new 1-D array initialized from raw binary or text data in a string.  | fromstring(string[, dtype, count, sep]) |\n",
    "| loadtxt()  | Load data from a text file.  | loadtxt(fname[, dtype, comments, delimiter, ...]) |\n"
   ]
  },
  {
   "cell_type": "markdown",
   "metadata": {},
   "source": [
    "#### array() function\n",
    "\n",
    "The array() function is used to create an array.\n",
    "\n",
    "Syntax:\n",
    "\n",
    "numpy.array(object, dtype=None, copy=True, order=’K’, subok=False, ndmin=0)\n",
    "\n",
    "NumPy array: array() function"
   ]
  },
  {
   "cell_type": "code",
   "execution_count": 3,
   "metadata": {},
   "outputs": [
    {
     "data": {
      "text/plain": [
       "array([2, 4, 6])"
      ]
     },
     "execution_count": 3,
     "metadata": {},
     "output_type": "execute_result"
    }
   ],
   "source": [
    "import numpy as np\n",
    "np.array([2, 4, 6])"
   ]
  },
  {
   "cell_type": "markdown",
   "metadata": {},
   "source": [
    "#### asarray() function\n",
    "\n",
    "The asarray() function is used to convert an given input to an array.\n",
    "\n",
    "Syntax:\n",
    "\n",
    "numpy.asarray(a, dtype=None, order=None)\n",
    "\n",
    "Return value:\n",
    "\n",
    "[ ndarray] Array interpretation of a. No copy is performed if the input is already an ndarray with matching dtype and order. If a is a subclass of ndarray, a base class ndarray is returned.\n",
    "\n",
    "Example-1: numpy.asarray() function"
   ]
  },
  {
   "cell_type": "code",
   "execution_count": 4,
   "metadata": {},
   "outputs": [
    {
     "data": {
      "text/plain": [
       "array([2, 3])"
      ]
     },
     "execution_count": 4,
     "metadata": {},
     "output_type": "execute_result"
    }
   ],
   "source": [
    "import numpy as np\n",
    "a = [2, 3]\n",
    "np.asarray(a)"
   ]
  },
  {
   "cell_type": "markdown",
   "metadata": {},
   "source": [
    "#### asanyarray() function\n",
    "\n",
    "The asanyarray() function is used to convert the input to an ndarray, but pass ndarray subclasses through.\n",
    "\n",
    "Syntax:\n",
    "\n",
    "numpy.asanyarray(a, dtype=None, order=None)"
   ]
  },
  {
   "cell_type": "code",
   "execution_count": 5,
   "metadata": {},
   "outputs": [
    {
     "data": {
      "text/plain": [
       "array([2, 4])"
      ]
     },
     "execution_count": 5,
     "metadata": {},
     "output_type": "execute_result"
    }
   ],
   "source": [
    "import numpy as np\n",
    "a = [2, 4]\n",
    "np.asanyarray(a)"
   ]
  },
  {
   "cell_type": "markdown",
   "metadata": {},
   "source": [
    "#### ascontiguousarray() function\n",
    "\n",
    "The ascontiguousarray() function is used to get a contiguous array in memory (C order).\n",
    "\n",
    "Syntax:\n",
    "\n",
    "numpy.ascontiguousarray(a, dtype=None)"
   ]
  },
  {
   "cell_type": "code",
   "execution_count": 6,
   "metadata": {},
   "outputs": [
    {
     "data": {
      "text/plain": [
       "array([[0., 1.],\n",
       "       [2., 3.],\n",
       "       [4., 5.],\n",
       "       [6., 7.]], dtype=float32)"
      ]
     },
     "execution_count": 6,
     "metadata": {},
     "output_type": "execute_result"
    }
   ],
   "source": [
    "import numpy as np\n",
    "a = np.arange(8). reshape (4, 2)\n",
    "np.ascontiguousarray(a, dtype=np.float32)"
   ]
  },
  {
   "cell_type": "markdown",
   "metadata": {},
   "source": [
    "#### asmatrix() function\n",
    "\n",
    "The asmatrix() function is used to interpret the input as a matrix.\n",
    "Unlike matrix, asmatrix does not make a copy if the input is already a matrix or an ndarray. Equivalent to matrix(data, copy=False).\n",
    "\n",
    "Syntax:\n",
    "\n",
    "numpy.asmatrix(data, dtype=None)"
   ]
  },
  {
   "cell_type": "code",
   "execution_count": 7,
   "metadata": {},
   "outputs": [],
   "source": [
    "import numpy as np\n",
    "x = np.array([[1,2], [3,4]])\n",
    "n = np.asmatrix(x)"
   ]
  },
  {
   "cell_type": "markdown",
   "metadata": {},
   "source": [
    "| Name  | Description | Required or Optional |\n",
    "| ------------- | ------------- | ------------- |\n",
    "| array()  | Create an array.  | array(object[, dtype, copy, order, subok, ndmin]) |\n",
    "| asarray()  | Convert the input to an array.  | asarray(a[, dtype, order]) |\n",
    "| asanyarray()  | Convert the input to an ndarray, but pass ndarray subclasses through.  | asanyarray(a[, dtype, order]) |\n",
    "| ascontiguousarray()  | CReturn a contiguous array in memory (C order).  | ascontiguousarray(a[, dtype]) |\n",
    "| asmatrix()  | Interpret the input as a matrix.  | asmatrix(data[, dtype]) |"
   ]
  }
 ],
 "metadata": {
  "kernelspec": {
   "display_name": "Python 3.10.4 64-bit",
   "language": "python",
   "name": "python3"
  },
  "language_info": {
   "codemirror_mode": {
    "name": "ipython",
    "version": 3
   },
   "file_extension": ".py",
   "mimetype": "text/x-python",
   "name": "python",
   "nbconvert_exporter": "python",
   "pygments_lexer": "ipython3",
   "version": "3.10.4"
  },
  "orig_nbformat": 4,
  "vscode": {
   "interpreter": {
    "hash": "e6763ba6110e050d0e6d4dc5757df4d9377869df6777c500c615f7546a6ecc95"
   }
  }
 },
 "nbformat": 4,
 "nbformat_minor": 2
}
