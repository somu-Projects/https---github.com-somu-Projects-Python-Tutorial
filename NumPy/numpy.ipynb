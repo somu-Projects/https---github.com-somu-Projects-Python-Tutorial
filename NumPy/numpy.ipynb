{
 "cells": [
  {
   "cell_type": "code",
   "execution_count": 6,
   "metadata": {},
   "outputs": [
    {
     "name": "stdout",
     "output_type": "stream",
     "text": [
      "[1 2 3]\n"
     ]
    }
   ],
   "source": [
    "# NUMPY TUTORIAL\n",
    "# print(\"hello\")\n",
    "# CREATING THE N DIMENSIONAL ARRAY\n",
    "import numpy as np\n",
    "a0= np.array\n",
    "# We can also pass a collection object into the array routine to create the equivalent\n",
    "#  n-dimensional array. The syntax is given below.\n",
    "# np.array(object, dtype = None, copy = True, order = None, subok = False, ndmin = 0)\n",
    "# SN \tParameter \tDescription\n",
    "# ==============================================================================================\n",
    "# 1 \tobject \tIt represents the collection object. It can be a list, tuple, dictionary, set, etc.\n",
    "# 2 \tdtype \tWe can change the data type of the array elements by changing this option to the specified type. The default is none.\n",
    "# 3 \tcopy \tIt is optional. By default, it is true which means the object is copied.\n",
    "# 4 \torder \tThere can be 3 possible values assigned to this option. It can be C (column order), R (row order), or A (any)\n",
    "# 5 \tsubok \tThe returned array will be base class array by default. We can change this to make the subclasses passes through by setting this option to true.\n",
    "# 6 \tndmin \tIt represents the minimum dimensions of the resultant array.\n",
    "a=np.array([1, 2, 3])\n",
    "print(a)"
   ]
  },
  {
   "cell_type": "code",
   "execution_count": 8,
   "metadata": {},
   "outputs": [],
   "source": [
    "# To change the data type of the array elements, mention the name of the data type along with the collection. \n",
    "a = np.array([1, 3, 5, 7], complex) "
   ]
  },
  {
   "cell_type": "code",
   "execution_count": 15,
   "metadata": {},
   "outputs": [
    {
     "ename": "ModuleNotFoundError",
     "evalue": "No module named 'nps'",
     "output_type": "error",
     "traceback": [
      "\u001b[1;31m---------------------------------------------------------------------------\u001b[0m",
      "\u001b[1;31mModuleNotFoundError\u001b[0m                       Traceback (most recent call last)",
      "\u001b[1;32mc:\\Users\\CUTM\\Desktop\\Python-Tutorial\\NumPy\\numpy.ipynb Cell 3\u001b[0m in \u001b[0;36m<cell line: 3>\u001b[1;34m()\u001b[0m\n\u001b[0;32m      <a href='vscode-notebook-cell:/c%3A/Users/CUTM/Desktop/Python-Tutorial/NumPy/numpy.ipynb#W2sZmlsZQ%3D%3D?line=0'>1</a>\u001b[0m \u001b[39m# Finding the dimensions of the Array\u001b[39;00m\n\u001b[0;32m      <a href='vscode-notebook-cell:/c%3A/Users/CUTM/Desktop/Python-Tutorial/NumPy/numpy.ipynb#W2sZmlsZQ%3D%3D?line=1'>2</a>\u001b[0m \u001b[39m# The ndim function can be used to find the dimensions of the array.\u001b[39;00m\n\u001b[1;32m----> <a href='vscode-notebook-cell:/c%3A/Users/CUTM/Desktop/Python-Tutorial/NumPy/numpy.ipynb#W2sZmlsZQ%3D%3D?line=2'>3</a>\u001b[0m \u001b[39mimport\u001b[39;00m \u001b[39mnps\u001b[39;00m \u001b[39mas\u001b[39;00m \u001b[39mnumpy\u001b[39;00m\n\u001b[0;32m      <a href='vscode-notebook-cell:/c%3A/Users/CUTM/Desktop/Python-Tutorial/NumPy/numpy.ipynb#W2sZmlsZQ%3D%3D?line=3'>4</a>\u001b[0m arr \u001b[39m=\u001b[39m nps\u001b[39m.\u001b[39marray([[\u001b[39m1\u001b[39m, \u001b[39m2\u001b[39m, \u001b[39m3\u001b[39m, \u001b[39m4\u001b[39m], [\u001b[39m4\u001b[39m, \u001b[39m5\u001b[39m, \u001b[39m6\u001b[39m, \u001b[39m7\u001b[39m], [\u001b[39m9\u001b[39m, \u001b[39m10\u001b[39m, \u001b[39m11\u001b[39m, \u001b[39m23\u001b[39m]])  \n\u001b[0;32m      <a href='vscode-notebook-cell:/c%3A/Users/CUTM/Desktop/Python-Tutorial/NumPy/numpy.ipynb#W2sZmlsZQ%3D%3D?line=4'>5</a>\u001b[0m \u001b[39mprint\u001b[39m(arr\u001b[39m.\u001b[39mndim)\n",
      "\u001b[1;31mModuleNotFoundError\u001b[0m: No module named 'nps'"
     ]
    }
   ],
   "source": [
    "# Finding the dimensions of the Array\n",
    "# The ndim function can be used to find the dimensions of the array.\n",
    "\n",
    "arr = nps.array([[1, 2, 3, 4], [4, 5, 6, 7], [9, 10, 11, 23]])  \n",
    "print(arr.ndim) "
   ]
  },
  {
   "cell_type": "code",
   "execution_count": null,
   "metadata": {},
   "outputs": [],
   "source": [
    "import np as numpy\n"
   ]
  }
 ],
 "metadata": {
  "kernelspec": {
   "display_name": "Python 3.10.4 64-bit",
   "language": "python",
   "name": "python3"
  },
  "language_info": {
   "codemirror_mode": {
    "name": "ipython",
    "version": 3
   },
   "file_extension": ".py",
   "mimetype": "text/x-python",
   "name": "python",
   "nbconvert_exporter": "python",
   "pygments_lexer": "ipython3",
   "version": "3.10.4"
  },
  "orig_nbformat": 4,
  "vscode": {
   "interpreter": {
    "hash": "e6763ba6110e050d0e6d4dc5757df4d9377869df6777c500c615f7546a6ecc95"
   }
  }
 },
 "nbformat": 4,
 "nbformat_minor": 2
}
