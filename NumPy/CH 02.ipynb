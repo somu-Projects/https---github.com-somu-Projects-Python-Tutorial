{
 "cells": [
  {
   "cell_type": "markdown",
   "metadata": {},
   "source": [
    "### Numpy Array Manipulation form the existing data\n",
    "| Name  | Description | Syntax |\n",
    "| ------------- | ------------- | ------------- |\n",
    "| array()  | Create an array.  | array(object[, dtype, copy, order, subok, ndmin]) |\n",
    "| asarray()  | Convert the input to an array.  | asarray(a[, dtype, order]) |\n",
    "| asanyarray()  | Convert the input to an ndarray, but pass ndarray subclasses through.  | asanyarray(a[, dtype, order]) |\n",
    "| ascontiguousarray()  | CReturn a contiguous array in memory (C order).  | ascontiguousarray(a[, dtype]) |\n",
    "| asmatrix()  | Interpret the input as a matrix.  | asmatrix(data[, dtype]) |\n",
    "| copy()  | Return an array copy of the given object.  | copy(a[, order] |\n",
    "| frombuffer()  | Interpret a buffer as a 1-dimensional array. \t  | frombuffer(buffer[, dtype, count, offset]) |\n",
    "| fromfile()  | Construct an array from data in a text or binary file.  | fromfile(file[, dtype, count, sep]) |\n",
    "| fromfunction()  | Construct an array from data in a text or binary file.  | fromfile(file[, dtype, count, sep]) |\n",
    "| fromiter()  |  Create a new 1-dimensional array from an iterable object.  | fromiter(iterable, dtype[, count]) |\n",
    "| fromstring()   | A new 1-D array initialized from raw binary or text data in a string.  | fromstring(string[, dtype, count, sep]) |\n",
    "| loadtxt()  | Load data from a text file.  | loadtxt(fname[, dtype, comments, delimiter, ...]) |\n"
   ]
  },
  {
   "cell_type": "markdown",
   "metadata": {},
   "source": [
    "#### array() function\n",
    "\n",
    "The array() function is used to create an array.\n",
    "\n",
    "Syntax:\n",
    "\n",
    "numpy.array(object, dtype=None, copy=True, order=’K’, subok=False, ndmin=0)\n",
    "\n",
    "NumPy array: array() function"
   ]
  },
  {
   "cell_type": "code",
   "execution_count": 3,
   "metadata": {},
   "outputs": [
    {
     "data": {
      "text/plain": [
       "array([2, 4, 6])"
      ]
     },
     "execution_count": 3,
     "metadata": {},
     "output_type": "execute_result"
    }
   ],
   "source": [
    "import numpy as np\n",
    "np.array([2, 4, 6])"
   ]
  },
  {
   "cell_type": "markdown",
   "metadata": {},
   "source": [
    "#### asarray() function\n",
    "\n",
    "The asarray() function is used to convert an given input to an array.\n",
    "\n",
    "Syntax:\n",
    "\n",
    "numpy.asarray(a, dtype=None, order=None)\n",
    "\n",
    "Return value:\n",
    "\n",
    "[ ndarray] Array interpretation of a. No copy is performed if the input is already an ndarray with matching dtype and order. If a is a subclass of ndarray, a base class ndarray is returned.\n",
    "\n",
    "Example-1: numpy.asarray() function"
   ]
  },
  {
   "cell_type": "code",
   "execution_count": 4,
   "metadata": {},
   "outputs": [
    {
     "data": {
      "text/plain": [
       "array([2, 3])"
      ]
     },
     "execution_count": 4,
     "metadata": {},
     "output_type": "execute_result"
    }
   ],
   "source": [
    "import numpy as np\n",
    "a = [2, 3]\n",
    "np.asarray(a)"
   ]
  },
  {
   "cell_type": "markdown",
   "metadata": {},
   "source": [
    "#### asanyarray() function\n",
    "\n",
    "The asanyarray() function is used to convert the input to an ndarray, but pass ndarray subclasses through.\n",
    "\n",
    "Syntax:\n",
    "\n",
    "numpy.asanyarray(a, dtype=None, order=None)"
   ]
  },
  {
   "cell_type": "code",
   "execution_count": 5,
   "metadata": {},
   "outputs": [
    {
     "data": {
      "text/plain": [
       "array([2, 4])"
      ]
     },
     "execution_count": 5,
     "metadata": {},
     "output_type": "execute_result"
    }
   ],
   "source": [
    "import numpy as np\n",
    "a = [2, 4]\n",
    "np.asanyarray(a)"
   ]
  },
  {
   "cell_type": "markdown",
   "metadata": {},
   "source": [
    "#### ascontiguousarray() function\n",
    "\n",
    "The ascontiguousarray() function is used to get a contiguous array in memory (C order).\n",
    "\n",
    "Syntax:\n",
    "\n",
    "numpy.ascontiguousarray(a, dtype=None)"
   ]
  },
  {
   "cell_type": "code",
   "execution_count": 6,
   "metadata": {},
   "outputs": [
    {
     "data": {
      "text/plain": [
       "array([[0., 1.],\n",
       "       [2., 3.],\n",
       "       [4., 5.],\n",
       "       [6., 7.]], dtype=float32)"
      ]
     },
     "execution_count": 6,
     "metadata": {},
     "output_type": "execute_result"
    }
   ],
   "source": [
    "import numpy as np\n",
    "a = np.arange(8). reshape (4, 2)\n",
    "np.ascontiguousarray(a, dtype=np.float32)"
   ]
  },
  {
   "cell_type": "markdown",
   "metadata": {},
   "source": [
    "#### asmatrix() function\n",
    "\n",
    "The asmatrix() function is used to interpret the input as a matrix.\n",
    "Unlike matrix, asmatrix does not make a copy if the input is already a matrix or an ndarray. Equivalent to matrix(data, copy=False).\n",
    "\n",
    "Syntax:\n",
    "\n",
    "numpy.asmatrix(data, dtype=None)"
   ]
  },
  {
   "cell_type": "code",
   "execution_count": 10,
   "metadata": {},
   "outputs": [],
   "source": [
    "import numpy as np\n",
    "x = np.array([[1,2], [3,4]])\n",
    "n = np.asmatrix(x)"
   ]
  },
  {
   "cell_type": "markdown",
   "metadata": {},
   "source": [
    "#### copy() function\n",
    "\n",
    "The copy() function is used to get an array copy of an given object.\n",
    "\n",
    "Version: 1.15.0\n",
    "\n",
    "Syntax:\n",
    "\n",
    "numpy.copy(a, order='K')\n",
    "\n",
    "Parameter:\n",
    "\n",
    "| Name  | Description | Required or Optional |\n",
    "| ------------- | ------------- | ------------- |\n",
    "| a  | Input data.  | Required |\n",
    "| order  | Controls the memory layout of the copy. 'C' means C-order, 'F' means F-order, 'A' means 'F' if a is Fortran contiguous, 'C’ otherwise. 'K' means match the layout of a as closely as possible. (Note that this function and ndarray.copy are very similar, but have different default values for their order= arguments.)  | optional |\n"
   ]
  },
  {
   "cell_type": "code",
   "execution_count": 12,
   "metadata": {},
   "outputs": [
    {
     "data": {
      "text/plain": [
       "array([2, 3, 4])"
      ]
     },
     "execution_count": 12,
     "metadata": {},
     "output_type": "execute_result"
    }
   ],
   "source": [
    "import numpy as np\n",
    "a = np.array ( [2, 3, 4])\n",
    "b = a\n",
    "c = np.copy(a)\n",
    "c"
   ]
  },
  {
   "cell_type": "markdown",
   "metadata": {},
   "source": [
    "#### fromfunction() function\n",
    "\n",
    "The fromfunction() function is used to construct an array by executing a function over each coordinate.\n",
    "The resulting array therefore has a value fn(x, y, z) at coordinate (x, y, z).\n",
    "\n",
    "Syntax:\n",
    "\n",
    "numpy.fromfunction(function, shape, **kwargs)\n",
    "\n",
    "Parameter:\n",
    "\n",
    "| Name  | Description | Required or Optional |\n",
    "| ------------- | ------------- | ------------- |\n",
    "| function | The function is called with N parameters, where N is the rank of shape. Each parameter represents the coordinates of the array varying along a specific axis. For example, if shape were (2, 2), then the parameters would be array([[0, 0], [1, 1]]) and array([[0, 1], [0, 1]])  | Required |\n",
    "| shape  | Shape of the output array, which also determines the shape of the coordinate arrays passed to function. | required |\n",
    "| dtype  | Data-type of the coordinate arrays passed to function. By default, dtype is float | optional |\n",
    "\n",
    "Return value:\n",
    "\n",
    "fromfunction : any\n",
    "The result of the call to function is passed back directly. Therefore the shape of fromfunction is completely determined by function. If function returns a scalar value, the shape of fromfunction would match the shape parameter.\n",
    "\n",
    "Example-1: NumPy.fromfunction() method"
   ]
  },
  {
   "cell_type": "code",
   "execution_count": 13,
   "metadata": {},
   "outputs": [
    {
     "data": {
      "text/plain": [
       "array([[ True, False, False],\n",
       "       [False,  True, False]])"
      ]
     },
     "execution_count": 13,
     "metadata": {},
     "output_type": "execute_result"
    }
   ],
   "source": [
    "import numpy as np\n",
    "np.fromfunction(lambda i, j: i == j, (2, 3), dtype=int)"
   ]
  },
  {
   "cell_type": "markdown",
   "metadata": {},
   "source": [
    "[Click Me: ]<https://www.w3resource.com/numpy/array-creation/fromiter.php>\n",
    "\n",
    "#### fromiter() function\n",
    "\n",
    "The fromiter() function is used to create a new 1-dimensional array from an iterable object.\n",
    "\n",
    "Syntax:  numpy.fromiter(iterable, dtype, count=-1)\n",
    "\n",
    "\n",
    "| Name  | Description | Required or Optional |\n",
    "| ------------- | ------------- | ------------- |\n",
    "| iterable | An iterable object providing data for the array | Required |\n",
    "| dtype  | The data-type of the returned array. | required |\n",
    "| count  | The number of items to read from iterable. The default is -1, which means all data is read. | optional |\n",
    "\n",
    "\n",
    "Return value:\n",
    "\n",
    "out : ndarray\n",
    "The output array."
   ]
  },
  {
   "cell_type": "code",
   "execution_count": 14,
   "metadata": {},
   "outputs": [
    {
     "data": {
      "text/plain": [
       "array([ 0.,  1.,  4.,  9., 16., 25.])"
      ]
     },
     "execution_count": 14,
     "metadata": {},
     "output_type": "execute_result"
    }
   ],
   "source": [
    "import numpy as np\n",
    "iterable = (a*a for a in range(6))\n",
    "np.fromiter(iterable, float)"
   ]
  },
  {
   "cell_type": "markdown",
   "metadata": {},
   "source": [
    "#### loadtxt() function\n",
    "\n",
    "The loadtxt() function is used to load data from a text file.\n",
    "Each row in the text file must have the same number of values.\n",
    "\n",
    "Syntax:\n",
    "\n",
    "numpy.loadtxt(fname, dtype=<class 'float'7gt;, comments='#', delimiter=None, converters=None, skiprows=0, usecols=None, unpack=False, ndmin=0, encoding='bytes')\n",
    "\n",
    "NumPy array: loadtxt() function"
   ]
  },
  {
   "cell_type": "markdown",
   "metadata": {},
   "source": [
    "| Name       | Description                                                                                                                                                                                                                                                                                                                                                                                                                                        | Required /<br>Optional |\n",
    "| ---------- | -------------------------------------------------------------------------------------------------------------------------------------------------------------------------------------------------------------------------------------------------------------------------------------------------------------------------------------------------------------------------------------------------------------------------------------------------- | ---------------------- |\n",
    "|  |\n",
    "| fname      | File, filename, or generator to read. If the filename extension is .gz or .bz2, the file is first decompressed. Note that generators should return byte strings for Python 3k                                                                                                                                                                                                                                                                      | Required               |\n",
    "| dtype      | Data-type of the resulting array; default: float. If this is a structured data-type, the resulting array will be 1-dimensional, and each row will be interpreted as an element of the array. In this case, the number of columns used must match the number of fields in the data-type.                                                                                                                                                            | Optional               |\n",
    "| comments   | The characters or list of characters used to indicate the start of a comment. None implies no comments. For backwards compatibility, byte strings will be decoded as 'latin1'. The default is '#'.                                                                                                                                                                                                                                                 | Optional               |\n",
    "| delimiter  | The string used to separate values. For backwards compatibility, byte strings will be decoded as ‘latin1’. The default is whitespace.                                                                                                                                                                                                                                                                                                              | Optional               |\n",
    "| converters | A dictionary mapping column number to a function that will parse the column string into the desired value. E.g., if column 0 is a date string: converters = {0: datestr2num}. Converters can also be used to provide a default value for missing data (but see also genfromtxt): converters = {3: lambda s: float(s. strip() or 0)}. Default: None.                                                                                                | optional               |\n",
    "| skiprows   | Skip the first skiprows lines; default: 0                                                                                                                                                                                                                                                                                                                                                                                                          | optional               |\n",
    "| usecols    | Which columns to read, with 0 being the first. For example, usecols = (1,4,5) will extract the 2nd, 5th and 6th columns. The default, None,results in all columns being read.<br>Changed in version 1.11.0: When a single column has to be read it is possible to use an integer instead of a tuple. E.g usecols = 3 reads the fourth column the same way as usecols = (3,) would                                                                  | optional               |\n",
    "| unpack     | If True, the returned array is transposed, so that arguments may be unpacked using x, y, z = loadtxt(...). When used with a structured data-type, arrays are returned for each field. Default is False.                                                                                                                                                                                                                                            | optional               |\n",
    "| ndmin      | The returned array will have at least ndmin dimensions. Otherwise monodimensional axes will be squeezed. Legal values: 0 (default), 1 or 2. New in version 1.6.0.                                                                                                                                                                                                                                                                                  | optional               |\n",
    "| encoding   | Encoding used to decode the inputfile. Does not apply to input streams. The special value 'bytes' enables backward compatibility workarounds that ensures you receive byte arrays as results if possible and passes 'latin1' encoded strings to converters. Override this value to receive unicode arrays and pass strings as input to converters. If set to None the system default is used. The default value is 'bytes'. New in version 1.14.0. | optional               |"
   ]
  },
  {
   "cell_type": "code",
   "execution_count": 15,
   "metadata": {},
   "outputs": [
    {
     "data": {
      "text/plain": [
       "array([[0., 1.],\n",
       "       [2., 3.]])"
      ]
     },
     "execution_count": 15,
     "metadata": {},
     "output_type": "execute_result"
    }
   ],
   "source": [
    "import numpy as np\n",
    "from io import StringIO\n",
    "a = StringIO(u\"0 1\\n2 3\")\n",
    "np.loadtxt(a)"
   ]
  },
  {
   "cell_type": "code",
   "execution_count": 16,
   "metadata": {},
   "outputs": [
    {
     "data": {
      "text/plain": [
       "array([(b'M', 45, 85.), (b'F', 36, 47.)],\n",
       "      dtype=[('gender', 'S1'), ('age', '<i4'), ('weight', '<f4')])"
      ]
     },
     "execution_count": 16,
     "metadata": {},
     "output_type": "execute_result"
    }
   ],
   "source": [
    "import numpy as np\n",
    "from io import StringIO\n",
    "b = StringIO(u\"M 45 85\\nF 36 47\")\n",
    "np.loadtxt(b, dtype={'names': ('gender', 'age', 'weight'),   'formats': ('S1', 'i4', 'f4')})"
   ]
  },
  {
   "cell_type": "markdown",
   "metadata": {},
   "source": [
    "#### Creating record arrays (numpy.rec)\n",
    "| Name                       | Description                                                               | Syntax                                              |\n",
    "| -------------------------- | ------------------------------------------------------------------------- | --------------------------------------------------- |\n",
    "|  |\n",
    "| core.records.array()       | Construct a record array from a wide-variety of objects.                  | core.defchararray.array(obj\\[, itemsize, ...\\])     |\n",
    "| core.records.fromarrays()  | create a record array from a (flat) list of arrays                        | core.records.fromarrays(arrayList\\[, dtype, ...\\])  |\n",
    "| core.records.fromrecords() | create a recarray from a list of records in text form.                    | core.records.fromrecords(recList\\[, dtype, ...\\])   |\n",
    "| core.records.fromstring()  | create a (read-only) record array from binary data contained in a string. | core.records.fromstring(datastring\\[, dtype, ...\\]) |\n",
    "| core.records.fromfile()    | Create an array from binary file data.                                    | core.records.fromfile(fd\\[, dtype, shape, ...\\])    |"
   ]
  },
  {
   "cell_type": "markdown",
   "metadata": {},
   "source": [
    "#### Creating character arrays (numpy.char)\n",
    "| Name                      | Description                                                           | Syntax                                            |\n",
    "| ------------------------- | --------------------------------------------------------------------- | ------------------------------------------------- |\n",
    "|  |\n",
    "| core.defchararray.array() | Create a chararray.                                                   | core.defchararray.array(obj\\[, itemsize, ...\\])   |\n",
    "| core.defchararray.array() | Convert the input to a chararray, copying the data only if necessary. | core.defchararray.asarray(obj\\[, itemsize, ...\\]) |"
   ]
  },
  {
   "cell_type": "markdown",
   "metadata": {},
   "source": [
    "#### Numerical ranges\n",
    "| Name                                                                         | Description                                                            | Syntax                                              |\n",
    "| ---------------------------------------------------------------------------- | ---------------------------------------------------------------------- | --------------------------------------------------- |\n",
    "|  |\n",
    "| [arange()](https://www.w3resource.com/numpy/array-creation/arange.php)       | Return evenly spaced values within a given interval.                   | arange(\\[start,\\] stop\\[, step,\\]\\[, dtype\\])       |\n",
    "| [linspace()](https://www.w3resource.com/numpy/array-creation/linspace.php)   | Return evenly spaced numbers over a specified interval.                | linspace(start, stop\\[, num, endpoint, ...\\])       |\n",
    "| [logspace()](https://www.w3resource.com/numpy/array-creation/logspace.php)   | Return numbers spaced evenly on a log scale.                           | logspace(start, stop\\[, num, endpoint, base, ...\\]) |\n",
    "| [geomspace()](https://www.w3resource.com/numpy/array-creation/geomspace.php) | Return numbers spaced evenly on a log scale (a geometric progression). | geomspace(start, stop\\[, num, endpoint, dtype\\])    |\n",
    "| [meshgrid()](https://www.w3resource.com/numpy/array-creation/meshgrid.php)   | Return coordinate matrices from coordinate vectors.                    | meshgrid(\\*xi, \\*\\*kwargs)                          |\n",
    "| [mgrid()](https://www.w3resource.com/numpy/array-creation/mgrid.php)         | nd\\_grid instance which returns a dense multi-dimensional \"meshgrid\".  | mgrid                                               |\n",
    "| [ogrid()](https://www.w3resource.com/numpy/array-creation/ogrid.php)         | nd\\_grid instance which returns an open multi-dimensional \"meshgrid\".  | ogrid                                               |"
   ]
  },
  {
   "cell_type": "markdown",
   "metadata": {},
   "source": [
    "#### numpy.arange() function\n",
    "\n",
    "The arange() function is used to get evenly spaced values within a given interval.\n",
    "Values are generated within the half-open interval [start, stop]. For integer arguments the function is equivalent to the Python built-in range function, but returns an ndarray rather than a list.\n",
    "When using a non-integer step, such as 0.1, the results will often not be consistent. It is better to use linspace for these cases.\n",
    "\n",
    "Syntax:\n",
    "\n",
    "numpy.arange([start, ]stop, [step, ]dtype=None)\n",
    "\n",
    "| Name   | Description                                                                                                                                                                                                             | Required /<br>Optional |\n",
    "| ------ | ----------------------------------------------------------------------------------------------------------------------------------------------------------------------------------------------------------------------- | ---------------------- |\n",
    "|  |\n",
    "| start  | Start of interval. The interval includes this value. The default start value is 0.                                                                                                                                      | Optional               |\n",
    "| stop   | End of interval. The interval does not include this value, except in some cases where step is not an integer and floating point round-off affects the length of out.                                                    | Required               |\n",
    "| step   | Spacing between values. For any output out, this is the distance between two adjacent values, out\\[i+1\\] - out\\[i\\]. The default step size is 1. If step is specified as a position argument, start must also be given. | Optional               |\n",
    "| dtytpe | The type of the output array. If dtype is not given, infer the data type from the other input arguments.                                                                                                                | Optional               |\n",
    "Return value:\n",
    "\n",
    "arange : ndarray - Array of evenly spaced values.\n",
    "For floating point arguments, the length of the result is ceil((stop - start)/step). Because of floating point overflow, this rule may result in the last element of out being greater than stop.\n",
    "\n",
    "NumPy.arange() method Example - 1:\n",
    "\n"
   ]
  },
  {
   "cell_type": "code",
   "execution_count": 19,
   "metadata": {},
   "outputs": [
    {
     "data": {
      "text/plain": [
       "array([0., 1., 2., 3., 4.])"
      ]
     },
     "execution_count": 19,
     "metadata": {},
     "output_type": "execute_result"
    }
   ],
   "source": [
    "import numpy as np\n",
    "np.arange(5)\n",
    "np.arange(5.0)"
   ]
  },
  {
   "cell_type": "markdown",
   "metadata": {},
   "source": [
    "#### numpy.linspace() function\n",
    "\n",
    "The linspace() function returns evenly spaced numbers over a specified interval [start, stop].\n",
    "The endpoint of the interval can optionally be excluded.\n",
    "\n",
    "Syntax:\n",
    "\n",
    "numpy.linspace(start, stop, num=50, endpoint=True, retstep=False, dtype=None)\n",
    "\n",
    "Parameter:\n",
    "| Name     | Description                                                                                                                                                                                                                                 | Required /<br>Optional |\n",
    "| -------- | ------------------------------------------------------------------------------------------------------------------------------------------------------------------------------------------------------------------------------------------- | ---------------------- |\n",
    "|  |\n",
    "| start    | The starting value of the sequence.                                                                                                                                                                                                         | Required               |\n",
    "| stop     | The end value of the sequence, unless endpoint is set to False. In that case, the sequence consists of all but the last of num + 1 evenly spaced samples, so that stop is excluded. Note that the step size changes when endpoint is False. | Required               |\n",
    "| num      | Number of samples to generate. Default is 50. Must be non-negative.                                                                                                                                                                         | Optional               |\n",
    "| endpoint | If True, stop is the last sample. Otherwise, it is not included. Default is True.                                                                                                                                                           | Optional               |\n",
    "| retstep  | If True, return (samples, step), where step is the spacing between samples.                                                                                                                                                                 | Optional               |\n",
    "| dtype    | The type of the output array. If dtype is not given, infer the data type from the other input arguments.<br>New in version 1.9.0.                                                                                                           | Optional               |\n",
    "Return value:\n",
    "\n",
    "ndarray - There are num equally spaced samples in the closed interval [start, stop] or the half-open interval [start, stop) (depending on whether endpoint is True or False).\n",
    "\n",
    "step : float, optional - Only returned if retstep is True\n",
    "Size of spacing between samples.\n",
    "\n",
    "Example-1: NumPy.linspace() method "
   ]
  },
  {
   "cell_type": "code",
   "execution_count": 20,
   "metadata": {},
   "outputs": [
    {
     "data": {
      "text/plain": [
       "array([3.        , 3.16666667, 3.33333333, 3.5       , 3.66666667,\n",
       "       3.83333333, 4.        ])"
      ]
     },
     "execution_count": 20,
     "metadata": {},
     "output_type": "execute_result"
    }
   ],
   "source": [
    "import numpy as np\n",
    "np.linspace(3.0, 4.0, num=7)"
   ]
  },
  {
   "cell_type": "code",
   "execution_count": 21,
   "metadata": {},
   "outputs": [
    {
     "data": {
      "text/plain": [
       "array([3.        , 3.14285714, 3.28571429, 3.42857143, 3.57142857,\n",
       "       3.71428571, 3.85714286])"
      ]
     },
     "execution_count": 21,
     "metadata": {},
     "output_type": "execute_result"
    }
   ],
   "source": [
    "np.linspace(3.0,4.0, num=7, endpoint=False)"
   ]
  },
  {
   "cell_type": "code",
   "execution_count": 22,
   "metadata": {},
   "outputs": [
    {
     "data": {
      "text/plain": [
       "(array([3.        , 3.16666667, 3.33333333, 3.5       , 3.66666667,\n",
       "        3.83333333, 4.        ]),\n",
       " 0.16666666666666666)"
      ]
     },
     "execution_count": 22,
     "metadata": {},
     "output_type": "execute_result"
    }
   ],
   "source": [
    "np.linspace(3.0,4.0, num=7, retstep=True)"
   ]
  },
  {
   "cell_type": "markdown",
   "metadata": {},
   "source": [
    "#### numpy.logspace() function\n",
    "\n",
    "The logspace() function return numbers spaced evenly on a log scale.\n",
    "In linear space, the sequence starts at base ** start (base to the power of start) and ends with base ** stop.\n",
    "\n",
    "Syntax:\n",
    "\n",
    "numpy.geomspace(start, stop, num=50, endpoint=True, dtype=None)\n",
    "\n",
    "NumPy array: logspace() function\n",
    "\n",
    "Parameter:\n",
    "| Name     | Description                                                                                                                                                                                                             | Required /<br>Optional |\n",
    "| -------- | ----------------------------------------------------------------------------------------------------------------------------------------------------------------------------------------------------------------------- | ---------------------- |\n",
    "|  |\n",
    "| start    | base \\*\\* start is the starting value of the sequence.                                                                                                                                                                  |                        |\n",
    "| stop     | base \\*\\* stop is the final value of the sequence, unless endpoint is False. In that case, num + 1 values are spaced over the interval in log-space, of which all but the last (a sequence of length num) are returned. |                        |\n",
    "| num      | Number of samples to generate. Default is 50.                                                                                                                                                                           | optional               |\n",
    "| endpoint | If True, stop is the last sample. Otherwise, it is not included. Default is True.                                                                                                                                       | optional               |\n",
    "| base     | The base of the log space. The step size between the elements in ln(samples) / ln(base) (or log\\_base(samples)) is uniform. Default is 10.0.                                                                            | optional               |\n",
    "| dtype    | The type of the output array. If dtype is not given, infer the data type from the other input arguments.                                                                                                                |"
   ]
  },
  {
   "cell_type": "code",
   "execution_count": 23,
   "metadata": {},
   "outputs": [
    {
     "data": {
      "text/plain": [
       "array([ 10000.        ,  31622.77660168, 100000.        ])"
      ]
     },
     "execution_count": 23,
     "metadata": {},
     "output_type": "execute_result"
    }
   ],
   "source": [
    "np.logspace(4.0, 5.0, num=3)"
   ]
  },
  {
   "cell_type": "code",
   "execution_count": 24,
   "metadata": {},
   "outputs": [
    {
     "data": {
      "text/plain": [
       "array([10000.        , 21544.34690032, 46415.88833613])"
      ]
     },
     "execution_count": 24,
     "metadata": {},
     "output_type": "execute_result"
    }
   ],
   "source": [
    "np.logspace(4.0, 5.0, num=3, endpoint=False)"
   ]
  },
  {
   "cell_type": "code",
   "execution_count": 25,
   "metadata": {},
   "outputs": [
    {
     "data": {
      "text/plain": [
       "array([16.      , 22.627417, 32.      ])"
      ]
     },
     "execution_count": 25,
     "metadata": {},
     "output_type": "execute_result"
    }
   ],
   "source": [
    "np.logspace(4.0, 5.0, num=3, base=2.0)"
   ]
  },
  {
   "cell_type": "markdown",
   "metadata": {},
   "source": [
    "#### Example-2: NumPy.logspace() function"
   ]
  },
  {
   "cell_type": "code",
   "execution_count": 26,
   "metadata": {},
   "outputs": [
    {
     "data": {
      "image/png": "[encoded data removed]",
      "text/plain": [
       "<Figure size 432x288 with 1 Axes>"
      ]
     },
     "metadata": {
      "needs_background": "light"
     },
     "output_type": "display_data"
    }
   ],
   "source": [
    "\n",
    "import numpy as np\n",
    "import matplotlib.pyplot as plt\n",
    "A=10\n",
    "a1=np.logspace(0.2, 2, A, endpoint=True)\n",
    "a2=np.logspace(0.2, 2, A, endpoint=False)\n",
    "b=np.zeros(A)\n",
    "plt.plot(a1, b, 'o')\n",
    "plt.plot(a2, b + 0.4, 'o')\n",
    "plt.ylim([-0.4, 2])\n",
    "plt.show()"
   ]
  },
  {
   "cell_type": "markdown",
   "metadata": {},
   "source": [
    "#### numpy.geomspace() function\n",
    "\n",
    "The geomspace() function is used to get numbers spaced evenly on a log scale (a geometric progression).\n",
    "This is similar to logspace, but with endpoints specified directly. Each output sample is a constant multiple of the previous.\n",
    "\n",
    "Syntax:\n",
    "\n",
    "numpy.geomspace(start, stop, num=50, endpoint=True, dtype=None)\n",
    "Parameter:\n",
    "| Name     | Description                                                                                                                                                                                           | Required /<br>Optional |\n",
    "| -------- | ----------------------------------------------------------------------------------------------------------------------------------------------------------------------------------------------------- | ---------------------- |\n",
    "|  |\n",
    "| start    | The starting value of the sequence.                                                                                                                                                                   | Required               |\n",
    "| stop     | The final value of the sequence, unless endpoint is False. In that case, num + 1 values are spaced over the interval in log-space, of which all but the last (a sequence of length num) are returned. | Required               |\n",
    "| num      | Number of samples to generate. Default is 50.                                                                                                                                                         | Optional               |\n",
    "| endpoint | If True, stop is the last sample. Otherwise, it is not included. Default is True.                                                                                                                     | Optional               |\n",
    "| dtype    | The type of the output array. If dtype is not given, infer the data type from the other input arguments.                                                                                              |\n",
    "Return value:\n",
    "\n",
    "ndarray - num samples, equally spaced on a log scale.\n",
    "\n",
    "Example-1: NumPy.geomspace() function"
   ]
  },
  {
   "cell_type": "code",
   "execution_count": 27,
   "metadata": {},
   "outputs": [
    {
     "data": {
      "text/plain": [
       "array([   1.,   10.,  100., 1000.])"
      ]
     },
     "execution_count": 27,
     "metadata": {},
     "output_type": "execute_result"
    }
   ],
   "source": [
    "np.geomspace(1, 1000, num=4)"
   ]
  },
  {
   "cell_type": "code",
   "execution_count": 28,
   "metadata": {},
   "outputs": [
    {
     "data": {
      "text/plain": [
       "array([  1.,  10., 100.])"
      ]
     },
     "execution_count": 28,
     "metadata": {},
     "output_type": "execute_result"
    }
   ],
   "source": [
    "np.geomspace(1, 1000, num=3, endpoint=False)"
   ]
  },
  {
   "cell_type": "code",
   "execution_count": 29,
   "metadata": {},
   "outputs": [
    {
     "data": {
      "text/plain": [
       "array([  1.        ,   5.62341325,  31.6227766 , 177.827941  ])"
      ]
     },
     "execution_count": 29,
     "metadata": {},
     "output_type": "execute_result"
    }
   ],
   "source": [
    "np.geomspace(1, 1000, num=4, endpoint=False)"
   ]
  },
  {
   "cell_type": "code",
   "execution_count": 30,
   "metadata": {},
   "outputs": [
    {
     "data": {
      "text/plain": [
       "array([  1.,   2.,   4.,   8.,  16.,  32.,  64., 128., 256.])"
      ]
     },
     "execution_count": 30,
     "metadata": {},
     "output_type": "execute_result"
    }
   ],
   "source": [
    "np.geomspace(1, 256, num=9)"
   ]
  },
  {
   "cell_type": "code",
   "execution_count": null,
   "metadata": {},
   "outputs": [],
   "source": [
    "#### Example-2: NumPy.geomspace() method"
   ]
  },
  {
   "cell_type": "code",
   "execution_count": 31,
   "metadata": {},
   "outputs": [
    {
     "data": {
      "image/png": "[encoded data removed]",
      "text/plain": [
       "<Figure size 432x288 with 1 Axes>"
      ]
     },
     "metadata": {
      "needs_background": "light"
     },
     "output_type": "display_data"
    }
   ],
   "source": [
    "import numpy as np\n",
    "import matplotlib.pyplot as plt\n",
    "N = 10\n",
    "y = np.zeros(N)\n",
    "plt.semilogx(np.geomspace(1, 1000, N, endpoint=True), y + 1, 'o')\n",
    "plt.semilogx(np.geomspace(1, 1000, N, endpoint=False), y + 2, 'o')\n",
    "plt.axis([0.5, 2000, 0, 3])\n",
    "plt.grid(True, color='0.7', linestyle='-', which='both', axis='both')\n",
    "plt.show()"
   ]
  },
  {
   "cell_type": "markdown",
   "metadata": {},
   "source": [
    "#### numpy.meshgrid() function\n",
    "\n",
    "The meshgrid() function is used to get coordinate matrices from coordinate vectors.\n",
    "Make N-D coordinate arrays for vectorized evaluations of N-D scalar/vector fields over N-D grids, given one-dimensional coordinate arrays x1, x2,…, xn.\n",
    "\n",
    "Syntax:\n",
    "\n",
    "numpy.meshgrid(*xi, **kwargs)\n",
    "\n",
    "Parameter:\n",
    "| ame          | Description                                                                                                                                                                                                                                                                                                                                                             | Required /<br>Optional |\n",
    "| ------------ | ----------------------------------------------------------------------------------------------------------------------------------------------------------------------------------------------------------------------------------------------------------------------------------------------------------------------------------------------------------------------- | ---------------------- |\n",
    "|  |\n",
    "| x1, x2,…, xn | 1-D arrays representing the coordinates of a grid.                                                                                                                                                                                                                                                                                                                      |                        |\n",
    "| indexing     | Cartesian (‘xy’, default) or matrix (‘ij’) indexing of output. See Notes for more details.<br>New in version 1.7.0.                                                                                                                                                                                                                                                     | optional               |\n",
    "| sparse       | If True a sparse grid is returned in order to conserve memory. Default is False.<br>New in version 1.7.0.                                                                                                                                                                                                                                                               | optional               |\n",
    "| endpoint     | If True, stop is the last sample. Otherwise, it is not included. Default is True.                                                                                                                                                                                                                                                                                       | optional               |\n",
    "| copy         | If False, a view into the original arrays are returned in order to conserve memory. Default is True. Please note that sparse=False, copy=False will likely return non-contiguous arrays. Furthermore, more than one element of a broadcast array may refer to a single memory location. If you need to write to the arrays, make copies first.<br>New in version 1.7.0. |\n",
    "Return value:\n",
    "\n",
    "X1, X2,…, XN : ndarray - For vectors x1, x2,…, ‘xn’ with lengths Ni=len(xi) , return (N1, N2, N3,...Nn) shaped arrays if indexing=’ij’ or (N2, N1, N3,...Nn) shaped arrays if indexing=’xy’ with the elements of xi repeated to fill the matrix along the first dimension for x1, the second for x2 and so on.\n",
    "\n",
    "Example-1: NumPy.meshgrid() function "
   ]
  },
  {
   "cell_type": "code",
   "execution_count": 32,
   "metadata": {},
   "outputs": [
    {
     "data": {
      "text/plain": [
       "array([[0.        , 0.33333333, 0.66666667, 1.        ],\n",
       "       [0.        , 0.33333333, 0.66666667, 1.        ]])"
      ]
     },
     "execution_count": 32,
     "metadata": {},
     "output_type": "execute_result"
    }
   ],
   "source": [
    "import numpy as np\n",
    "ab, ac = (4, 2)\n",
    "b = np.linspace(0, 1, ab)\n",
    "c = np.linspace(0, 1, ac)\n",
    "bd, cd = np.meshgrid(b, c)\n",
    "bd"
   ]
  },
  {
   "cell_type": "code",
   "execution_count": 39,
   "metadata": {},
   "outputs": [
    {
     "data": {
      "text/plain": [
       "array([[0.        , 0.33333333, 0.66666667, 1.        ]])"
      ]
     },
     "execution_count": 39,
     "metadata": {},
     "output_type": "execute_result"
    }
   ],
   "source": [
    "cd\n"
   ]
  },
  {
   "cell_type": "code",
   "execution_count": 40,
   "metadata": {},
   "outputs": [
    {
     "data": {
      "text/plain": [
       "array([[0.        , 0.33333333, 0.66666667, 1.        ]])"
      ]
     },
     "execution_count": 40,
     "metadata": {},
     "output_type": "execute_result"
    }
   ],
   "source": [
    "bd, cd = np.meshgrid(b, c, sparse=True) #make sparse output arrays\n",
    "bd"
   ]
  },
  {
   "cell_type": "code",
   "execution_count": null,
   "metadata": {},
   "outputs": [],
   "source": [
    "#### Example - 2: NumPy.meshgrid() function"
   ]
  },
  {
   "cell_type": "code",
   "execution_count": 41,
   "metadata": {},
   "outputs": [
    {
     "data": {
      "image/png": "[encoded data removed]",
      "text/plain": [
       "<Figure size 432x288 with 1 Axes>"
      ]
     },
     "metadata": {
      "needs_background": "light"
     },
     "output_type": "display_data"
    }
   ],
   "source": [
    "import numpy as np\n",
    "import matplotlib.pyplot as plt\n",
    "import numpy as np\n",
    "a = np.arange(-4, 4, 0.1)\n",
    "b = np.arange(-4, 4, 0.1)\n",
    "aa, bb = np.meshgrid(a, b, sparse=True)\n",
    "c = np.sin(aa**2) / (aa**2 + bb**2)\n",
    "m = plt.contourf(a,b,c)\n",
    "plt.show()"
   ]
  },
  {
   "cell_type": "markdown",
   "metadata": {},
   "source": [
    "#### numpy.mgrid() function\n",
    "\n",
    "The mgrid() function is used to get a dense multi-dimensional 'meshgrid'.\n",
    "An instance of numpy.lib.index_tricks.nd_grid which returns an dense (or fleshed out) mesh-grid when indexed, so that each returned argument has the same shape. The dimensions and number of the output arrays are equal to the number of indexing dimensions. If the step length is not a complex number, then the stop is not inclusive.\n",
    "However, if the step length is a complex number (e.g. 5j), then the integer part of its magnitude is interpreted as specifying the number of points to create between the start and stop values, where the stop value is inclusive.\n",
    "\n",
    "Syntax:\n",
    "\n",
    "numpy.mgrid = <numpy.lib.index_tricks.nd_grid object>\n",
    "Return value:\n",
    "\n",
    "mesh-grid 'ndarrays' all of the same dimensions.\n",
    "Example-1: NumPy.mgrid() function"
   ]
  },
  {
   "cell_type": "code",
   "execution_count": 43,
   "metadata": {},
   "outputs": [
    {
     "data": {
      "text/plain": [
       "array([[[0, 0, 0, 0],\n",
       "        [1, 1, 1, 1],\n",
       "        [2, 2, 2, 2],\n",
       "        [3, 3, 3, 3]],\n",
       "\n",
       "       [[0, 1, 2, 3],\n",
       "        [0, 1, 2, 3],\n",
       "        [0, 1, 2, 3],\n",
       "        [0, 1, 2, 3]]])"
      ]
     },
     "execution_count": 43,
     "metadata": {},
     "output_type": "execute_result"
    }
   ],
   "source": [
    "import numpy as np\n",
    "import numpy as np\n",
    "np.mgrid[0:4, 0:4]"
   ]
  },
  {
   "cell_type": "code",
   "execution_count": 44,
   "metadata": {},
   "outputs": [
    {
     "data": {
      "text/plain": [
       "array([-2.        , -0.66666667,  0.66666667,  2.        ])"
      ]
     },
     "execution_count": 44,
     "metadata": {},
     "output_type": "execute_result"
    }
   ],
   "source": [
    "np.mgrid[-2:2:4j]"
   ]
  },
  {
   "cell_type": "markdown",
   "metadata": {},
   "source": [
    "#### numpy.ogrid() function\n",
    "\n",
    "nd_grid instance which returns an open multi-dimensional “meshgrid”. An instance of numpy.lib.index_tricks.nd_grid which returns an open (i.e. not fleshed out) mesh-grid when indexed, so that only one dimension of each returned array is greater than 1. The dimension and number of the output arrays are equal to the number of indexing dimensions. If the step length is not a complex number, then the stop is not inclusive.\n",
    "However, if the step length is a complex number (e.g. 5j), then the integer part of its magnitude is interpreted as specifying the number of points to create between the start and stop values, where the stop value is inclusive.\n",
    "\n",
    "Syntax:\n",
    "\n",
    "numpy.ogrid = <numpy.lib.index_tricks.nd_grid object>\n",
    "\n",
    "Return value:\n",
    "\n",
    "mesh-grid 'ndarrays' with only one dimension :math:'neq 1'.\n",
    "\n",
    "Example-1: NumPy.ogrid() function "
   ]
  },
  {
   "cell_type": "code",
   "execution_count": 45,
   "metadata": {},
   "outputs": [
    {
     "data": {
      "text/plain": [
       "array([-1.        , -0.33333333,  0.33333333,  1.        ])"
      ]
     },
     "execution_count": 45,
     "metadata": {},
     "output_type": "execute_result"
    }
   ],
   "source": [
    "import numpy as np\n",
    "from numpy import ogrid\n",
    "ogrid[-1:1:4j]"
   ]
  },
  {
   "cell_type": "markdown",
   "metadata": {},
   "source": [
    "#### Example-2: NumPy.ogrid() function "
   ]
  },
  {
   "cell_type": "code",
   "execution_count": 46,
   "metadata": {},
   "outputs": [
    {
     "data": {
      "text/plain": [
       "[array([[0],\n",
       "        [1],\n",
       "        [2],\n",
       "        [3]]),\n",
       " array([[0, 1, 2, 3]])]"
      ]
     },
     "execution_count": 46,
     "metadata": {},
     "output_type": "execute_result"
    }
   ],
   "source": [
    "import numpy as np\n",
    "from numpy import ogrid\n",
    "ogrid[0:4,0:4]"
   ]
  },
  {
   "cell_type": "markdown",
   "metadata": {},
   "source": [
    "#### Building matrices\n",
    "| Name                                                                       | Description                                                             | Syntax                       |\n",
    "| -------------------------------------------------------------------------- | ----------------------------------------------------------------------- | ---------------------------- |\n",
    "|  |\n",
    "| [diag()](https://www.w3resource.com/numpy/array-creation/diag.php)         | Extract a diagonal or construct a diagonal array.                       | diag(v\\[, k\\])               |\n",
    "| [diagflat()](https://www.w3resource.com/numpy/array-creation/diagflat.php) | Create a two-dimensional array with the flattened input as a diagonal.  | diagflat(v\\[, k\\])           |\n",
    "| [tri()](https://www.w3resource.com/numpy/array-creation/tri.php)           | An array with ones at and below the given diagonal and zeros elsewhere. | tri(N\\[, M, k, dtype\\])      |\n",
    "| [tril()](https://www.w3resource.com/numpy/array-creation/tril.php)         | Lower triangle of an array.                                             | tril(m\\[, k\\])               |\n",
    "| [triu()](https://www.w3resource.com/numpy/array-creation/triu.php)         | Upper triangle of an array.                                             | triu(m\\[, k\\])               |\n",
    "| [vander()](https://www.w3resource.com/numpy/array-creation/vander.php)     | Generate a Vandermonde matrix.                                          | vander(x\\[, N, increasing\\]) |"
   ]
  },
  {
   "cell_type": "code",
   "execution_count": null,
   "metadata": {},
   "outputs": [],
   "source": []
  },
  {
   "cell_type": "markdown",
   "metadata": {},
   "source": [
    "#### The Matrix class\n",
    "| Name                                                               | Description                                                     | Syntax                      |\n",
    "| ------------------------------------------------------------------ | --------------------------------------------------------------- | --------------------------- |\n",
    "|  |\n",
    "| [mat()](https://www.w3resource.com/numpy/array-creation/mat.php)   | Interpret the input as a matrix.                                | mat(data\\[, dtype\\])        |\n",
    "| [bmat()](https://www.w3resource.com/numpy/array-creation/bmat.php) | Build a matrix object from a string, nested sequence, or array. | bmat(obj\\[, ldict, gdict\\]) |"
   ]
  }
 ],
 "metadata": {
  "kernelspec": {
   "display_name": "Python 3.10.4 64-bit",
   "language": "python",
   "name": "python3"
  },
  "language_info": {
   "codemirror_mode": {
    "name": "ipython",
    "version": 3
   },
   "file_extension": ".py",
   "mimetype": "text/x-python",
   "name": "python",
   "nbconvert_exporter": "python",
   "pygments_lexer": "ipython3",
   "version": "3.10.4"
  },
  "orig_nbformat": 4,
  "vscode": {
   "interpreter": {
    "hash": "e6763ba6110e050d0e6d4dc5757df4d9377869df6777c500c615f7546a6ecc95"
   }
  }
 },
 "nbformat": 4,
 "nbformat_minor": 2
}
