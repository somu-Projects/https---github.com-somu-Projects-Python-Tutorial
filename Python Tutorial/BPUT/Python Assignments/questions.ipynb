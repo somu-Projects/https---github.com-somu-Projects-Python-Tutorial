{
 "cells": [
  {
   "cell_type": "code",
   "execution_count": 1,
   "metadata": {},
   "outputs": [
    {
     "name": "stdout",
     "output_type": "stream",
     "text": [
      "The gcd of 60 and 48 is : 12\n"
     ]
    }
   ],
   "source": [
    "# =======================================================\n",
    "# Question: Python program to find the gcd of two numbers\n",
    "# =======================================================\n",
    "\n",
    "# Python program to find the gcd of two numbers\n",
    "# Python code to demonstrate the working of gcd()\n",
    "# importing \"math\" for mathematical operations\n",
    "import math\n",
    "  \n",
    "# prints 12\n",
    "print(\"The gcd of 60 and 48 is : \", end=\"\")\n",
    "print(math.gcd(60, 48))\n"
   ]
  },
  {
   "cell_type": "code",
   "execution_count": 2,
   "metadata": {},
   "outputs": [
    {
     "name": "stdout",
     "output_type": "stream",
     "text": [
      "The gcd of 60 and 48 is : 12\n"
     ]
    }
   ],
   "source": [
    "# Using Recursion:\n",
    "# Python code to demonstrate naive\n",
    "# method to compute gcd ( recursion )\n",
    "  \n",
    "  \n",
    "def hcf(a, b):\n",
    "    if(b == 0):\n",
    "        return a\n",
    "    else:\n",
    "        return hcf(b, a % b)\n",
    "  \n",
    "a = 60\n",
    "b = 48\n",
    "  \n",
    "# prints 12\n",
    "print(\"The gcd of 60 and 48 is : \", end=\"\")\n",
    "print(hcf(60, 48))"
   ]
  },
  {
   "cell_type": "code",
   "execution_count": 3,
   "metadata": {},
   "outputs": [
    {
     "name": "stdout",
     "output_type": "stream",
     "text": [
      "10\n"
     ]
    }
   ],
   "source": [
    "# Using Euclidean Algorithm:\n",
    "# The Euclid’s algorithm (or Euclidean Algorithm) is a method for efficiently finding the greatest common divisor (GCD) of two numbers. The GCD of two integers X and Y is the largest number that divides both of X and Y (without leaving a remainder).\n",
    "# Pseudo Code of the Algorithm-\n",
    "# 1.\tLet  a, b  be the two numbers\n",
    "# 2.\ta mod b = R\n",
    "# 3.\tLet  a = b  and  b = R\n",
    "# 4.\tRepeat Steps 2 and 3 until  a mod b  is greater than 0\n",
    "# 5.\tGCD = b\n",
    "# 6.\t Finish\n",
    "# Recursive function to return gcd of a and b\n",
    "def gcd(a, b):\n",
    "  \n",
    "    # Everything divides 0\n",
    "    if (a == 0):\n",
    "        return b\n",
    "    if (b == 0):\n",
    "        return a\n",
    "  \n",
    "    # base case\n",
    "    if (a == b):\n",
    "        return a\n",
    "  \n",
    "    # a is greater\n",
    "    if (a > b):\n",
    "        return gcd(a-b, b)\n",
    "    return gcd(a, b-a)\n",
    "    \n",
    "print(gcd(30,40))\n"
   ]
  },
  {
   "cell_type": "code",
   "execution_count": 4,
   "metadata": {},
   "outputs": [
    {
     "name": "stdout",
     "output_type": "stream",
     "text": [
      "Square root of first number: 3.4641016151377544\n",
      "Square root of second number: 4.795831523312719\n"
     ]
    }
   ],
   "source": [
    "# ===========================================================================================\n",
    "# Python Program to find the square root of a number by Newton’s Method\n",
    "# Let N be any number then the square root of N can be given by the \n",
    "# formula: root = 0.5 * (X + (N / X)) where X is any guess which can be assumed to be N or 1.\n",
    "# ============================================================================================\n",
    "\n",
    "def newton_method(number, number_iters = 100):\n",
    "    a = float(number) \n",
    "    for i in range(number_iters): \n",
    "        number = 0.5 * (number + a / number) \n",
    "    return number\n",
    "a=int(input(\"Enter first number:\"))\n",
    "b=int(input(\"Enter second number:\"))\n",
    "print(\"Square root of first number:\",newton_method(a))\n",
    "print(\"Square root of second number:\",newton_method(b))"
   ]
  },
  {
   "cell_type": "code",
   "execution_count": 7,
   "metadata": {},
   "outputs": [
    {
     "name": "stdout",
     "output_type": "stream",
     "text": [
      "8\n"
     ]
    }
   ],
   "source": [
    "# ========================================================\n",
    "# Python Program to find the exponential power of a number\n",
    "# ========================================================\n",
    "a= int(input(\"enter a number\"))\n",
    "b= int(input(\"enter a power\"))\n",
    "if b==0:\n",
    "    print(1)\n",
    "else:\n",
    "    for i in range(1,b+1):\n",
    "        result=a**i\n",
    "print(result)"
   ]
  },
  {
   "cell_type": "code",
   "execution_count": 8,
   "metadata": {},
   "outputs": [
    {
     "name": "stdout",
     "output_type": "stream",
     "text": [
      "Largest element is: 99\n"
     ]
    }
   ],
   "source": [
    "# ===============================================\n",
    "# Python program to find largest number in a list\n",
    "# ===============================================\n",
    "# Python program to find largest\n",
    "# number in a list\n",
    " \n",
    "# list of numbers\n",
    "list1 = [10, 20, 4, 45, 99]\n",
    " \n",
    "# sorting the list\n",
    "list1.sort()\n",
    " \n",
    "# printing the last element\n",
    "print(\"Largest element is:\", list1[-1])"
   ]
  },
  {
   "cell_type": "code",
   "execution_count": 9,
   "metadata": {},
   "outputs": [
    {
     "name": "stdout",
     "output_type": "stream",
     "text": [
      "Largest element is: 99\n"
     ]
    }
   ],
   "source": [
    "# Method 2 : Using max() method \n",
    "# Python program to find largest\n",
    "# number in a list\n",
    " \n",
    "# list of numbers\n",
    "list1 = [10, 20, 4, 45, 99]\n",
    " \n",
    " \n",
    "# printing the maximum element\n",
    "print(\"Largest element is:\", max(list1))\n"
   ]
  },
  {
   "cell_type": "code",
   "execution_count": 10,
   "metadata": {},
   "outputs": [
    {
     "name": "stdout",
     "output_type": "stream",
     "text": [
      "Largest element is: 12\n"
     ]
    }
   ],
   "source": [
    "# Method 3 : Find max list element on inputs provided by user \n",
    "# Python program to find largest\n",
    "# number in a list\n",
    " \n",
    "# creating empty list\n",
    "list1 = []\n",
    " \n",
    "# asking number of elements to put in list\n",
    "num = int(input(\"Enter number of elements in list: \"))\n",
    " \n",
    "# iterating till num to append elements in list\n",
    "for i in range(1, num + 1):\n",
    "    ele = int(input(\"Enter elements: \"))\n",
    "    list1.append(ele)\n",
    "     \n",
    "# print maximum element\n",
    "print(\"Largest element is:\", max(list1))\n"
   ]
  },
  {
   "cell_type": "code",
   "execution_count": 11,
   "metadata": {},
   "outputs": [
    {
     "name": "stdout",
     "output_type": "stream",
     "text": [
      "Largest element is: 99\n"
     ]
    }
   ],
   "source": [
    "# Method 4 : Without using built in functions in python: \n",
    "# Python program to find largest\n",
    "# number in a list\n",
    " \n",
    "def myMax(list1):\n",
    " \n",
    "    # Assume first number in list is largest\n",
    "    # initially and assign it to variable \"max\"\n",
    "    max = list1[0]\n",
    " # Now traverse through the list and compare\n",
    "    # each number with \"max\" value. Whichever is\n",
    "    # largest assign that value to \"max'.\n",
    "    for x in list1:\n",
    "        if x > max :\n",
    "             max = x\n",
    "     \n",
    "    # after complete traversing the list\n",
    "    # return the \"max\" value\n",
    "    return max\n",
    " \n",
    " \n",
    "# Driver code\n",
    "list1 = [10, 20, 4, 45, 99]\n",
    "print(\"Largest element is:\", myMax(list1))"
   ]
  },
  {
   "cell_type": "code",
   "execution_count": 12,
   "metadata": {},
   "outputs": [
    {
     "name": "stdout",
     "output_type": "stream",
     "text": [
      "100\n"
     ]
    }
   ],
   "source": [
    "# Method: Use the max() and def functions to find the largest element in a given list. The max() function prints the largest element in the list.  \n",
    "# Python code\n",
    "# To find the largest number in a list\n",
    " \n",
    "def maxelement(lst):\n",
    "  # displaying largest element\n",
    "  # one line solution\n",
    "  print(max(lst))\n",
    " \n",
    "# driver code\n",
    "# input list\n",
    "lst = [20, 10, 20, 4, 100]\n",
    "# the above input can also be given as\n",
    "# lst = list(map(int, input().split()))  # -> taking input from the user\n",
    "maxelement(lst)\n",
    " \n",
    "# this code is contributed by gangarajula laxmi\n"
   ]
  },
  {
   "cell_type": "code",
   "execution_count": 14,
   "metadata": {},
   "outputs": [
    {
     "name": "stdout",
     "output_type": "stream",
     "text": [
      "Element is present at index 3\n",
      "Time Complexity: O(log n)\n",
      "Auxiliary Space: O(logn)     [NOTE: Recursion creates Call Stack]\n"
     ]
    }
   ],
   "source": [
    "# ==========================================================\n",
    "# Python Program for Binary Search (Recursive and Iterative)\n",
    "# ==========================================================\n",
    "# Python 3 program for recursive binary search.\n",
    "# Modifications needed for the older Python 2 are found in comments.\n",
    " \n",
    "# Returns index of x in arr if present, else -1\n",
    "def binary_search(arr, low, high, x):\n",
    " \n",
    "    # Check base case\n",
    "    if high >= low:\n",
    " \n",
    "        mid = (high + low) // 2\n",
    " \n",
    "        # If element is present at the middle itself\n",
    "        if arr[mid] == x:\n",
    "            return mid\n",
    " \n",
    "        # If element is smaller than mid, then it can only\n",
    "        # be present in left subarray\n",
    "        elif arr[mid] > x:\n",
    "            return binary_search(arr, low, mid - 1, x)\n",
    " \n",
    "        # Else the element can only be present in right subarray\n",
    "        else:\n",
    "            return binary_search(arr, mid + 1, high, x)\n",
    " \n",
    "    else:\n",
    "        # Element is not present in the array\n",
    "        return -1\n",
    " \n",
    "# Test array\n",
    "arr = [ 2, 3, 4, 10, 40 ]\n",
    "x = 10\n",
    " \n",
    "# Function call\n",
    "result = binary_search(arr, 0, len(arr)-1, x)\n",
    " \n",
    "if result != -1:\n",
    "    print(\"Element is present at index\", str(result))\n",
    "else:\n",
    "    print(\"Element is not present in array\")\n",
    "\n",
    "print(\"Time Complexity: O(log n)\")\n",
    "print(\"Auxiliary Space: O(logn)     [NOTE: Recursion creates Call Stack]\")\n"
   ]
  },
  {
   "cell_type": "code",
   "execution_count": 15,
   "metadata": {},
   "outputs": [
    {
     "name": "stdout",
     "output_type": "stream",
     "text": [
      "Element is present at index 3\n"
     ]
    }
   ],
   "source": [
    "# Iterative:\n",
    " \n",
    "# Iterative Binary Search Function\n",
    "# It returns index of x in given array arr if present,\n",
    "# else returns -1\n",
    "def binary_search(arr, x):\n",
    "    low = 0\n",
    "    high = len(arr) - 1\n",
    "    mid = 0\n",
    " \n",
    "    while low <= high:\n",
    " \n",
    "        mid = (high + low) // 2\n",
    " \n",
    "        # If x is greater, ignore left half\n",
    "        if arr[mid] < x:\n",
    "            low = mid + 1\n",
    " \n",
    "        # If x is smaller, ignore right half\n",
    "        elif arr[mid] > x:\n",
    "            high = mid - 1\n",
    " \n",
    "        # means x is present at mid\n",
    "        else:\n",
    "            return mid\n",
    " \n",
    "    # If we reach here, then the element was not present\n",
    "    return -1\n",
    " \n",
    " \n",
    "# Test array\n",
    "arr = [ 2, 3, 4, 10, 40 ]\n",
    "x = 10\n",
    " \n",
    "# Function call\n",
    "result = binary_search(arr, x)\n",
    " \n",
    "if result != -1:\n",
    "    print(\"Element is present at index\", str(result))\n",
    "else:\n",
    "    print(\"Element is not present in array\")\n"
   ]
  },
  {
   "cell_type": "code",
   "execution_count": 16,
   "metadata": {},
   "outputs": [],
   "source": [
    "# ================================\n",
    "# Python Program for Linear Search\n",
    "# ================================\n",
    "# Iterative Approach:\n",
    "# Searching an element in a list/array in python\n",
    "# can be simply done using \\'in\\' operator\n",
    "# Example:\n",
    "# if x in arr:\n",
    "#   print arr.index(x)\n",
    " \n",
    "# If you want to implement Linear Search in python\n",
    " \n",
    "# Linearly search x in arr[]\n",
    "# If x is present then return its location\n",
    "# else return -1\n",
    " \n",
    "def search(arr, x):\n",
    " \n",
    "    for i in range(len(arr)):\n",
    " \n",
    "        if arr[i] == x:\n",
    "            return i\n",
    " \n",
    "    return -1\n"
   ]
  },
  {
   "cell_type": "code",
   "execution_count": 17,
   "metadata": {},
   "outputs": [
    {
     "name": "stdout",
     "output_type": "stream",
     "text": [
      "The time complexity of the above algorithm is O(n). \n",
      "Auxiliary Space: O(1) for iterative and O(n) for recursive\n"
     ]
    }
   ],
   "source": [
    "# Recursive Approach: \n",
    "# This is similar to the above one, with the only difference\n",
    "# being that it is using the recursive approach instead of iterative.\n",
    " \n",
    " \n",
    "def search(arr, curr_index, key):\n",
    "    if curr_index == -1:\n",
    "        return -1\n",
    "    if arr[curr_index] == key:\n",
    "        return curr_index\n",
    "    return search(arr, curr_index-1, key)\n",
    "print(\"The time complexity of the above algorithm is O(n). \")\n",
    "print(\"Auxiliary Space: O(1) for iterative and O(n) for recursive\")\n"
   ]
  },
  {
   "cell_type": "code",
   "execution_count": 22,
   "metadata": {},
   "outputs": [
    {
     "name": "stdout",
     "output_type": "stream",
     "text": [
      "The array after sorting in Ascending Order by selection sort is:\n",
      "[-202, -97, -9, -2, 0, 11, 45, 88, 747]\n",
      "Time Complexity:  O(n2). \n",
      "Auxiliary Space: O(1).\n"
     ]
    }
   ],
   "source": [
    "# Python Program for Selection Sort\n",
    "# Selection sort in Python\n",
    "# time complexity O(n*n)\n",
    "#sorting by finding min_index\n",
    "def selectionSort(array, size):\n",
    "    \n",
    "    for ind in range(size):\n",
    "        min_index = ind\n",
    " \n",
    "        for j in range(ind + 1, size):\n",
    "            # select the minimum element in every iteration\n",
    "            if array[j] < array[min_index]:\n",
    "                min_index = j\n",
    "         # swapping the elements to sort the array\n",
    "        (array[ind], array[min_index]) = (array[min_index], array[ind])\n",
    " \n",
    "arr = [-2, 45, 0, 11, -9,88,-97,-202,747]\n",
    "size = len(arr)\n",
    "selectionSort(arr, size)\n",
    "print('The array after sorting in Ascending Order by selection sort is:')\n",
    "print(arr)\n",
    "print(\"Time Complexity:  O(n2). \\nAuxiliary Space: O(1).\")"
   ]
  },
  {
   "cell_type": "code",
   "execution_count": 23,
   "metadata": {},
   "outputs": [
    {
     "name": "stdout",
     "output_type": "stream",
     "text": [
      "Sorted array is : \n",
      "[5, 6, 11, 12, 13]\n",
      "Time Complexity: O(N2) \n",
      " Auxiliary Space: O(1) \n"
     ]
    }
   ],
   "source": [
    "# Python Program for Insertion Sort\n",
    "# Python program for implementation of Insertion Sort\n",
    " \n",
    "# Function to do insertion sort\n",
    "def insertionSort(arr):\n",
    " \n",
    "    # Traverse through 1 to len(arr)\n",
    "    for i in range(1, len(arr)):\n",
    " \n",
    "        key = arr[i]\n",
    " \n",
    "        # Move elements of arr[0..i-1], that are\n",
    "        # greater than key, to one position ahead\n",
    "        # of their current position\n",
    "        j = i-1\n",
    "        while j >=0 and key < arr[j] :\n",
    "                arr[j+1] = arr[j]\n",
    "                j -= 1\n",
    "        arr[j+1] = key\n",
    " \n",
    " \n",
    "#sorting the array [12, 11, 13, 5, 6] using insertionSort\n",
    "arr = [12, 11, 13, 5, 6]\n",
    "insertionSort(arr)   \n",
    "lst = [] #empty list to store sorted elements\n",
    "print(\"Sorted array is : \")\n",
    "for i in  range(len(arr)):\n",
    "      lst.append(arr[i])     #appending the elements in sorted order\n",
    "print(lst)\n",
    "print(\"Time Complexity: O(N2) \\n Auxiliary Space: O(1) \")"
   ]
  },
  {
   "cell_type": "code",
   "execution_count": 24,
   "metadata": {},
   "outputs": [
    {
     "name": "stdout",
     "output_type": "stream",
     "text": [
      "Given array is\n",
      "12 11 13 5 6 7 \n",
      "\n",
      "Sorted array is\n",
      "5 6 7 11 12 13 Time Complexity: O(n*log(n))\n",
      " Auxiliary Space: O(n)\n"
     ]
    }
   ],
   "source": [
    "# Python Program for Merge Sort\n",
    "# Merge Sort is a Divide and Conquer algorithm. \n",
    "# It divides input array in two halves, calls itself for the two halves and then merges the two sorted halves. \n",
    "# The merge() function is used for merging two halves. The merge(arr, l, m, r) is key process that assumes \n",
    "# that arr[l..m] and arr[m+1..r] are sorted and merges the two sorted sub-arrays into one. \n",
    "# Python program for implementation of MergeSort\n",
    " \n",
    "# Merges two subarrays of arr[].\n",
    "# First subarray is arr[l..m]\n",
    "# Second subarray is arr[m+1..r]\n",
    " \n",
    " \n",
    "def merge(arr, l, m, r):\n",
    "    n1 = m - l + 1\n",
    "    n2 = r - m\n",
    " \n",
    "    # create temp arrays\n",
    "    L = [0] * (n1)\n",
    "    R = [0] * (n2)\n",
    " \n",
    "    # Copy data to temp arrays L[] and R[]\n",
    "    for i in range(0, n1):\n",
    "        L[i] = arr[l + i]\n",
    " \n",
    "    for j in range(0, n2):\n",
    "        R[j] = arr[m + 1 + j]\n",
    " \n",
    "    # Merge the temp arrays back into arr[l..r]\n",
    "    i = 0     # Initial index of first subarray\n",
    "    j = 0     # Initial index of second subarray\n",
    "    k = l     # Initial index of merged subarray\n",
    " \n",
    "    while i < n1 and j < n2:\n",
    "        if L[i] <= R[j]:\n",
    "            arr[k] = L[i]\n",
    "            i += 1\n",
    "        else:\n",
    "            arr[k] = R[j]\n",
    "            j += 1\n",
    "        k += 1\n",
    " \n",
    "    # Copy the remaining elements of L[], if there\n",
    "    # are any\n",
    "    while i < n1:\n",
    "        arr[k] = L[i]\n",
    "        i += 1\n",
    "        k += 1\n",
    " \n",
    "    # Copy the remaining elements of R[], if there\n",
    "    # are any\n",
    "    while j < n2:\n",
    "        arr[k] = R[j]\n",
    "        j += 1\n",
    "        k += 1\n",
    " \n",
    "# l is for left index and r is right index of the\n",
    "# sub-array of arr to be sorted\n",
    " \n",
    " \n",
    "def mergeSort(arr, l, r):\n",
    "    if l < r:\n",
    " \n",
    "        # Same as (l+r)//2, but avoids overflow for\n",
    "        # large l and h\n",
    "        m = l+(r-l)//2\n",
    " \n",
    "        # Sort first and second halves\n",
    "        mergeSort(arr, l, m)\n",
    "        mergeSort(arr, m+1, r)\n",
    "        merge(arr, l, m, r)\n",
    " \n",
    " \n",
    "# Driver code to test above\n",
    "arr = [12, 11, 13, 5, 6, 7]\n",
    "n = len(arr)\n",
    "print(\"Given array is\")\n",
    "for i in range(n):\n",
    "    print(\"%d\" % arr[i],end=\" \")\n",
    " \n",
    "mergeSort(arr, 0, n-1)\n",
    "print(\"\\n\\nSorted array is\")\n",
    "for i in range(n):\n",
    "    print(\"%d\" % arr[i],end=\" \")\n",
    "print(\"Time Complexity: O(n*log(n))\\n Auxiliary Space: O(n)\")"
   ]
  },
  {
   "cell_type": "code",
   "execution_count": 26,
   "metadata": {},
   "outputs": [
    {
     "name": "stdout",
     "output_type": "stream",
     "text": [
      "Time Complexity: O(N2),\n",
      " Auxiliary Space: O(1), since no extra space has been taken.\n"
     ]
    }
   ],
   "source": [
    "# Program to print prime numbers from 1 to N.\n",
    "# Given a number N, the task is to print the prime numbers from 1 to N.\n",
    "# Examples: \n",
    "# Input: N = 10\n",
    "# Output: 2, 3, 5, 7\n",
    "\n",
    "# Input: N = 5\n",
    "# Output: 2, 3, 5 \n",
    "# Algorithm:  \n",
    "# •\tFirst, take the number N as input.\n",
    "# •\tThen use a for loop to iterate the numbers from 1 to N\n",
    "# •\tThen check for each number to be a prime number. If it is a prime number, print it.\n",
    "# Approach 1:  Now, according to formal definition, a number ‘n’ is prime if it is not divisible by any number other than 1 and n. In other words a number is prime if it is not divisible by any number from 2 to n-1.\n",
    "# Below is the implementation of the above approach:  \n",
    "\n",
    "# Python3 program to display Prime numbers till N\n",
    "def isPrime(n):\n",
    "  #since 0 and 1 is not prime return false.\n",
    "  if(n==1 or n==0):\n",
    "    return False\n",
    "   \n",
    "  #Run a loop from 2 to n-1\n",
    "  for i in range(2,n):\n",
    "    #if the number is divisible by i, then n is not a prime number.\n",
    "    if(n%i==0):\n",
    "      return False\n",
    "   \n",
    "  #otherwise, n is prime number.\n",
    "  return \n",
    "\n",
    "  # Driver code\n",
    "N = 100;\n",
    "#check for every number from 1 to N\n",
    "for i in range(1,N+1):\n",
    "  #check if current number is prime\n",
    "  if(isPrime(i)):\n",
    "    print(i,end=\" \")\n",
    "print(\"Time Complexity: O(N2),\\n Auxiliary Space: O(1), since no extra space has been taken.\")"
   ]
  },
  {
   "cell_type": "code",
   "execution_count": 28,
   "metadata": {},
   "outputs": [
    {
     "name": "stdout",
     "output_type": "stream",
     "text": [
      "2 3 5 7 11 13 17 19 23 29 31 37 41 43 47 53 59 61 67 71 73 79 83 89 97 Time Complexity: O(N2),\n",
      "Auxiliary Space: O(1), since no extra space has been taken.\n"
     ]
    }
   ],
   "source": [
    "# Approach 2:  \n",
    "# For checking if a number is prime or not do we really need to iterate through \n",
    "# all the number form 2 to n-1? We already know that a number ‘n’ cannot be divided by any number greater \n",
    "# than ‘n/2’. So, according to this logic we only need to iterate through 2 to n/2 since number greater \n",
    "# than n/2 cannot divide n.\n",
    "# Python3 program to display Prime numbers till N\n",
    " \n",
    "#function to check if a given number is prime\n",
    "def isPrime(n):\n",
    "  #since 0 and 1 is not prime return false.\n",
    "  if(n==1 or n==0):\n",
    "    return False\n",
    "   \n",
    "  #Run a loop from 2 to n/2\n",
    "  for i in range(2,(n//2)+1):\n",
    "    #if the number is divisible by i, then n is not a prime number.\n",
    "    if(n%i==0):\n",
    "      return False\n",
    "   \n",
    "  #otherwise, n is prime number.\n",
    "  return True\n",
    " \n",
    " \n",
    " \n",
    "# Driver code\n",
    "N = 100;\n",
    "#check for every number from 1 to N\n",
    "for i in range(1,N+1):\n",
    "  #check if current number is prime\n",
    "  if(isPrime(i)):\n",
    "    print(i,end=\" \")\n",
    "print(\"Time Complexity: O(N2),\\nAuxiliary Space: O(1), since no extra space has been taken.\")"
   ]
  },
  {
   "cell_type": "code",
   "execution_count": 30,
   "metadata": {},
   "outputs": [
    {
     "name": "stdout",
     "output_type": "stream",
     "text": [
      "2 3 5 7 11 13 17 19 23 29 31 37 41 43 47 53 59 61 67 71 73 79 83 89 97 \n",
      "Time Complexity: O(N^(3/2)),\n",
      " Auxiliary Space: O(1)\n",
      "You can further optimize the time complexity to O(n*log(log(n)))\n"
     ]
    }
   ],
   "source": [
    "# Approach 3: If a number ‘n’ is not divided by any number less than or equals to the square root of n then, \n",
    "# it will not be divided by any other number greater than the square root of n. So, we only need to check up \n",
    "# to the square root of n.\n",
    "# Python3 program to display Prime numbers till N\n",
    " \n",
    "#function to check if a given number is prime\n",
    "def isPrime(n):\n",
    "  #since 0 and 1 is not prime return false.\n",
    "  if(n==1 or n==0):\n",
    "    return False\n",
    "   \n",
    "  #Run a loop from 2 to square root of n.\n",
    "  for i in range(2,int(n**(1/2))+1):\n",
    "    #if the number is divisible by i, then n is not a prime number.\n",
    "    if(n%i==0):\n",
    "      return False\n",
    "   \n",
    "  #otherwise, n is prime number.\n",
    "  return True\n",
    " \n",
    " \n",
    " \n",
    "# Driver code\n",
    "N = 100;\n",
    "#check for every number from 1 to N\n",
    "for i in range(1,N+1):\n",
    "  #check if current number is prime\n",
    "  if(isPrime(i)):\n",
    "    print(i,end=\" \")\n",
    "print(\"\\nTime Complexity: O(N^(3/2)),\\n Auxiliary Space: O(1)\\nYou can further optimize the time complexity to O(n*log(log(n)))\")"
   ]
  },
  {
   "cell_type": "code",
   "execution_count": 31,
   "metadata": {},
   "outputs": [
    {
     "name": "stdout",
     "output_type": "stream",
     "text": [
      "[114, 160, 60, 27]\n",
      "[74, 97, 73, 14]\n",
      "[119, 157, 112, 23]\n",
      "Time Complexity: O(M*M*N), as we are using nested loop traversing, M*M*N.\n",
      "Auxiliary Space: O(M*N),\n",
      "as we are using a result matrix which is extra space.\n"
     ]
    }
   ],
   "source": [
    "# Python program to multiply two matrices\n",
    "# Input : X = [[1, 7, 3],\n",
    "#              [3, 5, 6],\n",
    "#              [6, 8, 9]]\n",
    "#        Y = [[1, 1, 1, 2],\n",
    "#            [6, 7, 3, 0],\n",
    "#            [4, 5, 9, 1]]\n",
    " \n",
    "# Output : [55, 65, 49, 5]\n",
    "#          [57, 68, 72, 12]\n",
    "#          [90, 107, 111, 21]\n",
    "# Recommended: Please try your approach on {IDE} first, before moving on to the solution.\n",
    "# Using Simple Nested Loops: In this program we have to use nested for loops to iterate through each row and each column.\n",
    "# Implementation:\n",
    "# Program to multiply two matrices using nested loops\n",
    " \n",
    "# take a 3x3 matrix\n",
    "A = [[12, 7, 3],\n",
    "    [4, 5, 6],\n",
    "    [7, 8, 9]]\n",
    " \n",
    "# take a 3x4 matrix   \n",
    "B = [[5, 8, 1, 2],\n",
    "    [6, 7, 3, 0],\n",
    "    [4, 5, 9, 1]]\n",
    "     \n",
    "result = [[0, 0, 0, 0],\n",
    "        [0, 0, 0, 0],\n",
    "        [0, 0, 0, 0]]\n",
    " \n",
    "# iterating by row of A\n",
    "for i in range(len(A)):\n",
    " \n",
    "    # iterating by column by B\n",
    "    for j in range(len(B[0])):\n",
    " \n",
    "        # iterating by rows of B\n",
    "        for k in range(len(B)):\n",
    "            result[i][j] += A[i][k] * B[k][j]\n",
    " \n",
    "for r in result:\n",
    "    print(r)\n",
    "\n",
    "print(\"Time Complexity: O(M*M*N), as we are using nested loop traversing, M*M*N.\\nAuxiliary Space: O(M*N),\")\n",
    "print(\"as we are using a result matrix which is extra space.\") \n"
   ]
  },
  {
   "cell_type": "code",
   "execution_count": 33,
   "metadata": {},
   "outputs": [
    {
     "name": "stdout",
     "output_type": "stream",
     "text": [
      "[114, 160, 60, 27]\n",
      "[74, 97, 73, 14]\n",
      "[119, 157, 112, 23]\n",
      "Time Complexity: O(M*M*N), as we are using nested loop traversing, M*M*N.\n",
      "Auxiliary Space: O(M*N), as we are using a result matrix which is extra space.\n"
     ]
    }
   ],
   "source": [
    "# Methord -II Implementation:\n",
    "# Program to multiply two matrices using list comprehension\n",
    " \n",
    "# take a 3x3 matrix\n",
    "A = [[12, 7, 3],\n",
    "    [4, 5, 6],\n",
    "    [7, 8, 9]]\n",
    " \n",
    "# take a 3x4 matrix\n",
    "B = [[5, 8, 1, 2],\n",
    "    [6, 7, 3, 0],\n",
    "    [4, 5, 9, 1]]\n",
    " \n",
    "# result will be 3x4\n",
    "result = [[sum(a * b for a, b in zip(A_row, B_col))\n",
    "                        for B_col in zip(*B)]\n",
    "                                for A_row in A]\n",
    " \n",
    "for r in result:\n",
    "    print(r)\n",
    "print(\"Time Complexity: O(M*M*N), as we are using nested loop traversing, M*M*N.\")\n",
    "print(\"Auxiliary Space: O(M*N), as we are using a result matrix which is extra space.\")"
   ]
  },
  {
   "cell_type": "code",
   "execution_count": 34,
   "metadata": {},
   "outputs": [
    {
     "name": "stdout",
     "output_type": "stream",
     "text": [
      "[114 160  60  27]\n",
      "[74 97 73 14]\n",
      "[119 157 112  23]\n",
      "Time Complexity: O(M*M*N), as we are using nested loop traversing, M*M*N.\n",
      "Auxiliary Space: O(M*N), as we are using a result matrix which is extra space.\n"
     ]
    }
   ],
   "source": [
    "# Method 3: Matrix Multiplication (Vectorized implementation). \n",
    "# Implementation:\n",
    "# Program to multiply two matrices (vectorized implementation)\n",
    " \n",
    "# Program to multiply two matrices (vectorized implementation)\n",
    "import numpy as np\n",
    "# take a 3x3 matrix\n",
    "A = [[12, 7, 3],\n",
    "    [4, 5, 6],\n",
    "    [7, 8, 9]]\n",
    " \n",
    "# take a 3x4 matrix\n",
    "B = [[5, 8, 1, 2],\n",
    "    [6, 7, 3, 0],\n",
    "    [4, 5, 9, 1]]\n",
    " \n",
    "# result will be 3x4\n",
    " \n",
    "result= [[0,0,0,0],\n",
    "        [0,0,0,0],\n",
    "        [0,0,0,0]]\n",
    " \n",
    "result = np.dot(A,B)\n",
    " \n",
    "for r in result:\n",
    "    print(r)\n",
    "\n",
    "print(\"Time Complexity: O(M*M*N), as we are using nested loop traversing, M*M*N.\")\n",
    "print(\"Auxiliary Space: O(M*N), as we are using a result matrix which is extra space.\")"
   ]
  },
  {
   "cell_type": "code",
   "execution_count": 36,
   "metadata": {},
   "outputs": [
    {
     "data": {
      "text/plain": [
       "'NOTE:- Save this program in pr1.py\\nthen compile the file from commmand line  as :\\npython3 pr1.py 1 2 3 4 5\\nthen press enter key and see the output\\n\\n'"
      ]
     },
     "execution_count": 36,
     "metadata": {},
     "output_type": "execute_result"
    }
   ],
   "source": [
    "# Command Line Arguments in Python\n",
    "# ==================================\n",
    "# The arguments that are given after the name of the program in the command line shell of the operating system are known as Command Line Arguments. Python provides various ways of dealing with these types of arguments. The three most common are: \n",
    "# •\tUsing sys.argv\n",
    "# •\tUsing getopt module\n",
    "# •\tUsing argparse module\n",
    "# Using sys.argv\n",
    "# The sys module provides functions and variables used to manipulate different parts of the Python runtime environment. This module provides access to some variables used or maintained by the interpreter and to functions that interact strongly with the interpreter.\n",
    "# One such variable is sys.argv which is a simple list structure. It’s main purpose are:\n",
    "# •\tIt is a list of command line arguments.\n",
    "# •\tlen(sys.argv) provides the number of command line arguments.\n",
    "# •\tsys.argv[0] is the name of the current Python script. \n",
    "# Python program to demonstrate\n",
    "# command line arguments\n",
    "import sys\n",
    " # total arguments\n",
    "n = len(sys.argv)\n",
    "print(\"Total arguments passed:\", n)\n",
    " \n",
    "# Arguments passed\n",
    "print(\"\\nName of Python script:\", sys.argv[0])\n",
    " \n",
    "print(\"\\nArguments passed:\", end = \" \")\n",
    "for i in range(1, n):\n",
    "    print(sys.argv[i], end = \" \")\n",
    "     \n",
    "# Addition of numbers\n",
    "Sum = 0\n",
    "# Using argparse module\n",
    "for i in range(1, n):\n",
    "    Sum += int(sys.argv[i])\n",
    "     \n",
    "print(\"\\n\\nResult:\", Sum)\n",
    "\n",
    "'''NOTE:- Save this program in pr1.py\n",
    "then compile the file from commmand line  as :\n",
    "python3 pr1.py 1 2 3 4 5\n",
    "then press enter key and see the output\n",
    "\n",
    "'''\n"
   ]
  },
  {
   "cell_type": "code",
   "execution_count": 37,
   "metadata": {},
   "outputs": [
    {
     "name": "stdout",
     "output_type": "stream",
     "text": [
      "Most repeated word: on\n",
      "Frequency: 5\n"
     ]
    }
   ],
   "source": [
    "# Find the most repeated word in a text file\n",
    "# Python program to find the most repeated word\n",
    "# in a text file\n",
    " \n",
    "# create a file named \"ss.txt\", will be opened with the \n",
    "# reading mode.\n",
    "file = open(\"ss.txt\",\"r\")\n",
    "frequent_word = \"\"\n",
    "frequency = 0 \n",
    "words = []\n",
    " \n",
    "# Traversing file line by line\n",
    "for line in file:\n",
    "     \n",
    "    # splits each line into\n",
    "    # words and removing spaces\n",
    "    # and punctuations from the input\n",
    "    line_word = line.lower().replace(',','').replace('.','').split(\" \"); \n",
    "     \n",
    "    # Adding them to list words\n",
    "    for w in line_word: \n",
    "        words.append(w); \n",
    "         \n",
    "# Finding the max occurred word\n",
    "for i in range(0, len(words)): \n",
    "     \n",
    "    # Declaring count\n",
    "    count = 1; \n",
    "     \n",
    "    # Count each word in the file \n",
    "    for j in range(i+1, len(words)): \n",
    "        if(words[i] == words[j]): \n",
    "            count = count + 1; \n",
    " \n",
    "    # If the count value is more\n",
    "    # than highest frequency then\n",
    "    if(count > frequency): \n",
    "        frequency = count; \n",
    "        frequent_word = words[i]; \n",
    " \n",
    "print(\"Most repeated word: \" + frequent_word)\n",
    "print(\"Frequency: \" + str(frequency))\n",
    "file.close();\n"
   ]
  },
  {
   "cell_type": "code",
   "execution_count": 38,
   "metadata": {},
   "outputs": [
    {
     "name": "stdout",
     "output_type": "stream",
     "text": [
      "pip 22.0.4 from c:\\Users\\CUTM\\AppData\\Local\\Programs\\Python\\Python310\\lib\\site-packages\\pip (python 3.10)Note: you may need to restart the kernel to use updated packages.\n",
      "\n",
      "\n"
     ]
    }
   ],
   "source": [
    "pip --version"
   ]
  },
  {
   "cell_type": "code",
   "execution_count": 39,
   "metadata": {},
   "outputs": [
    {
     "name": "stdout",
     "output_type": "stream",
     "text": [
      "Collecting pygame\n",
      "  Downloading pygame-2.1.2-cp310-cp310-win_amd64.whl (8.4 MB)\n",
      "     ---------------------------------------- 8.4/8.4 MB 7.8 MB/s eta 0:00:00\n",
      "Installing collected packages: pygame\n",
      "Successfully installed pygame-2.1.2\n",
      "Note: you may need to restart the kernel to use updated packages.\n"
     ]
    },
    {
     "name": "stderr",
     "output_type": "stream",
     "text": [
      "WARNING: You are using pip version 22.0.4; however, version 22.2.2 is available.\n",
      "You should consider upgrading via the 'c:\\Users\\CUTM\\AppData\\Local\\Programs\\Python\\Python310\\python.exe -m pip install --upgrade pip' command.\n"
     ]
    }
   ],
   "source": [
    "pip install pygame"
   ]
  },
  {
   "cell_type": "code",
   "execution_count": 40,
   "metadata": {},
   "outputs": [
    {
     "name": "stdout",
     "output_type": "stream",
     "text": [
      "pygame 2.1.2 (SDL 2.0.18, Python 3.10.4)\n",
      "Hello from the pygame community. https://www.pygame.org/contribute.html\n"
     ]
    },
    {
     "ename": "SystemExit",
     "evalue": "",
     "output_type": "error",
     "traceback": [
      "An exception has occurred, use %tb to see the full traceback.\n",
      "\u001b[1;31mSystemExit\u001b[0m\n"
     ]
    },
    {
     "name": "stderr",
     "output_type": "stream",
     "text": [
      "c:\\Users\\CUTM\\AppData\\Local\\Programs\\Python\\Python310\\lib\\site-packages\\IPython\\core\\interactiveshell.py:3377: UserWarning: To exit: use 'exit', 'quit', or Ctrl-D.\n",
      "  warn(\"To exit: use 'exit', 'quit', or Ctrl-D.\", stacklevel=1)\n"
     ]
    },
    {
     "ename": "",
     "evalue": "",
     "output_type": "error",
     "traceback": [
      "\u001b[1;31mThe Kernel crashed while executing code in the the current cell or a previous cell. Please review the code in the cell(s) to identify a possible cause of the failure. Click <a href='https://aka.ms/vscodeJupyterKernelCrash'>here</a> for more info. View Jupyter <a href='command:jupyter.viewOutput'>log</a> for further details."
     ]
    }
   ],
   "source": [
    "# Python program to simulate elliptical orbits in Pygame\n",
    "import pygame\n",
    "import math\n",
    "import sys\n",
    "pygame.init()\n",
    "#setting screen size\n",
    "screen = pygame.display.set_mode((600, 300)) \n",
    "#setting caption\n",
    "pygame.display.set_caption(\"Elliptical orbit\")\n",
    "#creating clock variable\n",
    "clock=pygame.time.Clock() \n",
    "while(True):\n",
    "    for event in pygame.event.get():\n",
    "        if event.type == pygame.QUIT:\n",
    "            sys.exit()\n",
    "# setting x and y radius of ellipse    \n",
    "    xRadius = 250\n",
    "    yRadius = 100\n",
    "    for degree in range(0,360,10):\n",
    "        x1 = int(math.cos(degree * 2 * math.pi/360) * xRadius)+300\n",
    "        y1 = int(math.sin(degree * 2 * math.pi/360) * yRadius)+150\n",
    "        screen.fill((0, 0, 0))\n",
    "        pygame.draw.circle(screen, (255, 69, 0), [300, 150], 40)\n",
    "        pygame.draw.ellipse(screen,(255,255,255),[50,50,500,200],1)\n",
    "        pygame.draw.circle(screen, (0, 255, 0), [x1, y1], 20)\n",
    "        pygame.display.flip()\n",
    "        clock.tick(5)# screen refresh rate\n"
   ]
  },
  {
   "cell_type": "code",
   "execution_count": 1,
   "metadata": {},
   "outputs": [
    {
     "name": "stdout",
     "output_type": "stream",
     "text": [
      "pygame 2.1.2 (SDL 2.0.18, Python 3.10.4)\n",
      "Hello from the pygame community. https://www.pygame.org/contribute.html\n"
     ]
    },
    {
     "ename": "KeyboardInterrupt",
     "evalue": "",
     "output_type": "error",
     "traceback": [
      "\u001b[1;31m---------------------------------------------------------------------------\u001b[0m",
      "\u001b[1;31mKeyboardInterrupt\u001b[0m                         Traceback (most recent call last)",
      "\u001b[1;32mc:\\Users\\CUTM\\Desktop\\Python Tutorial\\BPUT\\Python Assignments\\questions.ipynb Cell 29\u001b[0m in \u001b[0;36m<cell line: 15>\u001b[1;34m()\u001b[0m\n\u001b[0;32m     <a href='vscode-notebook-cell:/c%3A/Users/CUTM/Desktop/Python%20Tutorial/BPUT/Python%20Assignments/questions.ipynb#X42sZmlsZQ%3D%3D?line=28'>29</a>\u001b[0m pygame\u001b[39m.\u001b[39mdraw\u001b[39m.\u001b[39mcircle(screen, (\u001b[39m0\u001b[39m, \u001b[39m0\u001b[39m, \u001b[39m255\u001b[39m), [x1, y1], \u001b[39m15\u001b[39m)\n\u001b[0;32m     <a href='vscode-notebook-cell:/c%3A/Users/CUTM/Desktop/Python%20Tutorial/BPUT/Python%20Assignments/questions.ipynb#X42sZmlsZQ%3D%3D?line=30'>31</a>\u001b[0m pygame\u001b[39m.\u001b[39mdisplay\u001b[39m.\u001b[39mflip()\n\u001b[1;32m---> <a href='vscode-notebook-cell:/c%3A/Users/CUTM/Desktop/Python%20Tutorial/BPUT/Python%20Assignments/questions.ipynb#X42sZmlsZQ%3D%3D?line=31'>32</a>\u001b[0m clock\u001b[39m.\u001b[39;49mtick(\u001b[39m5\u001b[39;49m)\n",
      "\u001b[1;31mKeyboardInterrupt\u001b[0m: "
     ]
    },
    {
     "ename": "",
     "evalue": "",
     "output_type": "error",
     "traceback": [
      "\u001b[1;31mThe Kernel crashed while executing code in the the current cell or a previous cell. Please review the code in the cell(s) to identify a possible cause of the failure. Click <a href='https://aka.ms/vscodeJupyterKernelCrash'>here</a> for more info. View Jupyter <a href='command:jupyter.viewOutput'>log</a> for further details."
     ]
    }
   ],
   "source": [
    "# another way\n",
    "#Elliptical orbits\n",
    "\n",
    "import pygame\n",
    "import math\n",
    "import sys\n",
    "\n",
    "pygame.init()\n",
    "\n",
    "screen = pygame.display.set_mode((600, 300))\n",
    "pygame.display.set_caption(\"Elliptical orbit\")\n",
    "\n",
    "clock = pygame.time.Clock()\n",
    "\n",
    "while(True):\n",
    "    for event in pygame.event.get():\n",
    "        if event.type == pygame.QUIT:\n",
    "            sys.exit()\n",
    "    \n",
    "    xRadius = 250\n",
    "    yRadius = 100 \n",
    "    \n",
    "    for degree in range(0,360,10):\n",
    "        x1 = int(math.cos(degree * 2 * math.pi / 360) * xRadius) + 300\n",
    "        y1 = int(math.sin(degree * 2 * math.pi / 360) * yRadius) + 150\n",
    "        screen.fill((0, 0, 0))\n",
    "        pygame.draw.circle(screen, (255, 0, 0), [300, 150], 35)\n",
    "        pygame.draw.ellipse(screen, (255, 255, 255), [50, 50, 500, 200], 1)\n",
    "        pygame.draw.circle(screen, (0, 0, 255), [x1, y1], 15)\n",
    "        \n",
    "        pygame.display.flip()\n",
    "        clock.tick(5)\n"
   ]
  },
  {
   "cell_type": "code",
   "execution_count": 1,
   "metadata": {},
   "outputs": [
    {
     "name": "stdout",
     "output_type": "stream",
     "text": [
      "pygame 2.1.2 (SDL 2.0.18, Python 3.10.4)\n",
      "Hello from the pygame community. https://www.pygame.org/contribute.html\n"
     ]
    },
    {
     "ename": "FileNotFoundError",
     "evalue": "No file 'ball.png' found in working directory 'c:\\Users\\CUTM\\Desktop\\Python Tutorial\\BPUT\\Python Assignments'.",
     "output_type": "error",
     "traceback": [
      "\u001b[1;31m---------------------------------------------------------------------------\u001b[0m",
      "\u001b[1;31mFileNotFoundError\u001b[0m                         Traceback (most recent call last)",
      "\u001b[1;32mc:\\Users\\CUTM\\Desktop\\Python Tutorial\\BPUT\\Python Assignments\\questions.ipynb Cell 30\u001b[0m in \u001b[0;36m<cell line: 9>\u001b[1;34m()\u001b[0m\n\u001b[0;32m      <a href='vscode-notebook-cell:/c%3A/Users/CUTM/Desktop/Python%20Tutorial/BPUT/Python%20Assignments/questions.ipynb#X43sZmlsZQ%3D%3D?line=6'>7</a>\u001b[0m screen \u001b[39m=\u001b[39m pygame\u001b[39m.\u001b[39mdisplay\u001b[39m.\u001b[39mset_mode(size)\n\u001b[0;32m      <a href='vscode-notebook-cell:/c%3A/Users/CUTM/Desktop/Python%20Tutorial/BPUT/Python%20Assignments/questions.ipynb#X43sZmlsZQ%3D%3D?line=7'>8</a>\u001b[0m pygame\u001b[39m.\u001b[39mdisplay\u001b[39m.\u001b[39mset_caption(\u001b[39m\"\u001b[39m\u001b[39mBouncing ball\u001b[39m\u001b[39m\"\u001b[39m)\n\u001b[1;32m----> <a href='vscode-notebook-cell:/c%3A/Users/CUTM/Desktop/Python%20Tutorial/BPUT/Python%20Assignments/questions.ipynb#X43sZmlsZQ%3D%3D?line=8'>9</a>\u001b[0m ball \u001b[39m=\u001b[39m pygame\u001b[39m.\u001b[39;49mimage\u001b[39m.\u001b[39;49mload(\u001b[39m\"\u001b[39;49m\u001b[39mball.png\u001b[39;49m\u001b[39m\"\u001b[39;49m)\n\u001b[0;32m     <a href='vscode-notebook-cell:/c%3A/Users/CUTM/Desktop/Python%20Tutorial/BPUT/Python%20Assignments/questions.ipynb#X43sZmlsZQ%3D%3D?line=9'>10</a>\u001b[0m ballrect \u001b[39m=\u001b[39m ball\u001b[39m.\u001b[39mget_rect()\n\u001b[0;32m     <a href='vscode-notebook-cell:/c%3A/Users/CUTM/Desktop/Python%20Tutorial/BPUT/Python%20Assignments/questions.ipynb#X43sZmlsZQ%3D%3D?line=10'>11</a>\u001b[0m \u001b[39mwhile\u001b[39;00m \u001b[39m1\u001b[39m:\n",
      "\u001b[1;31mFileNotFoundError\u001b[0m: No file 'ball.png' found in working directory 'c:\\Users\\CUTM\\Desktop\\Python Tutorial\\BPUT\\Python Assignments'."
     ]
    },
    {
     "ename": "",
     "evalue": "",
     "output_type": "error",
     "traceback": [
      "\u001b[1;31mThe Kernel crashed while executing code in the the current cell or a previous cell. Please review the code in the cell(s) to identify a possible cause of the failure. Click <a href='https://aka.ms/vscodeJupyterKernelCrash'>here</a> for more info. View Jupyter <a href='command:jupyter.viewOutput'>log</a> for further details."
     ]
    }
   ],
   "source": [
    "# Python program to bouncing ball in Pygame\n",
    "import sys, pygame\n",
    "pygame.init()\n",
    "size = width, height = 800, 400\n",
    "speed = [1, 1]\n",
    "background = 255, 255, 255\n",
    "screen = pygame.display.set_mode(size)\n",
    "pygame.display.set_caption(\"Bouncing ball\")\n",
    "ball = pygame.image.load(\"ball.png\")\n",
    "ballrect = ball.get_rect()\n",
    "while 1:\n",
    "    for event in pygame.event.get():\n",
    "        if event.type == pygame.QUIT:\n",
    "            sys.exit()\n",
    "    ballrect = ballrect.move(speed)\n",
    "    if ballrect.left < 0 or ballrect.right > width:\n",
    "        speed[0] = -speed[0]\n",
    "    if ballrect.top < 0 or ballrect.bottom > height:\n",
    "        speed[1] = -speed[1]\n",
    "    screen.fill(background)\n",
    "    screen.blit(ball, ballrect)\n",
    "    pygame.display.flip()\n"
   ]
  },
  {
   "cell_type": "code",
   "execution_count": 1,
   "metadata": {},
   "outputs": [
    {
     "ename": "FileNotFoundError",
     "evalue": "No file 'ball.png' found in working directory 'c:\\Users\\CUTM\\Desktop\\Python Tutorial\\BPUT\\Python Assignments'.",
     "output_type": "error",
     "traceback": [
      "\u001b[1;31m---------------------------------------------------------------------------\u001b[0m",
      "\u001b[1;31mFileNotFoundError\u001b[0m                         Traceback (most recent call last)",
      "\u001b[1;32mc:\\Users\\CUTM\\Desktop\\Python Tutorial\\BPUT\\Python Assignments\\questions.ipynb Cell 31\u001b[0m in \u001b[0;36m<cell line: 16>\u001b[1;34m()\u001b[0m\n\u001b[0;32m     <a href='vscode-notebook-cell:/c%3A/Users/CUTM/Desktop/Python%20Tutorial/BPUT/Python%20Assignments/questions.ipynb#X44sZmlsZQ%3D%3D?line=12'>13</a>\u001b[0m screen \u001b[39m=\u001b[39m pygame\u001b[39m.\u001b[39mdisplay\u001b[39m.\u001b[39mset_mode((width, height))\n\u001b[0;32m     <a href='vscode-notebook-cell:/c%3A/Users/CUTM/Desktop/Python%20Tutorial/BPUT/Python%20Assignments/questions.ipynb#X44sZmlsZQ%3D%3D?line=13'>14</a>\u001b[0m pygame\u001b[39m.\u001b[39mdisplay\u001b[39m.\u001b[39mset_caption(\u001b[39m\"\u001b[39m\u001b[39mPygame bouncing ball\u001b[39m\u001b[39m\"\u001b[39m)\n\u001b[1;32m---> <a href='vscode-notebook-cell:/c%3A/Users/CUTM/Desktop/Python%20Tutorial/BPUT/Python%20Assignments/questions.ipynb#X44sZmlsZQ%3D%3D?line=15'>16</a>\u001b[0m ball \u001b[39m=\u001b[39m pygame\u001b[39m.\u001b[39;49mimage\u001b[39m.\u001b[39;49mload(\u001b[39m\"\u001b[39;49m\u001b[39mball.png\u001b[39;49m\u001b[39m\"\u001b[39;49m)\n\u001b[0;32m     <a href='vscode-notebook-cell:/c%3A/Users/CUTM/Desktop/Python%20Tutorial/BPUT/Python%20Assignments/questions.ipynb#X44sZmlsZQ%3D%3D?line=16'>17</a>\u001b[0m rect_boundry \u001b[39m=\u001b[39m ball\u001b[39m.\u001b[39mget_rect()\n\u001b[0;32m     <a href='vscode-notebook-cell:/c%3A/Users/CUTM/Desktop/Python%20Tutorial/BPUT/Python%20Assignments/questions.ipynb#X44sZmlsZQ%3D%3D?line=18'>19</a>\u001b[0m \u001b[39mwhile\u001b[39;00m \u001b[39m1\u001b[39m:\n",
      "\u001b[1;31mFileNotFoundError\u001b[0m: No file 'ball.png' found in working directory 'c:\\Users\\CUTM\\Desktop\\Python Tutorial\\BPUT\\Python Assignments'."
     ]
    }
   ],
   "source": [
    "# Another Way\n",
    "import os\n",
    "os.environ['PYGAME_HIDE_SUPPORT_PROMPT'] = \"hide\"\n",
    "import sys, pygame\n",
    "from pygame.locals import *\n",
    "pygame.init()\n",
    "\n",
    "speed = [1, 1]\n",
    "color = (255, 250, 250)\n",
    "width = 550\n",
    "height = 300\n",
    "\n",
    "screen = pygame.display.set_mode((width, height))\n",
    "pygame.display.set_caption(\"Pygame bouncing ball\")\n",
    "\n",
    "ball = pygame.image.load(\"ball.png\")\n",
    "rect_boundry = ball.get_rect()\n",
    "\n",
    "while 1:\n",
    "    for event in pygame.event.get():\n",
    "        rect_boundry = rect_boundry.move(speed)\n",
    "        if rect_boundry.left < 0 or rect_boundry.right > width:\n",
    "            speed[0] = -speed[0]\n",
    "        if rect_boundry.top < 0 or rect_boundry.bottom > height:\n",
    "            speed[1] = -speed[1]\n",
    "\n",
    "        screen.fill(color)\n",
    "        screen.blit(ball, rect_boundry)\n",
    "        pygame.display.flip()\n",
    "\n",
    "        if event.type == QUIT:\n",
    "            pygame.quit()\n",
    "            sys.exit()\n"
   ]
  }
 ],
 "metadata": {
  "kernelspec": {
   "display_name": "Python 3.10.4 64-bit",
   "language": "python",
   "name": "python3"
  },
  "language_info": {
   "codemirror_mode": {
    "name": "ipython",
    "version": 3
   },
   "file_extension": ".py",
   "mimetype": "text/x-python",
   "name": "python",
   "nbconvert_exporter": "python",
   "pygments_lexer": "ipython3",
   "version": "3.10.4"
  },
  "orig_nbformat": 4,
  "vscode": {
   "interpreter": {
    "hash": "e6763ba6110e050d0e6d4dc5757df4d9377869df6777c500c615f7546a6ecc95"
   }
  }
 },
 "nbformat": 4,
 "nbformat_minor": 2
}
