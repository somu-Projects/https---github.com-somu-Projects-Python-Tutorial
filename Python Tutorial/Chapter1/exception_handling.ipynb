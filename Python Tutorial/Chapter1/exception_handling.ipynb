{
 "cells": [
  {
   "cell_type": "code",
   "execution_count": 4,
   "metadata": {},
   "outputs": [
    {
     "name": "stdout",
     "output_type": "stream",
     "text": [
      "The index and element from the array is 0 a\n",
      "The index and element from the array is 1 b\n",
      "The index and element from the array is 2 c\n",
      "Index out of range\n"
     ]
    }
   ],
   "source": [
    "# TODAY WE WILL DISCUSS ABOUT EXCEPTION HANDLING IN PYTHON\n",
    "#=========================================================\n",
    "    # Python code to catch an exception and handle it using try and except code blocks  \n",
    "       \n",
    "a = [\"a\", \"b\", \"c\"]  \n",
    "try: \n",
    "        #looping through the elements of the array a, choosing a range that goes beyond the length of the array  \n",
    "        for i in range( 4 ): \n",
    "                    print( \"The index and element from the array is\", i, a[i] )  \n",
    "#if an error occurs in the try block, then except block will be executed by the Python interpreter       \n",
    "except:\n",
    "\n",
    "    print (\"Index out of range\")  "
   ]
  },
  {
   "cell_type": "code",
   "execution_count": 7,
   "metadata": {},
   "outputs": [
    {
     "ename": "Exception",
     "evalue": "Length of the given list must be less than or equal to 3 but is 4",
     "output_type": "error",
     "traceback": [
      "\u001b[1;31m---------------------------------------------------------------------------\u001b[0m",
      "\u001b[1;31mException\u001b[0m                                 Traceback (most recent call last)",
      "\u001b[1;32mc:\\Users\\CUTM\\Desktop\\Python\\03_09.ipynb Cell 2\u001b[0m in \u001b[0;36m<cell line: 3>\u001b[1;34m()\u001b[0m\n\u001b[0;32m      <a href='vscode-notebook-cell:/c%3A/Users/CUTM/Desktop/Python/03_09.ipynb#W1sZmlsZQ%3D%3D?line=1'>2</a>\u001b[0m num \u001b[39m=\u001b[39m [\u001b[39m3\u001b[39m, \u001b[39m4\u001b[39m, \u001b[39m5\u001b[39m, \u001b[39m7\u001b[39m]  \n\u001b[0;32m      <a href='vscode-notebook-cell:/c%3A/Users/CUTM/Desktop/Python/03_09.ipynb#W1sZmlsZQ%3D%3D?line=2'>3</a>\u001b[0m \u001b[39mif\u001b[39;00m \u001b[39mlen\u001b[39m(num) \u001b[39m>\u001b[39m \u001b[39m3\u001b[39m: \n\u001b[1;32m----> <a href='vscode-notebook-cell:/c%3A/Users/CUTM/Desktop/Python/03_09.ipynb#W1sZmlsZQ%3D%3D?line=3'>4</a>\u001b[0m     \u001b[39mraise\u001b[39;00m \u001b[39mException\u001b[39;00m( \u001b[39mf\u001b[39m\u001b[39m\"\u001b[39m\u001b[39mLength of the given list must be less than or equal to 3 but is \u001b[39m\u001b[39m{\u001b[39;00m\u001b[39mlen\u001b[39m(num)\u001b[39m}\u001b[39;00m\u001b[39m\"\u001b[39m )\n",
      "\u001b[1;31mException\u001b[0m: Length of the given list must be less than or equal to 3 but is 4"
     ]
    }
   ],
   "source": [
    "#Python code to show how to raise an exception in Python  \n",
    "num = [3, 4, 5, 7]  \n",
    "if len(num) > 3: \n",
    "    raise Exception( f\"Length of the given list must be less than or equal to 3 but is {len(num)}\" )  "
   ]
  },
  {
   "cell_type": "code",
   "execution_count": null,
   "metadata": {},
   "outputs": [],
   "source": []
  }
 ],
 "metadata": {
  "kernelspec": {
   "display_name": "Python 3.10.4 64-bit",
   "language": "python",
   "name": "python3"
  },
  "language_info": {
   "codemirror_mode": {
    "name": "ipython",
    "version": 3
   },
   "file_extension": ".py",
   "mimetype": "text/x-python",
   "name": "python",
   "nbconvert_exporter": "python",
   "pygments_lexer": "ipython3",
   "version": "3.10.4"
  },
  "orig_nbformat": 4,
  "vscode": {
   "interpreter": {
    "hash": "e6763ba6110e050d0e6d4dc5757df4d9377869df6777c500c615f7546a6ecc95"
   }
  }
 },
 "nbformat": 4,
 "nbformat_minor": 2
}
