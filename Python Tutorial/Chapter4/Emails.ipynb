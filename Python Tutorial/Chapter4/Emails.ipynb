{
 "cells": [
  {
   "cell_type": "code",
   "execution_count": 2,
   "metadata": {},
   "outputs": [
    {
     "name": "stdout",
     "output_type": "stream",
     "text": [
      "Error: unable to send email\n"
     ]
    }
   ],
   "source": [
    "# Sending Emails\n",
    "# ==============\n",
    "#!/usr/bin/python3    \n",
    "import smtplib    \n",
    "sender_mail = 'sabyasachi73in@gmail.com'    \n",
    "receivers_mail = ['sabyasachi73in@gmail.com']    \n",
    "message = \"\"\"From: From Person %s  \n",
    "To: To Person %s  \n",
    "Subject: Sending SMTP e-mail   \n",
    "This is a test e-mail message.  \n",
    "\"\"\"%(sender_mail,receivers_mail)    \n",
    "try:    \n",
    "    password = input('Enter the password');    \n",
    "    smtpObj = smtplib.SMTP('gmail.com',587)    \n",
    "    smtpobj.login(sender_mail,password)    \n",
    "    smtpObj.sendmail(sender_mail, receivers_mail, message)    \n",
    "    print(\"Successfully sent email\")    \n",
    "except Exception:    \n",
    "    print(\"Error: unable to send email\")    "
   ]
  },
  {
   "cell_type": "code",
   "execution_count": 3,
   "metadata": {},
   "outputs": [
    {
     "name": "stdout",
     "output_type": "stream",
     "text": [
      "Error: unable to send email\n"
     ]
    }
   ],
   "source": [
    "# Sending HTML in email\n",
    "# =========================\n",
    "# We can format the HTML in the message by specifying the MIME version, content-type, and character set to send the HTML.\n",
    "# Consider the following example.\n",
    "\n",
    "\n",
    "#!/usr/bin/python3    \n",
    "import smtplib    \n",
    "sender_mail = 'sabyasachi73in@gmail.com.com'    \n",
    "receivers_mail = ['somu.sabyasachi@gmail.com']    \n",
    "message = \"\"\"From: From Person %s  \n",
    "To: To Person %s  \n",
    "    \n",
    "MIME-Version:1.0  \n",
    "Content-type:text/html  \n",
    "    \n",
    "    \n",
    "Subject: Sending SMTP e-mail   \n",
    "    \n",
    "<h3>Python SMTP</h3>  \n",
    "<strong>This is a test e-mail message.</strong>  \n",
    "\"\"\"%(sender_mail,receivers_mail)    \n",
    "try:    \n",
    "    smtpObj = smtplib.SMTP('localhost')    \n",
    "    smtpObj.sendmail(sender_mail, receivers_mail, message)    \n",
    "    print(\"Successfully sent email\")    \n",
    "except Exception:    \n",
    "    print(\"Error: unable to send email\")"
   ]
  }
 ],
 "metadata": {
  "kernelspec": {
   "display_name": "Python 3.10.4 64-bit",
   "language": "python",
   "name": "python3"
  },
  "language_info": {
   "codemirror_mode": {
    "name": "ipython",
    "version": 3
   },
   "file_extension": ".py",
   "mimetype": "text/x-python",
   "name": "python",
   "nbconvert_exporter": "python",
   "pygments_lexer": "ipython3",
   "version": "3.10.4"
  },
  "orig_nbformat": 4,
  "vscode": {
   "interpreter": {
    "hash": "3196968d684371006099b3d55edeef8ed90365227a30deaef86e5d4aa8519be0"
   }
  }
 },
 "nbformat": 4,
 "nbformat_minor": 2
}
