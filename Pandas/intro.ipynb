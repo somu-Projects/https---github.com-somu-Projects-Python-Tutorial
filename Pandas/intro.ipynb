{
 "cells": [
  {
   "cell_type": "code",
   "execution_count": 1,
   "metadata": {},
   "outputs": [
    {
     "name": "stdout",
     "output_type": "stream",
     "text": [
      "    cars  passings\n",
      "0    BMW         3\n",
      "1  Volvo         7\n",
      "2   Ford         2\n",
      "Checking Pandas Version\n",
      "1.4.4\n"
     ]
    }
   ],
   "source": [
    "import pandas as pd\n",
    "\n",
    "mydataset = {\n",
    "  'cars': [\"BMW\", \"Volvo\", \"Ford\"],\n",
    "  'passings': [3, 7, 2]\n",
    "}\n",
    "\n",
    "myvar = pd.DataFrame(mydataset)\n",
    "\n",
    "print(myvar)\n",
    "print(\"Checking Pandas Version:- \")\n",
    "\n",
    "# import pandas as pd\n",
    "print(pd.__version__) "
   ]
  },
  {
   "cell_type": "code",
   "execution_count": 5,
   "metadata": {},
   "outputs": [
    {
     "name": "stdout",
     "output_type": "stream",
     "text": [
      "0    1\n",
      "1    7\n",
      "2    2\n",
      "dtype: int64\n",
      "7\n"
     ]
    }
   ],
   "source": [
    "# Pandas Series\n",
    "# =============\n",
    "# What is a Series?\n",
    "\n",
    "# A Pandas Series is like a column in a table.\n",
    "\n",
    "# It is a one-dimensional array holding data of any type.\n",
    "# Example\n",
    "\n",
    "# Create a simple Pandas Series from a list:\n",
    "import pandas as pd\n",
    "\n",
    "a = [1, 7, 2]\n",
    "myvar = pd.Series(a)\n",
    "print(myvar)\n",
    "# Labels\n",
    "# ===========================================================================\n",
    "# If nothing else is specified, the values are labeled with their index number. \n",
    "# First value has index 0, second value has index 1 etc.\n",
    "# This label can be used to access a specified value.\n",
    "# Example\n",
    "# Return the first value of the Series:\n",
    "print(myvar[1])"
   ]
  },
  {
   "cell_type": "code",
   "execution_count": 6,
   "metadata": {},
   "outputs": [
    {
     "name": "stdout",
     "output_type": "stream",
     "text": [
      "x    1\n",
      "y    7\n",
      "z    2\n",
      "dtype: int64\n"
     ]
    }
   ],
   "source": [
    "# Create Labels\n",
    "# =============\n",
    "# With the index argument, you can name your own labels.\n",
    "# Example\n",
    "\n",
    "# Create you own labels:\n",
    "import pandas as pd\n",
    "\n",
    "a = [1, 7, 2]\n",
    "\n",
    "myvar = pd.Series(a, index = [\"x\", \"y\", \"z\"])\n",
    "\n",
    "print(myvar)"
   ]
  },
  {
   "cell_type": "code",
   "execution_count": 7,
   "metadata": {},
   "outputs": [
    {
     "name": "stdout",
     "output_type": "stream",
     "text": [
      "day1    420\n",
      "day2    380\n",
      "day3    390\n",
      "dtype: int64\n"
     ]
    }
   ],
   "source": [
    "# Key/Value Objects as Series\n",
    "# ==========================\n",
    "# You can also use a key/value object, like a dictionary, when creating a Series.\n",
    "# Example\n",
    "\n",
    "# Create a simple Pandas Series from a dictionary:\n",
    "import pandas as pd\n",
    "\n",
    "calories = {\"day1\": 420, \"day2\": 380, \"day3\": 390}\n",
    "\n",
    "myvar = pd.Series(calories)\n",
    "\n",
    "print(myvar)"
   ]
  },
  {
   "cell_type": "code",
   "execution_count": 8,
   "metadata": {},
   "outputs": [
    {
     "name": "stdout",
     "output_type": "stream",
     "text": [
      "day1    420\n",
      "day2    380\n",
      "dtype: int64\n"
     ]
    }
   ],
   "source": [
    "# To select only some of the items in the dictionary, use the index argument and specify only the \n",
    "# items you want to include in the Series.\n",
    "# Example:\n",
    "# Create a Series using only data from \"day1\" and \"day2\":\n",
    "import pandas as pd\n",
    "\n",
    "calories = {\"day1\": 420, \"day2\": 380, \"day3\": 390}\n",
    "\n",
    "myvar = pd.Series(calories, index = [\"day1\", \"day2\"])\n",
    "\n",
    "print(myvar)"
   ]
  },
  {
   "cell_type": "code",
   "execution_count": null,
   "metadata": {},
   "outputs": [],
   "source": []
  }
 ],
 "metadata": {
  "kernelspec": {
   "display_name": "Python 3.10.4 64-bit",
   "language": "python",
   "name": "python3"
  },
  "language_info": {
   "codemirror_mode": {
    "name": "ipython",
    "version": 3
   },
   "file_extension": ".py",
   "mimetype": "text/x-python",
   "name": "python",
   "nbconvert_exporter": "python",
   "pygments_lexer": "ipython3",
   "version": "3.10.4"
  },
  "orig_nbformat": 4,
  "vscode": {
   "interpreter": {
    "hash": "e6763ba6110e050d0e6d4dc5757df4d9377869df6777c500c615f7546a6ecc95"
   }
  }
 },
 "nbformat": 4,
 "nbformat_minor": 2
}
