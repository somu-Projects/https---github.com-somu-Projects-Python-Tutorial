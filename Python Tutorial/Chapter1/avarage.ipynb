{
 "cells": [
  {
   "cell_type": "code",
   "execution_count": 2,
   "id": "4bcb4d3b",
   "metadata": {},
   "outputs": [
    {
     "name": "stdout",
     "output_type": "stream",
     "text": [
      "Enter Marks Obtained in 5 Subjects: \n",
      "enter marks subject 1: 55\n",
      "enter marks subject 2: 66\n",
      "enter marks subject 3: 77\n",
      "enter marks subject 4: 88\n",
      "enter marks subject 5: 99\n",
      "The marks is: 77.0\n",
      "Your Grade is A\n"
     ]
    }
   ],
   "source": [
    "print(\"Enter Marks Obtained in 5 Subjects: \")\n",
    "markOne = int(input(\"enter marks subject 1: \"))\n",
    "markTwo = int(input(\"enter marks subject 2: \"))\n",
    "markThree = int(input(\"enter marks subject 3: \"))\n",
    "markFour = int(input(\"enter marks subject 4: \"))\n",
    "markFive = int(input(\"enter marks subject 5: \"))\n",
    "\n",
    "tot = markOne+markTwo+markThree+markFour+markFive\n",
    "avg = tot/5\n",
    "if avg<0 and avg>100:\n",
    "    print(\"invalid input\")\n",
    "elif avg>=90 and avg<=100:\n",
    "    print(\"The marks is:\",avg)\n",
    "    print(\"Your Grade is O\")\n",
    "elif avg>=80 and avg<90:\n",
    "    print(\"The marks is:\",avg)\n",
    "    print(\"Your Grade is E\")\n",
    "elif avg>=70 and avg<80:\n",
    "    print(\"The marks is:\",avg)\n",
    "    print(\"Your Grade is A\")\n",
    "elif avg>=60 and avg<70:\n",
    "    print(\"The marks is:\",avg)\n",
    "    print(\"Your Grade is B\")\n",
    "elif avg>=50 and avg<60:\n",
    "    print(\"The marks is:\",avg)\n",
    "    print(\"Your Grade is C\")\n",
    "elif avg>=35 and avg<50:\n",
    "    print(\"The marks is:\",avg)\n",
    "    print(\"Your Grade is D\")\n",
    "else:\n",
    "    print(\"The marks is:\",avg)\n",
    "    print(\"Invalid Input!\")"
   ]
  },
  {
   "cell_type": "code",
   "execution_count": null,
   "id": "30615c7d",
   "metadata": {},
   "outputs": [],
   "source": []
  }
 ],
 "metadata": {
  "kernelspec": {
   "display_name": "Python 3 (ipykernel)",
   "language": "python",
   "name": "python3"
  },
  "language_info": {
   "codemirror_mode": {
    "name": "ipython",
    "version": 3
   },
   "file_extension": ".py",
   "mimetype": "text/x-python",
   "name": "python",
   "nbconvert_exporter": "python",
   "pygments_lexer": "ipython3",
   "version": "3.9.12"
  }
 },
 "nbformat": 4,
 "nbformat_minor": 5
}
