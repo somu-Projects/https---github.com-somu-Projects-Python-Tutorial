{
 "cells": [
  {
   "cell_type": "code",
   "execution_count": 1,
   "id": "6d818ddf",
   "metadata": {},
   "outputs": [
    {
     "name": "stdout",
     "output_type": "stream",
     "text": [
      "Empty Dictionary: \n",
      "{}\n"
     ]
    }
   ],
   "source": [
    "Dict = {}   \n",
    "print(\"Empty Dictionary: \")   \n",
    "print(Dict) "
   ]
  },
  {
   "cell_type": "code",
   "execution_count": 2,
   "id": "f2bdd4a7",
   "metadata": {},
   "outputs": [
    {
     "name": "stdout",
     "output_type": "stream",
     "text": [
      "\n",
      "Create Dictionary by using  dict(): \n",
      "{1: 'Java', 2: 'T', 3: 'Point'}\n"
     ]
    }
   ],
   "source": [
    "Dict = dict({1: 'Java', 2: 'T', 3:'Point'})   \n",
    "print(\"\\nCreate Dictionary by using  dict(): \")   \n",
    "print(Dict)   "
   ]
  },
  {
   "cell_type": "code",
   "execution_count": 3,
   "id": "8ce0a7df",
   "metadata": {},
   "outputs": [
    {
     "name": "stdout",
     "output_type": "stream",
     "text": [
      "\n",
      "Dictionary with each item as a pair: \n",
      "{1: 'Devansh', 2: 'Sharma'}\n"
     ]
    }
   ],
   "source": [
    "Dict = dict([(1, 'Devansh'), (2, 'Sharma')])   \n",
    "print(\"\\nDictionary with each item as a pair: \")   \n",
    "print(Dict)  "
   ]
  },
  {
   "cell_type": "code",
   "execution_count": 4,
   "id": "7427271e",
   "metadata": {},
   "outputs": [
    {
     "name": "stdout",
     "output_type": "stream",
     "text": [
      "<class 'dict'>\n",
      "printing Employee data .... \n",
      "Name : John\n",
      "Age : 29\n",
      "Salary : 25000\n",
      "Company : GOOGLE\n"
     ]
    }
   ],
   "source": [
    "    Employee = {\"Name\": \"John\", \"Age\": 29, \"salary\":25000,\"Company\":\"GOOGLE\"}  \n",
    "    print(type(Employee))  \n",
    "    print(\"printing Employee data .... \")  \n",
    "    print(\"Name : %s\" %Employee[\"Name\"])  \n",
    "    print(\"Age : %d\" %Employee[\"Age\"])  \n",
    "    print(\"Salary : %d\" %Employee[\"salary\"])  \n",
    "    print(\"Company : %s\" %Employee[\"Company\"])  "
   ]
  },
  {
   "cell_type": "code",
   "execution_count": 8,
   "id": "ef18b593",
   "metadata": {},
   "outputs": [
    {
     "name": "stdout",
     "output_type": "stream",
     "text": [
      "Name Is: John\n"
     ]
    }
   ],
   "source": [
    "print(\"Name Is: %s\"%Employee[\"Name\"])"
   ]
  },
  {
   "cell_type": "code",
   "execution_count": 30,
   "id": "496041a3",
   "metadata": {},
   "outputs": [
    {
     "name": "stdout",
     "output_type": "stream",
     "text": [
      "Empty Dictionary: \n",
      "{}\n",
      "\n",
      "Dictionary after adding 3 elements: \n",
      "{0: 'Peter', 2: 'Joseph', 3: 'Ricky'}\n",
      "\n",
      "Dictionary after adding 3 elements: \n",
      "{0: 'Peter', 2: 'Joseph', 3: 'Ricky', 'Emp_ages': (20, 33, 24)}\n",
      "\n",
      "Updated key value: \n",
      "{0: 'Peter', 2: 'Joseph', 3: 'JavaTpoint', 'Emp_ages': (20, 33, 24)}\n",
      "(20, 33, 24)\n",
      "20\n"
     ]
    }
   ],
   "source": [
    "# Creating an empty Dictionary   \n",
    "Dict = {}   \n",
    "print(\"Empty Dictionary: \")   \n",
    "print(Dict)   \n",
    "    \n",
    "# Adding elements to dictionary one at a time   \n",
    "Dict[0] = 'Peter'  \n",
    "Dict[2] = 'Joseph'  \n",
    "Dict[3] = 'Ricky'  \n",
    "print(\"\\nDictionary after adding 3 elements: \")   \n",
    "print(Dict)   \n",
    "    \n",
    "# Adding set of values    \n",
    "# with a single Key   \n",
    "# The Emp_ages doesn't exist to dictionary  \n",
    "Dict['Emp_ages'] = 20, 33, 24  \n",
    "print(\"\\nDictionary after adding 3 elements: \")   \n",
    "print(Dict)   \n",
    "    \n",
    "# Updating existing Key's Value   \n",
    "Dict[3] = 'JavaTpoint'  \n",
    "print(\"\\nUpdated key value: \")   \n",
    "print(Dict) \n",
    "print(Dict['Emp_ages'])\n",
    "print(Dict['Emp_ages'][0])"
   ]
  },
  {
   "cell_type": "code",
   "execution_count": 4,
   "id": "db302b4c",
   "metadata": {},
   "outputs": [
    {
     "name": "stdout",
     "output_type": "stream",
     "text": [
      "<class 'dict'>\n",
      "printing Employee data .... \n",
      "{'Name': 'John', 'Age': 29, 'salary': 25000, 'Company': 'GOOGLE'}\n"
     ]
    }
   ],
   "source": [
    "Employee = {\"Name\": \"John\", \"Age\": 29, \"salary\":25000,\"Company\":\"GOOGLE\"}    \n",
    "print(type(Employee))    \n",
    "print(\"printing Employee data .... \")    \n",
    "print(Employee)    "
   ]
  },
  {
   "cell_type": "code",
   "execution_count": 5,
   "id": "a26913e9",
   "metadata": {},
   "outputs": [
    {
     "name": "stdout",
     "output_type": "stream",
     "text": [
      "Enter the details of the new employee....\n",
      "Name: ss\n",
      "Age: 45\n",
      "Salary: 432423\n",
      "Company:ff\n",
      "printing the new data\n",
      "{'Name': 'ss', 'Age': 45, 'salary': 432423, 'Company': 'ff'}\n"
     ]
    }
   ],
   "source": [
    "print(\"Enter the details of the new employee....\");    \n",
    "Employee[\"Name\"] = input(\"Name: \");    \n",
    "Employee[\"Age\"] = int(input(\"Age: \"));    \n",
    "Employee[\"salary\"] = int(input(\"Salary: \"));    \n",
    "Employee[\"Company\"] = input(\"Company:\");    \n",
    "print(\"printing the new data\");    \n",
    "print(Employee) "
   ]
  },
  {
   "cell_type": "code",
   "execution_count": 6,
   "id": "1b764c79",
   "metadata": {},
   "outputs": [
    {
     "name": "stdout",
     "output_type": "stream",
     "text": [
      "ss\n"
     ]
    }
   ],
   "source": [
    "print(Employee[\"Name\"])"
   ]
  },
  {
   "cell_type": "code",
   "execution_count": 8,
   "id": "4c73b9df",
   "metadata": {},
   "outputs": [
    {
     "name": "stdout",
     "output_type": "stream",
     "text": [
      "<class 'dict'>\n",
      "printing Employee data .... \n",
      "{'Name': 'John', 'Age': 29, 'salary': 25000, 'Company': 'GOOGLE'}\n",
      "Deleting some of the employee data\n",
      "printing the modified information \n",
      "{'Age': 29, 'salary': 25000}\n"
     ]
    }
   ],
   "source": [
    "    Employee = {\"Name\": \"John\", \"Age\": 29, \"salary\":25000,\"Company\":\"GOOGLE\"}    \n",
    "    print(type(Employee))    \n",
    "    print(\"printing Employee data .... \")    \n",
    "    print(Employee)    \n",
    "    print(\"Deleting some of the employee data\")     \n",
    "    del Employee[\"Name\"]    \n",
    "    del Employee[\"Company\"]    \n",
    "    print(\"printing the modified information \")    \n",
    "    print(Employee)       "
   ]
  },
  {
   "cell_type": "code",
   "execution_count": 10,
   "id": "a01897d5",
   "metadata": {},
   "outputs": [
    {
     "name": "stdout",
     "output_type": "stream",
     "text": [
      "Deleting the dictionary: Employee\n"
     ]
    },
    {
     "ename": "NameError",
     "evalue": "name 'Employee' is not defined",
     "output_type": "error",
     "traceback": [
      "\u001b[1;31m---------------------------------------------------------------------------\u001b[0m",
      "\u001b[1;31mNameError\u001b[0m                                 Traceback (most recent call last)",
      "Input \u001b[1;32mIn [10]\u001b[0m, in \u001b[0;36m<cell line: 2>\u001b[1;34m()\u001b[0m\n\u001b[0;32m      1\u001b[0m \u001b[38;5;28mprint\u001b[39m(\u001b[38;5;124m\"\u001b[39m\u001b[38;5;124mDeleting the dictionary: Employee\u001b[39m\u001b[38;5;124m\"\u001b[39m);    \n\u001b[1;32m----> 2\u001b[0m \u001b[38;5;28;01mdel\u001b[39;00m Employee    \n\u001b[0;32m      3\u001b[0m \u001b[38;5;28mprint\u001b[39m(\u001b[38;5;124m\"\u001b[39m\u001b[38;5;124mLets try to print it again \u001b[39m\u001b[38;5;124m\"\u001b[39m)\n",
      "\u001b[1;31mNameError\u001b[0m: name 'Employee' is not defined"
     ]
    }
   ],
   "source": [
    "    print(\"Deleting the dictionary: Employee\");    \n",
    "    del Employee    \n",
    "    print(\"Lets try to print it again \");    \n",
    "   "
   ]
  },
  {
   "cell_type": "code",
   "execution_count": 13,
   "id": "c4de377f",
   "metadata": {},
   "outputs": [
    {
     "name": "stdout",
     "output_type": "stream",
     "text": [
      "{1: 'JavaTpoint', 2: 'Peter'}\n"
     ]
    }
   ],
   "source": [
    "#use of pop to delete a key element \n",
    "#The pop() method accepts the key as an argument and remove the associated value. Consider the following example.\n",
    "# Creating a Dictionary   \n",
    "Dict = {1: 'JavaTpoint', 2: 'Peter', 3: 'Thomas'}   \n",
    "# Deleting a key    \n",
    "# using pop() method   \n",
    "pop_ele = Dict.pop(3)   \n",
    "print(Dict)  "
   ]
  },
  {
   "cell_type": "code",
   "execution_count": 15,
   "id": "14e4802e",
   "metadata": {},
   "outputs": [],
   "source": [
    "#Iterating Dictionary\n",
    "emp={\"name\":\"sabyasachi\",\"desig\":\"project trainer\",\"age\":43}"
   ]
  },
  {
   "cell_type": "code",
   "execution_count": 16,
   "id": "bc90311e",
   "metadata": {},
   "outputs": [
    {
     "name": "stdout",
     "output_type": "stream",
     "text": [
      "{'name': 'sabyasachi', 'desig': 'project trainer', 'age': 43}\n"
     ]
    }
   ],
   "source": [
    "print(emp)"
   ]
  },
  {
   "cell_type": "code",
   "execution_count": 19,
   "id": "87b2bcbf",
   "metadata": {},
   "outputs": [
    {
     "name": "stdout",
     "output_type": "stream",
     "text": [
      "name  :  sabyasachi\n",
      "desig  :  project trainer\n",
      "age  :  43\n"
     ]
    }
   ],
   "source": [
    "for i in emp:\n",
    "    print(i,\" : \",emp[i])"
   ]
  },
  {
   "cell_type": "code",
   "execution_count": 3,
   "id": "142c1013",
   "metadata": {},
   "outputs": [
    {
     "name": "stdout",
     "output_type": "stream",
     "text": [
      "Name -> John\n",
      "Age -> 29\n",
      "Salary -> 25000\n",
      "Company -> GOOGLE\n"
     ]
    }
   ],
   "source": [
    "Employee={\"Name\":\"John\",\"Age\":29,\"Salary\":25000,\"Company\":\"GOOGLE\",\"Name\":\"John\"}    \n",
    "for x,y in Employee.items():\n",
    "    print(x,\"->\",y)    "
   ]
  },
  {
   "cell_type": "code",
   "execution_count": 4,
   "id": "0ede3aae",
   "metadata": {},
   "outputs": [
    {
     "data": {
      "text/plain": [
       "4"
      ]
     },
     "execution_count": 4,
     "metadata": {},
     "output_type": "execute_result"
    }
   ],
   "source": [
    "len(Employee)"
   ]
  },
  {
   "cell_type": "code",
   "execution_count": 6,
   "id": "c0411151",
   "metadata": {},
   "outputs": [
    {
     "data": {
      "text/plain": [
       "dict_values(['John', 29, 25000, 'GOOGLE'])"
      ]
     },
     "execution_count": 6,
     "metadata": {},
     "output_type": "execute_result"
    }
   ],
   "source": [
    "Employee.values()"
   ]
  },
  {
   "cell_type": "code",
   "execution_count": 7,
   "id": "6f2cfb6f",
   "metadata": {},
   "outputs": [
    {
     "data": {
      "text/plain": [
       "dict_keys(['Name', 'Age', 'Salary', 'Company'])"
      ]
     },
     "execution_count": 7,
     "metadata": {},
     "output_type": "execute_result"
    }
   ],
   "source": [
    "Employee.keys()"
   ]
  },
  {
   "cell_type": "code",
   "execution_count": 9,
   "id": "1d82d08c",
   "metadata": {},
   "outputs": [
    {
     "name": "stdout",
     "output_type": "stream",
     "text": [
      "The square of the number is:  81\n"
     ]
    }
   ],
   "source": [
    "# Python functions\n",
    "def square( num ):\n",
    "    \"\"\" \n",
    "    This function computes the square of the number. \n",
    "    \"\"\" \n",
    "    return num**2   \n",
    "object_ = square(9)  \n",
    "print( \"The square of the number is: \", object_ )  "
   ]
  },
  {
   "cell_type": "code",
   "execution_count": 29,
   "id": "e8ecdbf8",
   "metadata": {},
   "outputs": [
    {
     "name": "stdout",
     "output_type": "stream",
     "text": [
      "Enter the no to check wheather the no is prime or not: 11\n",
      "not prime no\n",
      "None\n"
     ]
    }
   ],
   "source": [
    "# write a program to find the prime nos\n",
    "def prime( num ):\n",
    "    \"\"\" \n",
    "    This function computes the square of the number. \n",
    "    \"\"\" \n",
    "    for i in range(2,num):\n",
    "        if i%num==0:\n",
    "            x= print(\"prime no\")\n",
    "            return x\n",
    "            break\n",
    "        else:\n",
    "            y=print(\"not prime no\")\n",
    "            return y\n",
    "   \n",
    "x=int(input(\"Enter the no to check wheather the no is prime or not: \"))\n",
    "print(prime(x))  \n",
    "\n",
    "\n",
    "    "
   ]
  },
  {
   "cell_type": "code",
   "execution_count": 17,
   "id": "4ddddc53",
   "metadata": {},
   "outputs": [
    {
     "name": "stdout",
     "output_type": "stream",
     "text": [
      "True\n",
      "False\n"
     ]
    }
   ],
   "source": [
    "def isprime(num):\n",
    "    for n in range(2,int(num**0.5)+1):\n",
    "        if num%n==0:\n",
    "            return False\n",
    "    return True\n",
    "print(isprime(7))\n",
    "print(isprime(8))"
   ]
  },
  {
   "cell_type": "code",
   "execution_count": null,
   "id": "9ddd1e11",
   "metadata": {},
   "outputs": [],
   "source": []
  }
 ],
 "metadata": {
  "kernelspec": {
   "display_name": "Python 3 (ipykernel)",
   "language": "python",
   "name": "python3"
  },
  "language_info": {
   "codemirror_mode": {
    "name": "ipython",
    "version": 3
   },
   "file_extension": ".py",
   "mimetype": "text/x-python",
   "name": "python",
   "nbconvert_exporter": "python",
   "pygments_lexer": "ipython3",
   "version": "3.9.12"
  }
 },
 "nbformat": 4,
 "nbformat_minor": 5
}
