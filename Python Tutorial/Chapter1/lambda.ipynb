{
 "cells": [
  {
   "cell_type": "code",
   "execution_count": 5,
   "id": "4c2823e7",
   "metadata": {},
   "outputs": [
    {
     "name": "stdout",
     "output_type": "stream",
     "text": [
      "130\n"
     ]
    }
   ],
   "source": [
    "# Code to demonstrate how we can use a lambda function  \n",
    "add = lambda n: n + 4  \n",
    "print( add(126) )  "
   ]
  },
  {
   "cell_type": "code",
   "execution_count": 3,
   "id": "68cac979",
   "metadata": {},
   "outputs": [
    {
     "name": "stdout",
     "output_type": "stream",
     "text": [
      "130\n"
     ]
    }
   ],
   "source": [
    "def add( num ):  \n",
    "   return num + 4  \n",
    "print( add(126) ) "
   ]
  },
  {
   "cell_type": "code",
   "execution_count": 10,
   "id": "b4607297",
   "metadata": {},
   "outputs": [
    {
     "name": "stderr",
     "output_type": "stream",
     "text": [
      "Superfluous whitespace found in object header b'8' b'0'\n",
      "Superfluous whitespace found in object header b'1' b'0'\n",
      "Superfluous whitespace found in object header b'2' b'0'\n",
      "Superfluous whitespace found in object header b'3' b'0'\n"
     ]
    },
    {
     "name": "stdout",
     "output_type": "stream",
     "text": [
      "\n",
      "    Information about aa.pdf: \n",
      "\n",
      "    Author: Sabyasachi\n",
      "    Creator: None\n",
      "    Producer: Microsoft: Print To PDF\n",
      "    Subject: None\n",
      "    Title: Full page photo\n",
      "    Number of pages: 1\n",
      "    \n"
     ]
    }
   ],
   "source": [
    "# creating PDF\n",
    "# extract_doc_info.py\n",
    "\n",
    "from PyPDF2 import PdfFileReader\n",
    "\n",
    "def extract_information(pdf_path):\n",
    "    with open(\"aa.pdf\", 'rb') as f:\n",
    "        pdf = PdfFileReader(f)\n",
    "        information = pdf.getDocumentInfo()\n",
    "        number_of_pages = pdf.getNumPages()\n",
    "\n",
    "    txt = f\"\"\"\n",
    "    Information about {\"aa.pdf\"}: \n",
    "\n",
    "    Author: {information.author}\n",
    "    Creator: {information.creator}\n",
    "    Producer: {information.producer}\n",
    "    Subject: {information.subject}\n",
    "    Title: {information.title}\n",
    "    Number of pages: {number_of_pages}\n",
    "    \"\"\"\n",
    "\n",
    "    print(txt)\n",
    "    return information\n",
    "\n",
    "if __name__ == '__main__':\n",
    "    path = 'reportlab-sample.pdf'\n",
    "    extract_information(\"aa.pdf\")\n"
   ]
  },
  {
   "cell_type": "code",
   "execution_count": 15,
   "id": "bb628b5d",
   "metadata": {},
   "outputs": [
    {
     "name": "stdout",
     "output_type": "stream",
     "text": [
      "Def keyword:  0.16666666666666666\n",
      "Lambda keyword:  0.16666666666666666\n"
     ]
    }
   ],
   "source": [
    "'''\n",
    "What's the Distinction Between Lambda and Def Functions?\n",
    "\n",
    "Let's glance at this instance to see how a conventional def defined function differs from a function defined using the\n",
    "lambda keyword. This program calculates the reciprocal of a given number:\n",
    "'''\n",
    "# Python code to show the reciprocal of the given number to highlight the difference between def() and lambda().  \n",
    "def reciprocal( num ):  \n",
    "    return 1 / num  \n",
    " \n",
    "lambda_reciprocal = lambda num: 1 / num  \n",
    "       \n",
    "# using the function defined by def keyword  \n",
    "print( \"Def keyword: \", reciprocal(6) )  \n",
    "      \n",
    "# using the function defined by lambda keyword  \n",
    "print( \"Lambda keyword: \", lambda_reciprocal(6) )  "
   ]
  },
  {
   "cell_type": "code",
   "execution_count": 17,
   "id": "51d4d7a1",
   "metadata": {},
   "outputs": [
    {
     "name": "stdout",
     "output_type": "stream",
     "text": [
      "def 0.16666666666666666\n",
      "lambda 0.16666666666666666\n"
     ]
    }
   ],
   "source": [
    "def rec(n):\n",
    "    return 1/n\n",
    "lamb=lambda n: 1/n\n",
    "print(\"def\",rec(6))\n",
    "print(\"lambda\",lamb(6))"
   ]
  },
  {
   "cell_type": "code",
   "execution_count": 21,
   "id": "4d722147",
   "metadata": {},
   "outputs": [
    {
     "name": "stdout",
     "output_type": "stream",
     "text": [
      "[55, 75, 13, 63]\n",
      "[34, 12, 64, 55, 75, 13, 63]\n"
     ]
    }
   ],
   "source": [
    "#Using Lambda Function with filter()\n",
    "    # Code to filter odd numbers from a given list  \n",
    "list_ = [34, 12, 64, 55, 75, 13, 63]  \n",
    "odd_list = list(filter( lambda num: (num % 2 != 0) , list_))  \n",
    "print(odd_list) \n",
    "print(list_)"
   ]
  },
  {
   "cell_type": "code",
   "execution_count": 25,
   "id": "deec3b27",
   "metadata": {},
   "outputs": [
    {
     "name": "stdout",
     "output_type": "stream",
     "text": [
      "[10, 11, 12, 13, 14, 15, 16, 17, 18, 19, 20]\n",
      "[11, 13, 15, 17, 19]\n"
     ]
    }
   ],
   "source": [
    "list_=[10,11,12,13,14,15,16,17,18,19,20]\n",
    "odd=list(filter(lambda n: (n%2 !=0 ),list_))\n",
    "print(list_)\n",
    "print(odd)"
   ]
  },
  {
   "cell_type": "code",
   "execution_count": 26,
   "id": "06bfa413",
   "metadata": {
    "scrolled": true
   },
   "outputs": [
    {
     "name": "stdout",
     "output_type": "stream",
     "text": [
      "[100, 121, 144, 169, 196, 225, 256, 289, 324, 361, 400]\n"
     ]
    }
   ],
   "source": [
    "#Using Lambda Function with map()\n",
    "#-------------------------------\n",
    "no_list=[10,11,12,13,14,15,16,17,18,19,20]\n",
    "s_list=list(map(lambda n:n**2,no_list))\n",
    "print(s_list)"
   ]
  },
  {
   "cell_type": "code",
   "execution_count": 35,
   "id": "f8cadbf9",
   "metadata": {},
   "outputs": [
    {
     "name": "stdout",
     "output_type": "stream",
     "text": [
      "0 1 4 9 16 25 36 49 64 81 100 "
     ]
    }
   ],
   "source": [
    "#Using Lambda Function with List Comprehension\n",
    "'''We'll apply the lambda function combined with list \n",
    "comprehension and lambda keyword with a for loop \n",
    "in this instance. We'll attempt to print the square\n",
    "of numbers in the range 0 to 11.\n",
    "'''\n",
    "sqrs=[lambda num = num: num ** 2 for num in range(0, 11)]  \n",
    "for sqr in sqrs:\n",
    "    print( sqr(), end = \" \")\n"
   ]
  },
  {
   "cell_type": "code",
   "execution_count": 36,
   "id": "fcc73dc2",
   "metadata": {},
   "outputs": [
    {
     "name": "stdout",
     "output_type": "stream",
     "text": [
      "35\n"
     ]
    }
   ],
   "source": [
    "#Using Lambda Function with if-else\n",
    "minimum=lambda x,y:x if(x<y) else y\n",
    "print(minimum(35,74))"
   ]
  },
  {
   "cell_type": "code",
   "execution_count": 38,
   "id": "cc6f8d02",
   "metadata": {},
   "outputs": [
    {
     "name": "stdout",
     "output_type": "stream",
     "text": [
      "74\n"
     ]
    }
   ],
   "source": [
    "#Using Lambda Function with if-else\n",
    "maximum=lambda x,y:x if(x>y) else y\n",
    "print(maximum(35,74))"
   ]
  },
  {
   "cell_type": "code",
   "execution_count": 50,
   "id": "ea26b83b",
   "metadata": {},
   "outputs": [
    {
     "name": "stdout",
     "output_type": "stream",
     "text": [
      "[6, 54, 5]\n"
     ]
    }
   ],
   "source": [
    "#Using Lambda with Multiple Statements\n",
    "# Code to print the third-largest number of the given list using the lambda function  \n",
    "  \n",
    "my_List = [ [3, 5, 8, 6], [23, 54, 12, 87], [1, 2, 4, 12, 5] ]  \n",
    "  \n",
    "# sorting every sublist of the above list  \n",
    "sort_List = lambda num : ( sorted(n) for n in num )  \n",
    " \n",
    "# Getting the third largest number of the sublist  \n",
    "third_Largest = lambda num, func : [ l[ len(l) - 2] for l in func(num)]  \n",
    "result = third_Largest( my_List, sort_List)  \n",
    "  \n",
    "print( result )   "
   ]
  },
  {
   "cell_type": "code",
   "execution_count": null,
   "id": "667b3be0",
   "metadata": {},
   "outputs": [],
   "source": []
  }
 ],
 "metadata": {
  "kernelspec": {
   "display_name": "Python 3 (ipykernel)",
   "language": "python",
   "name": "python3"
  },
  "language_info": {
   "codemirror_mode": {
    "name": "ipython",
    "version": 3
   },
   "file_extension": ".py",
   "mimetype": "text/x-python",
   "name": "python",
   "nbconvert_exporter": "python",
   "pygments_lexer": "ipython3",
   "version": "3.9.12"
  }
 },
 "nbformat": 4,
 "nbformat_minor": 5
}
