{
 "cells": [
  {
   "cell_type": "code",
   "execution_count": 1,
   "id": "de79edb8",
   "metadata": {},
   "outputs": [
    {
     "name": "stdout",
     "output_type": "stream",
     "text": [
      "The square of the number is:  81\n"
     ]
    }
   ],
   "source": [
    "'''\n",
    "Example of a User-Defined Function\n",
    "'''\n",
    "def square( num ):  \n",
    "    \"\"\" \n",
    "    This function computes the square of the number. \n",
    "    \"\"\"\n",
    "    return num**2   \n",
    "object_ = square(9)  \n",
    "print( \"The square of the number is: \", object_ )  "
   ]
  },
  {
   "cell_type": "code",
   "execution_count": 3,
   "id": "770f188f",
   "metadata": {},
   "outputs": [
    {
     "name": "stdout",
     "output_type": "stream",
     "text": [
      "Length of the string Functions is:  9\n",
      "Length of the string Python is:  6\n"
     ]
    }
   ],
   "source": [
    "'''\n",
    "Calling a Function\n",
    "'''\n",
    "# Defining a function  \n",
    "def a_function( string ):  \n",
    "    \"This prints the value of length of string\"  \n",
    "    return len(string)  \n",
    "      \n",
    "# Calling the function we defined  \n",
    "print( \"Length of the string Functions is: \", a_function( \"Functions\" ) )  \n",
    "print( \"Length of the string Python is: \", a_function( \"Python\" ) )  "
   ]
  },
  {
   "cell_type": "code",
   "execution_count": 5,
   "id": "e7de18c1",
   "metadata": {},
   "outputs": [
    {
     "name": "stdout",
     "output_type": "stream",
     "text": [
      "Enter Stringmalayalam\n",
      "Yes\n"
     ]
    }
   ],
   "source": [
    "'''\n",
    "Calling a Function\n",
    "'''\n",
    "# function which return reverse of a string\n",
    "\n",
    "def isPalindrome(s):\n",
    "\treturn s == s[::-1]\n",
    "\n",
    "\n",
    "# Driver code\n",
    "s = input(\"Enter String: \")\n",
    "ans = isPalindrome(s)\n",
    "\n",
    "if ans:\n",
    "\tprint(\"Yes\")\n",
    "else:\n",
    "\tprint(\"No\")\n"
   ]
  },
  {
   "cell_type": "code",
   "execution_count": 6,
   "id": "16883a7a",
   "metadata": {},
   "outputs": [
    {
     "name": "stdout",
     "output_type": "stream",
     "text": [
      "Yes\n"
     ]
    }
   ],
   "source": [
    "# function to check string is\n",
    "# palindrome or not\n",
    "def isPalindrome(str):\n",
    "\n",
    "\t# Run loop from 0 to len/2\n",
    "\tfor i in range(0, int(len(str)/2)):\n",
    "\t\tif str[i] != str[len(str)-i-1]:\n",
    "\t\t\treturn False\n",
    "\treturn True\n",
    "\n",
    "# main function\n",
    "s = \"malayalam\"\n",
    "ans = isPalindrome(s)\n",
    "\n",
    "if (ans):\n",
    "\tprint(\"Yes\")\n",
    "else:\n",
    "\tprint(\"No\")\n"
   ]
  },
  {
   "cell_type": "code",
   "execution_count": 7,
   "id": "581d4e30",
   "metadata": {},
   "outputs": [
    {
     "name": "stdout",
     "output_type": "stream",
     "text": [
      "Yes\n"
     ]
    }
   ],
   "source": [
    "# function to check string is\n",
    "# palindrome or not\n",
    "def isPalindrome(s):\n",
    "\n",
    "\t# Using predefined function to\n",
    "\t# reverse to string print(s)\n",
    "\trev = ''.join(reversed(s))\n",
    "\n",
    "\t# Checking if both string are\n",
    "\t# equal or not\n",
    "\tif (s == rev):\n",
    "\t\treturn True\n",
    "\treturn False\n",
    "\n",
    "# main function\n",
    "s = \"malayalam\"\n",
    "ans = isPalindrome(s)\n",
    "\n",
    "if (ans):\n",
    "\tprint(\"Yes\")\n",
    "else:\n",
    "\tprint(\"No\")\n"
   ]
  },
  {
   "cell_type": "code",
   "execution_count": 8,
   "id": "946585b2",
   "metadata": {},
   "outputs": [
    {
     "name": "stdout",
     "output_type": "stream",
     "text": [
      "Yes\n"
     ]
    }
   ],
   "source": [
    "# Python program to check\n",
    "# if a string is palindrome\n",
    "# or not\n",
    "\n",
    "x = \"malayalam\"\n",
    "\n",
    "w = \"\"\n",
    "for i in x:\n",
    "\tw = i + w\n",
    "\n",
    "if (x == w):\n",
    "\tprint(\"Yes\")\n",
    "else:\n",
    "\tprint(\"No\")\n"
   ]
  },
  {
   "cell_type": "code",
   "execution_count": 9,
   "id": "102d3ea0",
   "metadata": {},
   "outputs": [
    {
     "name": "stdout",
     "output_type": "stream",
     "text": [
      "Yes\n"
     ]
    }
   ],
   "source": [
    "# Python program to check\n",
    "# if a string is palindrome\n",
    "# or not\n",
    "st = 'malayalam'\n",
    "j = -1\n",
    "flag = 0\n",
    "for i in st:\n",
    "\tif i != st[j]:\n",
    "\t\tflag = 1\n",
    "\t\tbreak\n",
    "\tj = j - 1\n",
    "if flag == 1:\n",
    "\tprint(\"NO\")\n",
    "else:\n",
    "\tprint(\"Yes\")\n"
   ]
  },
  {
   "cell_type": "code",
   "execution_count": 10,
   "id": "57e57ca6",
   "metadata": {},
   "outputs": [
    {
     "name": "stdout",
     "output_type": "stream",
     "text": [
      "Yes\n"
     ]
    }
   ],
   "source": [
    "# Recursive function to check if a\n",
    "# string is palindrome\n",
    "def isPalindrome(s):\n",
    "\n",
    "\t# to change it the string is similar case\n",
    "\ts = s.lower()\n",
    "\t# length of s\n",
    "\tl = len(s)\n",
    "\n",
    "\t# if length is less than 2\n",
    "\tif l < 2:\n",
    "\t\treturn True\n",
    "\n",
    "\t# If s[0] and s[l-1] are equal\n",
    "\telif s[0] == s[l - 1]:\n",
    "\n",
    "\t\t# Call is palindrome form substring(1,l-1)\n",
    "\t\treturn isPalindrome(s[1: l - 1])\n",
    "\n",
    "\telse:\n",
    "\t\treturn False\n",
    "\n",
    "# Driver Code\n",
    "s = \"MalaYaLam\"\n",
    "ans = isPalindrome(s)\n",
    "\n",
    "if ans:\n",
    "\tprint(\"Yes\")\n",
    "\n",
    "else:\n",
    "\tprint(\"No\")\n"
   ]
  },
  {
   "cell_type": "code",
   "execution_count": 11,
   "id": "1629ba37",
   "metadata": {},
   "outputs": [
    {
     "name": "stdout",
     "output_type": "stream",
     "text": [
      "Yes\n"
     ]
    }
   ],
   "source": [
    "#Using lists and reverse() method\n",
    "def isPalindrome(s):\n",
    "\tx=list(s)\n",
    "\ty=[]\n",
    "\ty.extend(x)\n",
    "\tx.reverse()\n",
    "\tif(x==y):\n",
    "\t\treturn True\n",
    "\treturn False\n",
    "\n",
    "# Driver Code\n",
    "s = \"malayalam\"\n",
    "ans = isPalindrome(s)\n",
    "\n",
    "if ans:\n",
    "\tprint(\"Yes\")\n",
    "\n",
    "else:\n",
    "\tprint(\"No\")\n"
   ]
  },
  {
   "cell_type": "code",
   "execution_count": 18,
   "id": "6fdb5b96",
   "metadata": {},
   "outputs": [
    {
     "name": "stdout",
     "output_type": "stream",
     "text": [
      "Default Arguments\n",
      "=================\n",
      "Passing one argument\n",
      "num1 is:  10\n",
      "num2 is:  40\n",
      "Passing two arguments\n",
      "num1 is:  20\n",
      "num2 is:  30\n"
     ]
    }
   ],
   "source": [
    "'''\n",
    "Function Arguments\n",
    "\n",
    "The following are the types of arguments that we can use to call a function:\n",
    "\n",
    "    Default arguments\n",
    "    Keyword arguments\n",
    "    Required arguments\n",
    "    Variable-length arguments\n",
    "'''\n",
    "print(\"Default Arguments\")\n",
    "print(\"=================\")\n",
    "    # Python code to demonstrate the use of default arguments  \n",
    "    # defining a function  \n",
    "def function( num1, num2 = 40 ):  \n",
    "    print(\"num1 is: \", num1)  \n",
    "    print(\"num2 is: \", num2)  \n",
    "       \n",
    "       \n",
    "    # Calling the function and passing only one argument  \n",
    "print( \"Passing one argument\" )  \n",
    "function(10)  \n",
    "      \n",
    "    # Now giving two arguments to the function  \n",
    "print( \"Passing two arguments\" )  \n",
    "function(20,30)  "
   ]
  },
  {
   "cell_type": "code",
   "execution_count": 20,
   "id": "7d5a339c",
   "metadata": {},
   "outputs": [
    {
     "name": "stdout",
     "output_type": "stream",
     "text": [
      "Without using keyword\n",
      "num1 is:  50\n",
      "num2 is:  30\n",
      "With using keyword\n",
      "num1 is:  30\n",
      "num2 is:  50\n"
     ]
    }
   ],
   "source": [
    "#Keyword Arguments\n",
    "# Python code to demonstrate the use of keyword arguments  \n",
    "   \n",
    "# Defining a function  \n",
    "def function( num1, num2 ):  \n",
    "    print(\"num1 is: \", num1)  \n",
    "    print(\"num2 is: \", num2)  \n",
    "      \n",
    "# Calling function and passing arguments without using keyword  \n",
    "print( \"Without using keyword\" )  \n",
    "function( 50, 30)     \n",
    "          \n",
    "# Calling function and passing arguments using keyword  \n",
    "print( \"With using keyword\" )  \n",
    "function( num2 = 50, num1 = 30)  "
   ]
  },
  {
   "cell_type": "code",
   "execution_count": 22,
   "id": "68cdbb33",
   "metadata": {},
   "outputs": [
    {
     "name": "stdout",
     "output_type": "stream",
     "text": [
      "Passing out of order arguments\n",
      "num1 is:  30\n",
      "num2 is:  20\n",
      "Passing only one argument\n",
      "Function needs two positional arguments\n"
     ]
    }
   ],
   "source": [
    "#Required Arguments\n",
    "# Python code to demonstrate the use of default arguments  \n",
    "  \n",
    "# Defining a function  \n",
    "def function( num1, num2 ):  \n",
    "    print(\"num1 is: \", num1)  \n",
    "    print(\"num2 is: \", num2)  \n",
    "  \n",
    "# Calling function and passing two arguments out of order, we need num1 to be 20 and num2 to be 30  \n",
    "print( \"Passing out of order arguments\" )  \n",
    "function( 30, 20 ) \n",
    "  \n",
    "# Calling function and passing only one argument  \n",
    "print( \"Passing only one argument\" )  \n",
    "'''MARK HERE '''\n",
    "try:  \n",
    "    function( 30 )  \n",
    "except:  \n",
    "    print( \"Function needs two positional arguments\" )  "
   ]
  },
  {
   "cell_type": "code",
   "execution_count": 26,
   "id": "d3b08a7e",
   "metadata": {},
   "outputs": [
    {
     "name": "stdout",
     "output_type": "stream",
     "text": [
      "['PYTHON', 'FUNCTIONS', 'TUTORIAL']\n"
     ]
    }
   ],
   "source": [
    "'''\n",
    "Variable-Length Arguments\n",
    "We can use special characters in Python functions to pass as many arguments as we want in a function. \n",
    "There are two types of characters that we can use for this purpose:\n",
    "    *args -These are Non-Keyword Arguments\n",
    "    **kwargs - These are Keyword Arguments.\n",
    "Here is an example to clarify Variable length arguments\n",
    "'''\n",
    "# Python code to demonstrate the use of variable-length arguments  \n",
    "   \n",
    "# Defining a function  \n",
    "def function( *args_list ):  \n",
    "    ans = []  \n",
    "    for l in args_list:  \n",
    "        ans.append( l.upper() )  \n",
    "    return ans  \n",
    "\n",
    "# Passing args arguments  \n",
    "obj = function('Python', 'Functions', 'tutorial')  \n",
    "print( obj )  \n"
   ]
  },
  {
   "cell_type": "code",
   "execution_count": 27,
   "id": "eed49400",
   "metadata": {},
   "outputs": [
    {
     "name": "stdout",
     "output_type": "stream",
     "text": [
      "[['First', 'Python'], ['Second', 'Functions'], ['Third', 'Tutorial']]\n"
     ]
    }
   ],
   "source": [
    "# defining a function  \n",
    "def function( **kargs_list ): \n",
    "    ans = []  \n",
    "    for key, value in kargs_list.items():  \n",
    "        ans.append([key, value])  \n",
    "    return ans  \n",
    "\n",
    "# Paasing kwargs arguments  \n",
    "obj1 = function(First = \"Python\", Second = \"Functions\", Third = \"Tutorial\")  \n",
    "print(obj1)  "
   ]
  },
  {
   "cell_type": "code",
   "execution_count": 30,
   "id": "fded1b2b",
   "metadata": {},
   "outputs": [
    {
     "name": "stdout",
     "output_type": "stream",
     "text": [
      "With return statement\n",
      "1521\n",
      "Without return statement\n",
      "None\n"
     ]
    }
   ],
   "source": [
    "'''\n",
    "return Statement\n",
    "\n",
    "We write a return statement in a function to leave a function and give the calculated value when a defined function is called.\n",
    "Python code to demonstrate the use of return statements\n",
    "Syntax:\n",
    "\n",
    "    return < expression to be returned as output >  \n",
    "'''\n",
    "\n",
    "   \n",
    "  \n",
    "# Defining a function with return statement  \n",
    "def square( num ):\n",
    "    return num**2  \n",
    "   \n",
    "# Calling function and passing arguments.  \n",
    "print( \"With return statement\" )  \n",
    "print( square( 39 ) )  \n",
    "  \n",
    "# Defining a function without return statement   \n",
    "def square( num ):\n",
    "    num**2   \n",
    "  \n",
    "# Calling function and passing arguments.  \n",
    "print( \"Without return statement\" )  \n",
    "print( square( 39 ) )  "
   ]
  },
  {
   "cell_type": "code",
   "execution_count": 57,
   "id": "fd1de4f2",
   "metadata": {},
   "outputs": [
    {
     "name": "stdout",
     "output_type": "stream",
     "text": [
      "[['a', 1], ['b', 2], ['c', 3]]\n"
     ]
    }
   ],
   "source": [
    "def fun( **args ): \n",
    "    ans = []  \n",
    "    for key, value in args.items():  \n",
    "        ans.append([key, value])  \n",
    "    return ans  \n",
    "\n",
    "# Paasing kwargs arguments  \n",
    "obj1 = fun(a = 1, b = 2, c = 3)  \n",
    "print(obj1)  \n",
    "    "
   ]
  },
  {
   "cell_type": "code",
   "execution_count": 59,
   "id": "8ed5d432",
   "metadata": {},
   "outputs": [
    {
     "name": "stdout",
     "output_type": "stream",
     "text": [
      "[['a', 1], ['b', 2], ['c', 3]]\n"
     ]
    }
   ],
   "source": [
    "def d(**a):\n",
    "    ans=[]\n",
    "    for key,value in a.items():\n",
    "        ans.append([key,value])\n",
    "    return ans\n",
    "s=fun(a=1,b=2,c=3)\n",
    "print(s)"
   ]
  },
  {
   "cell_type": "code",
   "execution_count": 64,
   "id": "41870cc2",
   "metadata": {},
   "outputs": [
    {
     "name": "stdout",
     "output_type": "stream",
     "text": [
      "Value of the function is :  50\n",
      "Value of the function is :  90\n"
     ]
    }
   ],
   "source": [
    "#The Anonymous Functions\n",
    "'''\n",
    "Syntax\n",
    "\n",
    "Lambda functions have exactly one line in their syntax:\n",
    "\n",
    "    lambda [argument1 [,argument2... .argumentn]] : expression  \n",
    "\n",
    "\n",
    "These types of Python functions are anonymous since we do not declare them, as we declare usual functions, \n",
    "using the def keyword. We can use the lambda keyword to define the short, single output, anonymous functions.\n",
    "Lambda expressions can accept an unlimited number of arguments; however, they only return one value as the result of the \n",
    "function. They can't have numerous expressions or instructions in them. Since lambda needs an expression, an anonymous function\n",
    "cannot be directly called to print. Lambda functions contain their unique local domain, meaning they can only reference \n",
    "variables in their argument list and the global domain name. Although lambda expressions seem to be a one-line representation\n",
    "of a function, they are not like inline expressions in C and C++, which pass function stack allocations at execution for \n",
    "efficiency concerns.\n",
    "\n",
    "'''\n",
    "lambda_ = lambda argument1, argument2: argument1 + argument2;  \n",
    "  \n",
    "# Calling the function and passing values  \n",
    "print( \"Value of the function is : \", lambda_( 20, 30 ) )  \n",
    "print( \"Value of the function is : \", lambda_( 40, 50 ) )  "
   ]
  },
  {
   "cell_type": "code",
   "execution_count": 1,
   "id": "0f09e2e1",
   "metadata": {},
   "outputs": [
    {
     "name": "stdout",
     "output_type": "stream",
     "text": [
      "Using function defined with `def` keyword, cube: 125\n",
      "Using lambda function, cube: 125\n"
     ]
    }
   ],
   "source": [
    "def cube(y):\n",
    "\treturn y*y*y\n",
    "\n",
    "\n",
    "def lambda_cube(y): return y*y*y\n",
    "\n",
    "\n",
    "# using function defined\n",
    "# using def keyword\n",
    "print(\"Using function defined with `def` keyword, cube:\", cube(5))\n",
    "\n",
    "# using the lambda function\n",
    "print(\"Using lambda function, cube:\", lambda_cube(5))\n"
   ]
  },
  {
   "cell_type": "code",
   "execution_count": 3,
   "id": "fcc10d7f",
   "metadata": {},
   "outputs": [
    {
     "name": "stdout",
     "output_type": "stream",
     "text": [
      "Value of num inside the function:  30\n",
      "Value of num outside the function: 20\n"
     ]
    }
   ],
   "source": [
    "#Scope and Lifetime of Variables\n",
    "#defining a function to print a number.  \n",
    "def number( ):  \n",
    "    num = 30  \n",
    "    print( \"Value of num inside the function: \", num)  \n",
    "      \n",
    "num = 20  \n",
    "number()  \n",
    "print( \"Value of num outside the function:\", num)  "
   ]
  },
  {
   "cell_type": "code",
   "execution_count": 4,
   "id": "9d237b04",
   "metadata": {},
   "outputs": [
    {
     "name": "stdout",
     "output_type": "stream",
     "text": [
      "Python functions tutorial\n"
     ]
    }
   ],
   "source": [
    "#Python Function within Another Function\n",
    "# Python code to show how to access variables of a nested functions  \n",
    "# defining a nested function  \n",
    "def function1():  \n",
    "    string = 'Python functions tutorial'  \n",
    "    def function2():  \n",
    "        print( string )  \n",
    "    function2()  \n",
    "function1()  "
   ]
  },
  {
   "cell_type": "code",
   "execution_count": null,
   "id": "08ba8af0",
   "metadata": {},
   "outputs": [],
   "source": []
  }
 ],
 "metadata": {
  "kernelspec": {
   "display_name": "Python 3.10.4 64-bit",
   "language": "python",
   "name": "python3"
  },
  "language_info": {
   "codemirror_mode": {
    "name": "ipython",
    "version": 3
   },
   "file_extension": ".py",
   "mimetype": "text/x-python",
   "name": "python",
   "nbconvert_exporter": "python",
   "pygments_lexer": "ipython3",
   "version": "3.10.4"
  },
  "vscode": {
   "interpreter": {
    "hash": "e6763ba6110e050d0e6d4dc5757df4d9377869df6777c500c615f7546a6ecc95"
   }
  }
 },
 "nbformat": 4,
 "nbformat_minor": 5
}
